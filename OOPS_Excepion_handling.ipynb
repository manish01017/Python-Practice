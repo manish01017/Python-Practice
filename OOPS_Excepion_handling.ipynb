{
 "cells": [
  {
   "cell_type": "code",
   "execution_count": 1,
   "metadata": {
    "id": "DzfWX-shQJiW"
   },
   "outputs": [],
   "source": [
    "class car:\n",
    "  def __init__(self,windows,doors,enginetype):\n",
    "    self.windows=windows\n",
    "    self.doors=doors\n",
    "    self.enginetype=enginetype\n",
    "  def self_driving(self): ##self represents the instance of car (Car1,car2)\n",
    "    print(\"This car runs on {}\".format(self.enginetype))\n"
   ]
  },
  {
   "cell_type": "markdown",
   "metadata": {},
   "source": []
  },
  {
   "cell_type": "code",
   "execution_count": 2,
   "metadata": {
    "id": "pMiHr80ESuQQ"
   },
   "outputs": [],
   "source": [
    "car1=car(3,4,\"petrol\")\n",
    "car2=car(4,5,\"diesel\")"
   ]
  },
  {
   "cell_type": "code",
   "execution_count": 3,
   "metadata": {
    "colab": {
     "base_uri": "https://localhost:8080/",
     "height": 35
    },
    "executionInfo": {
     "elapsed": 138,
     "status": "ok",
     "timestamp": 1693010626945,
     "user": {
      "displayName": "manish pandey",
      "userId": "09782073510778073535"
     },
     "user_tz": 240
    },
    "id": "R5USoNqvS2ja",
    "outputId": "93ddb548-a5bf-45c6-b972-412723a071c0"
   },
   "outputs": [
    {
     "data": {
      "text/plain": [
       "'diesel'"
      ]
     },
     "execution_count": 3,
     "metadata": {},
     "output_type": "execute_result"
    }
   ],
   "source": [
    "car2.enginetype"
   ]
  },
  {
   "cell_type": "code",
   "execution_count": 4,
   "metadata": {
    "colab": {
     "base_uri": "https://localhost:8080/"
    },
    "executionInfo": {
     "elapsed": 8,
     "status": "ok",
     "timestamp": 1693010870236,
     "user": {
      "displayName": "manish pandey",
      "userId": "09782073510778073535"
     },
     "user_tz": 240
    },
    "id": "NJrfKQOOTRNr",
    "outputId": "b8375ccd-c098-4fe6-dec9-470e6470b79a"
   },
   "outputs": [
    {
     "name": "stdout",
     "output_type": "stream",
     "text": [
      "This car runs on diesel\n"
     ]
    }
   ],
   "source": [
    "car2.self_driving()"
   ]
  },
  {
   "cell_type": "markdown",
   "metadata": {},
   "source": [
    "Difference between Error (stops the program) and Exception ( can be handled) ?\n",
    "\n"
   ]
  },
  {
   "cell_type": "markdown",
   "metadata": {
    "id": "_bR4uSp0Xrzs"
   },
   "source": [
    "**Exception Handling**\n"
   ]
  },
  {
   "cell_type": "code",
   "execution_count": 1,
   "metadata": {},
   "outputs": [
    {
     "name": "stdout",
     "output_type": "stream",
     "text": [
      "Some Problem may occur\n"
     ]
    }
   ],
   "source": [
    "a=10\n",
    "try:\n",
    "    a=b\n",
    "\n",
    "   ##Code block where exception can occur\n",
    "\n",
    "except:\n",
    "    print(\"Some Problem may occur\")"
   ]
  },
  {
   "cell_type": "code",
   "execution_count": 6,
   "metadata": {},
   "outputs": [
    {
     "ename": "NameError",
     "evalue": "name 'b' is not defined",
     "output_type": "error",
     "traceback": [
      "\u001b[31m---------------------------------------------------------------------------\u001b[39m",
      "\u001b[31mNameError\u001b[39m                                 Traceback (most recent call last)",
      "\u001b[36mCell\u001b[39m\u001b[36m \u001b[39m\u001b[32mIn[6]\u001b[39m\u001b[32m, line 1\u001b[39m\n\u001b[32m----> \u001b[39m\u001b[32m1\u001b[39m a=\u001b[43mb\u001b[49m\n",
      "\u001b[31mNameError\u001b[39m: name 'b' is not defined"
     ]
    }
   ],
   "source": [
    "a=b\n"
   ]
  },
  {
   "cell_type": "code",
   "execution_count": null,
   "metadata": {},
   "outputs": [
    {
     "name": "stdout",
     "output_type": "stream",
     "text": [
      "name 'b' is not defined\n"
     ]
    }
   ],
   "source": [
    " # to get the exact NameError exception message use Exception\n",
    "\n",
    "a=10\n",
    "try:\n",
    "    a=b\n",
    "\n",
    "   ##Code block where exception can occur\n",
    "except Exception as ex:\n",
    "    print(ex)"
   ]
  },
  {
   "cell_type": "code",
   "execution_count": 2,
   "metadata": {},
   "outputs": [
    {
     "name": "stdout",
     "output_type": "stream",
     "text": [
      "unsupported operand type(s) for +: 'int' and 'str'\n"
     ]
    }
   ],
   "source": [
    "# to modify the Nameerror message to the user\n",
    "a=10\n",
    "try:\n",
    "    a=1\n",
    "    b='s'\n",
    "    a+b\n",
    "\n",
    "   ##Code block where exception can occur\n",
    "except NameError as ex:\n",
    "    print('The user has not defined a variable')\n",
    "except Exception as ex:\n",
    "    print(ex)"
   ]
  },
  {
   "cell_type": "code",
   "execution_count": null,
   "metadata": {},
   "outputs": [
    {
     "ename": "TypeError",
     "evalue": "unsupported operand type(s) for +: 'int' and 'str'",
     "output_type": "error",
     "traceback": [
      "\u001b[31m---------------------------------------------------------------------------\u001b[39m",
      "\u001b[31mTypeError\u001b[39m                                 Traceback (most recent call last)",
      "\u001b[36mCell\u001b[39m\u001b[36m \u001b[39m\u001b[32mIn[13]\u001b[39m\u001b[32m, line 3\u001b[39m\n\u001b[32m      1\u001b[39m a=\u001b[32m1\u001b[39m\n\u001b[32m      2\u001b[39m b=\u001b[33m'\u001b[39m\u001b[33ms\u001b[39m\u001b[33m'\u001b[39m\n\u001b[32m----> \u001b[39m\u001b[32m3\u001b[39m \u001b[43ma\u001b[49m\u001b[43m+\u001b[49m\u001b[43mb\u001b[49m\n",
      "\u001b[31mTypeError\u001b[39m: unsupported operand type(s) for +: 'int' and 'str'"
     ]
    }
   ],
   "source": [
    "a=1\n",
    "b='s'\n",
    "a+b"
   ]
  },
  {
   "cell_type": "code",
   "execution_count": 7,
   "metadata": {},
   "outputs": [
    {
     "name": "stdout",
     "output_type": "stream",
     "text": [
      "Check the variable type\n"
     ]
    }
   ],
   "source": [
    "#to copy type error\n",
    "\n",
    "a=10\n",
    "try:\n",
    "    a=1\n",
    "    b='s'\n",
    "    a+b\n",
    "\n",
    "   ##Code block where exception can occur\n",
    "\n",
    "except TypeError as ex:\n",
    "    print('Check the variable type')\n",
    "except NameError as ex:\n",
    "    print('The user has not defined a variable')\n",
    "except Exception as ex:\n",
    "    print(ex)"
   ]
  },
  {
   "cell_type": "code",
   "execution_count": null,
   "metadata": {
    "colab": {
     "base_uri": "https://localhost:8080/"
    },
    "executionInfo": {
     "elapsed": 3797,
     "status": "ok",
     "timestamp": 1693014014914,
     "user": {
      "displayName": "manish pandey",
      "userId": "09782073510778073535"
     },
     "user_tz": 240
    },
    "id": "c8wUvkEpeWlE",
    "outputId": "d18f1ac9-58b8-4ad0-d08a-b88606ba95c5"
   },
   "outputs": [
    {
     "name": "stdout",
     "output_type": "stream",
     "text": [
      "Enter number 11\n",
      "Enter Number 20\n",
      "Please enter the number greater than 0\n",
      "2.0\n",
      "2\n",
      "It's done\n"
     ]
    }
   ],
   "source": [
    "try:\n",
    "  a=int(input(\"Enter number 1\"))\n",
    "  b=int(input(\"Enter Number 2\"))\n",
    "  c=a/b\n",
    "  d=a*b\n",
    "except ZeroDivisionError:\n",
    "  print(\"Please enter the number greater than 0\")\n",
    "except Exception as ex:\n",
    "  print(ex)\n",
    "else: # the block will not run if there's exception\n",
    "  print(c)\n",
    "  print(d)\n",
    "finally: ## comes to this block even when there's an exception\n",
    "  print(c)\n",
    "  print(d)\n",
    "  print(\"It's done\")\n"
   ]
  },
  {
   "cell_type": "markdown",
   "metadata": {
    "id": "htVlaeiVgM81"
   },
   "source": [
    "**CUSTOM EXCEPTION**"
   ]
  },
  {
   "cell_type": "code",
   "execution_count": 10,
   "metadata": {
    "id": "m3Uosdy2gS1G"
   },
   "outputs": [],
   "source": [
    "class Error(Exception): ##Inherit Exception class into Error Class\n",
    "  pass\n",
    "\n",
    "class dobexception(Error): ##Create Custom exception which handles date of birth \n",
    "  pass"
   ]
  },
  {
   "cell_type": "code",
   "execution_count": 9,
   "metadata": {
    "colab": {
     "base_uri": "https://localhost:8080/"
    },
    "executionInfo": {
     "elapsed": 2958,
     "status": "ok",
     "timestamp": 1693014528216,
     "user": {
      "displayName": "manish pandey",
      "userId": "09782073510778073535"
     },
     "user_tz": 240
    },
    "id": "bMCmFAZHgowf",
    "outputId": "5b2c81a9-6863-4d61-b152-bec50e045a39"
   },
   "outputs": [
    {
     "name": "stdout",
     "output_type": "stream",
     "text": [
      "You can't apply as your age is not valid\n",
      "Thanks for logging in  and providing details\n"
     ]
    }
   ],
   "source": [
    "try:\n",
    "  a=int(input(\"Enter Date of Birth\"))\n",
    "  age=2023-a\n",
    "  if age<20 & age>30:\n",
    "    print('Your age is valid. You can be admitted')\n",
    "  else:\n",
    "    raise dobexception  ##raise Custom exception\n",
    "except dobexception:\n",
    "  print(\"You can't apply as your age is not valid\")\n",
    "finally:\n",
    "  print(\"Thanks for logging in  and providing details\")\n",
    "\n",
    "\n"
   ]
  },
  {
   "cell_type": "markdown",
   "metadata": {
    "id": "1kglbKe2Eszu"
   },
   "source": [
    "**Class method**\n",
    "*used to update the class variables so that the instance can use the updated value**"
   ]
  },
  {
   "cell_type": "code",
   "execution_count": null,
   "metadata": {
    "executionInfo": {
     "elapsed": 6,
     "status": "ok",
     "timestamp": 1694536069311,
     "user": {
      "displayName": "manish pandey",
      "userId": "09782073510778073535"
     },
     "user_tz": 240
    },
    "id": "AzbESWO7D4kC"
   },
   "outputs": [],
   "source": [
    "class car:\n",
    "  base_price=100000\n",
    "  def __init__(self,windows,door,enginetype):\n",
    "    self.windows=windows\n",
    "    self.doors=door\n",
    "    self.enginetype=enginetype\n",
    "  @classmethod\n",
    "  def new_base_price(cls,inflation): ##cls refers to the class not the instance (used in methods)\n",
    "    cls.base_price=cls.base_price+ cls.base_price*inflation"
   ]
  },
  {
   "cell_type": "code",
   "execution_count": null,
   "metadata": {
    "executionInfo": {
     "elapsed": 301,
     "status": "ok",
     "timestamp": 1694536112363,
     "user": {
      "displayName": "manish pandey",
      "userId": "09782073510778073535"
     },
     "user_tz": 240
    },
    "id": "CJK8471mEkt0"
   },
   "outputs": [],
   "source": [
    "car1=car(4,3,\"petrol\")"
   ]
  },
  {
   "cell_type": "code",
   "execution_count": null,
   "metadata": {
    "colab": {
     "base_uri": "https://localhost:8080/"
    },
    "executionInfo": {
     "elapsed": 250,
     "status": "ok",
     "timestamp": 1694536113985,
     "user": {
      "displayName": "manish pandey",
      "userId": "09782073510778073535"
     },
     "user_tz": 240
    },
    "id": "MAykrUr1E66_",
    "outputId": "2b7161c4-b171-4121-f1cc-cc94d28ef57a"
   },
   "outputs": [
    {
     "data": {
      "text/plain": [
       "100000"
      ]
     },
     "execution_count": 3,
     "metadata": {},
     "output_type": "execute_result"
    }
   ],
   "source": [
    "car1.base_price"
   ]
  },
  {
   "cell_type": "code",
   "execution_count": null,
   "metadata": {
    "executionInfo": {
     "elapsed": 277,
     "status": "ok",
     "timestamp": 1694536118517,
     "user": {
      "displayName": "manish pandey",
      "userId": "09782073510778073535"
     },
     "user_tz": 240
    },
    "id": "GFQWpeSjE9Rh"
   },
   "outputs": [],
   "source": [
    "car.new_base_price(0.10) ## called by class, can be called by class object as python does not implement any restrictions."
   ]
  },
  {
   "cell_type": "code",
   "execution_count": null,
   "metadata": {
    "colab": {
     "base_uri": "https://localhost:8080/"
    },
    "executionInfo": {
     "elapsed": 346,
     "status": "ok",
     "timestamp": 1694536122420,
     "user": {
      "displayName": "manish pandey",
      "userId": "09782073510778073535"
     },
     "user_tz": 240
    },
    "id": "m1NFel4gFa5w",
    "outputId": "5f9b828f-120c-45d6-f2ef-e3befe017602"
   },
   "outputs": [
    {
     "data": {
      "text/plain": [
       "110000.0"
      ]
     },
     "execution_count": 5,
     "metadata": {},
     "output_type": "execute_result"
    }
   ],
   "source": [
    "car1.base_price"
   ]
  },
  {
   "cell_type": "code",
   "execution_count": null,
   "metadata": {
    "executionInfo": {
     "elapsed": 390,
     "status": "ok",
     "timestamp": 1694536134729,
     "user": {
      "displayName": "manish pandey",
      "userId": "09782073510778073535"
     },
     "user_tz": 240
    },
    "id": "ZN-jm94DFdms"
   },
   "outputs": [],
   "source": [
    "car2=car(4,3,\"diesel\")"
   ]
  },
  {
   "cell_type": "code",
   "execution_count": null,
   "metadata": {
    "colab": {
     "base_uri": "https://localhost:8080/"
    },
    "executionInfo": {
     "elapsed": 274,
     "status": "ok",
     "timestamp": 1694536136230,
     "user": {
      "displayName": "manish pandey",
      "userId": "09782073510778073535"
     },
     "user_tz": 240
    },
    "id": "vhBy4BDdFiiE",
    "outputId": "cf077d19-cce4-4324-aac5-f22ff712a3f3"
   },
   "outputs": [
    {
     "data": {
      "text/plain": [
       "110000.0"
      ]
     },
     "execution_count": 7,
     "metadata": {},
     "output_type": "execute_result"
    }
   ],
   "source": [
    "car2.base_price"
   ]
  },
  {
   "cell_type": "markdown",
   "metadata": {
    "id": "CtdYzhTrL0AB"
   },
   "source": [
    "**Private Protected and Public Variables**\n",
    "\n",
    "*Public : Can be accessed and modified from  anywhere*\n",
    "\n",
    "*Private: Cannot be accessed and modified out side the class (declared by __variablename*\n",
    "\n",
    "*Protected : Can be accessed and modified by the sub class inheriting the parent class (represented by _variable name)"
   ]
  },
  {
   "cell_type": "markdown",
   "metadata": {
    "id": "tyt0YumGMbjA"
   },
   "source": [
    "**Public Variables**"
   ]
  },
  {
   "cell_type": "code",
   "execution_count": 3,
   "metadata": {
    "id": "ZTB1fomCMaeX"
   },
   "outputs": [],
   "source": [
    "class Car:\n",
    "  def __init__(self,doors,windows,enginetype):\n",
    "    self.windows=windows ##Public variables\n",
    "    self.doors=doors\n",
    "    self.enginetype=enginetype\n",
    "  def self_drive(self):\n",
    "    print(\"The Car has {} doors\".format(self.doors))"
   ]
  },
  {
   "cell_type": "code",
   "execution_count": 4,
   "metadata": {
    "id": "jni8Y_1kNDuq"
   },
   "outputs": [],
   "source": [
    "audi=Car(4,3,\"diesel\")"
   ]
  },
  {
   "cell_type": "code",
   "execution_count": 5,
   "metadata": {
    "colab": {
     "base_uri": "https://localhost:8080/"
    },
    "executionInfo": {
     "elapsed": 144,
     "status": "ok",
     "timestamp": 1693059444914,
     "user": {
      "displayName": "manish pandey",
      "userId": "09782073510778073535"
     },
     "user_tz": 240
    },
    "id": "lVdoyAX6NNGL",
    "outputId": "8268fe38-4523-4f00-f6ca-4b7391909280"
   },
   "outputs": [
    {
     "data": {
      "text/plain": [
       "4"
      ]
     },
     "execution_count": 5,
     "metadata": {},
     "output_type": "execute_result"
    }
   ],
   "source": [
    "audi.doors"
   ]
  },
  {
   "cell_type": "code",
   "execution_count": 6,
   "metadata": {
    "id": "QIm5M1onNQC5"
   },
   "outputs": [],
   "source": [
    "audi.doors=6 ##Updating the value of public variable"
   ]
  },
  {
   "cell_type": "code",
   "execution_count": 7,
   "metadata": {
    "colab": {
     "base_uri": "https://localhost:8080/"
    },
    "executionInfo": {
     "elapsed": 231,
     "status": "ok",
     "timestamp": 1693059488067,
     "user": {
      "displayName": "manish pandey",
      "userId": "09782073510778073535"
     },
     "user_tz": 240
    },
    "id": "1sIVHF9TNV4h",
    "outputId": "76ea6e06-aec7-479b-f58e-0da001583cc2"
   },
   "outputs": [
    {
     "data": {
      "text/plain": [
       "6"
      ]
     },
     "execution_count": 7,
     "metadata": {},
     "output_type": "execute_result"
    }
   ],
   "source": [
    "audi.doors"
   ]
  },
  {
   "cell_type": "code",
   "execution_count": 8,
   "metadata": {
    "colab": {
     "base_uri": "https://localhost:8080/"
    },
    "executionInfo": {
     "elapsed": 232,
     "status": "ok",
     "timestamp": 1693059534881,
     "user": {
      "displayName": "manish pandey",
      "userId": "09782073510778073535"
     },
     "user_tz": 240
    },
    "id": "zXW40HMgNgcZ",
    "outputId": "27783e60-837e-4361-b4ad-6ebba7e60ed5"
   },
   "outputs": [
    {
     "data": {
      "text/plain": [
       "['__class__',\n",
       " '__delattr__',\n",
       " '__dict__',\n",
       " '__dir__',\n",
       " '__doc__',\n",
       " '__eq__',\n",
       " '__format__',\n",
       " '__ge__',\n",
       " '__getattribute__',\n",
       " '__getstate__',\n",
       " '__gt__',\n",
       " '__hash__',\n",
       " '__init__',\n",
       " '__init_subclass__',\n",
       " '__le__',\n",
       " '__lt__',\n",
       " '__module__',\n",
       " '__ne__',\n",
       " '__new__',\n",
       " '__reduce__',\n",
       " '__reduce_ex__',\n",
       " '__repr__',\n",
       " '__setattr__',\n",
       " '__sizeof__',\n",
       " '__str__',\n",
       " '__subclasshook__',\n",
       " '__weakref__',\n",
       " 'doors',\n",
       " 'enginetype',\n",
       " 'self_drive',\n",
       " 'windows']"
      ]
     },
     "execution_count": 8,
     "metadata": {},
     "output_type": "execute_result"
    }
   ],
   "source": [
    "dir(audi) ##For seeing the variables linked to the instance"
   ]
  },
  {
   "cell_type": "markdown",
   "metadata": {
    "id": "3lxpF2euNa5r"
   },
   "source": [
    "**Protected**"
   ]
  },
  {
   "cell_type": "code",
   "execution_count": 9,
   "metadata": {
    "id": "wFgip7dZNdnN"
   },
   "outputs": [],
   "source": [
    "class Car:\n",
    "  def __init__(self,doors,windows,enginetype):\n",
    "    self._windows=windows ##Protected variables\n",
    "    self._doors=doors\n",
    "    self._enginetype=enginetype\n",
    "  def self_drive(self):\n",
    "    print(\"The Vehicle has {} doors\".format(self.doors))"
   ]
  },
  {
   "cell_type": "code",
   "execution_count": 11,
   "metadata": {
    "id": "ykiz72wUNrQI"
   },
   "outputs": [],
   "source": [
    "audi=Car(4,3,\"petrol\")"
   ]
  },
  {
   "cell_type": "code",
   "execution_count": 13,
   "metadata": {},
   "outputs": [
    {
     "data": {
      "text/plain": [
       "['__class__',\n",
       " '__delattr__',\n",
       " '__dict__',\n",
       " '__dir__',\n",
       " '__doc__',\n",
       " '__eq__',\n",
       " '__format__',\n",
       " '__ge__',\n",
       " '__getattribute__',\n",
       " '__getstate__',\n",
       " '__gt__',\n",
       " '__hash__',\n",
       " '__init__',\n",
       " '__init_subclass__',\n",
       " '__le__',\n",
       " '__lt__',\n",
       " '__module__',\n",
       " '__ne__',\n",
       " '__new__',\n",
       " '__reduce__',\n",
       " '__reduce_ex__',\n",
       " '__repr__',\n",
       " '__setattr__',\n",
       " '__sizeof__',\n",
       " '__str__',\n",
       " '__subclasshook__',\n",
       " '__weakref__',\n",
       " '_doors',\n",
       " '_enginetype',\n",
       " '_windows',\n",
       " 'self_drive']"
      ]
     },
     "execution_count": 13,
     "metadata": {},
     "output_type": "execute_result"
    }
   ],
   "source": [
    "dir(audi)"
   ]
  },
  {
   "cell_type": "code",
   "execution_count": 12,
   "metadata": {
    "id": "U0yl9F2pN2bk"
   },
   "outputs": [],
   "source": [
    "audi._doors=4 ## Python do not place any restrictions on updating the protected variables but as a developer you should update it from the sub class inheriting this class"
   ]
  },
  {
   "cell_type": "code",
   "execution_count": null,
   "metadata": {
    "colab": {
     "base_uri": "https://localhost:8080/"
    },
    "executionInfo": {
     "elapsed": 173,
     "status": "ok",
     "timestamp": 1693060025491,
     "user": {
      "displayName": "manish pandey",
      "userId": "09782073510778073535"
     },
     "user_tz": 240
    },
    "id": "E7uJ-nFTN9jN",
    "outputId": "95d11e1d-938e-42a1-96c7-80000e9cda62"
   },
   "outputs": [
    {
     "data": {
      "text/plain": [
       "4"
      ]
     },
     "execution_count": 34,
     "metadata": {},
     "output_type": "execute_result"
    }
   ],
   "source": [
    "audi._doors"
   ]
  },
  {
   "cell_type": "code",
   "execution_count": null,
   "metadata": {
    "colab": {
     "base_uri": "https://localhost:8080/"
    },
    "executionInfo": {
     "elapsed": 167,
     "status": "ok",
     "timestamp": 1693060082142,
     "user": {
      "displayName": "manish pandey",
      "userId": "09782073510778073535"
     },
     "user_tz": 240
    },
    "id": "KsQrmMh8OFjL",
    "outputId": "0443b9b6-ffb4-41ec-d983-17f622c9a475"
   },
   "outputs": [
    {
     "data": {
      "text/plain": [
       "['__class__',\n",
       " '__delattr__',\n",
       " '__dict__',\n",
       " '__dir__',\n",
       " '__doc__',\n",
       " '__eq__',\n",
       " '__format__',\n",
       " '__ge__',\n",
       " '__getattribute__',\n",
       " '__gt__',\n",
       " '__hash__',\n",
       " '__init__',\n",
       " '__init_subclass__',\n",
       " '__le__',\n",
       " '__lt__',\n",
       " '__module__',\n",
       " '__ne__',\n",
       " '__new__',\n",
       " '__reduce__',\n",
       " '__reduce_ex__',\n",
       " '__repr__',\n",
       " '__setattr__',\n",
       " '__sizeof__',\n",
       " '__str__',\n",
       " '__subclasshook__',\n",
       " '__weakref__',\n",
       " '_doors',\n",
       " '_enginetype',\n",
       " '_windows',\n",
       " 'self_drive']"
      ]
     },
     "execution_count": 35,
     "metadata": {},
     "output_type": "execute_result"
    }
   ],
   "source": [
    "dir(Car1)"
   ]
  },
  {
   "cell_type": "code",
   "execution_count": 14,
   "metadata": {
    "id": "ufD1zeXgPvxX"
   },
   "outputs": [],
   "source": [
    "##Creating Sub class inheriting the parent class\n",
    "class Truck(Car):\n",
    "  def __init__(self,doors,windows,enginetype,horsepower):\n",
    "    super().__init__(windows,doors,enginetype) ##inheriting the variables of the parent class using Super() and calling the INIT constructor from parent class\n",
    "    self.horsepower=horsepower\n",
    "\n"
   ]
  },
  {
   "cell_type": "code",
   "execution_count": 15,
   "metadata": {
    "id": "krZ1d9BcQVvg"
   },
   "outputs": [],
   "source": [
    "Truck1=Truck(4,3,\"diesel\",1000)"
   ]
  },
  {
   "cell_type": "code",
   "execution_count": 16,
   "metadata": {
    "colab": {
     "base_uri": "https://localhost:8080/"
    },
    "executionInfo": {
     "elapsed": 133,
     "status": "ok",
     "timestamp": 1693060283494,
     "user": {
      "displayName": "manish pandey",
      "userId": "09782073510778073535"
     },
     "user_tz": 240
    },
    "id": "_2zZhZwVQaWc",
    "outputId": "1bb4db8e-72b3-4dc5-b7ba-e03d194e9601"
   },
   "outputs": [
    {
     "data": {
      "text/plain": [
       "['__class__',\n",
       " '__delattr__',\n",
       " '__dict__',\n",
       " '__dir__',\n",
       " '__doc__',\n",
       " '__eq__',\n",
       " '__format__',\n",
       " '__ge__',\n",
       " '__getattribute__',\n",
       " '__getstate__',\n",
       " '__gt__',\n",
       " '__hash__',\n",
       " '__init__',\n",
       " '__init_subclass__',\n",
       " '__le__',\n",
       " '__lt__',\n",
       " '__module__',\n",
       " '__ne__',\n",
       " '__new__',\n",
       " '__reduce__',\n",
       " '__reduce_ex__',\n",
       " '__repr__',\n",
       " '__setattr__',\n",
       " '__sizeof__',\n",
       " '__str__',\n",
       " '__subclasshook__',\n",
       " '__weakref__',\n",
       " '_doors',\n",
       " '_enginetype',\n",
       " '_windows',\n",
       " 'horsepower',\n",
       " 'self_drive']"
      ]
     },
     "execution_count": 16,
     "metadata": {},
     "output_type": "execute_result"
    }
   ],
   "source": [
    "dir(Truck1)"
   ]
  },
  {
   "cell_type": "code",
   "execution_count": 17,
   "metadata": {
    "id": "seffVbLlQd9g"
   },
   "outputs": [],
   "source": [
    "Truck1._doors=5"
   ]
  },
  {
   "cell_type": "code",
   "execution_count": 19,
   "metadata": {},
   "outputs": [
    {
     "data": {
      "text/plain": [
       "5"
      ]
     },
     "execution_count": 19,
     "metadata": {},
     "output_type": "execute_result"
    }
   ],
   "source": [
    "Truck1._doors"
   ]
  },
  {
   "cell_type": "code",
   "execution_count": null,
   "metadata": {
    "colab": {
     "base_uri": "https://localhost:8080/"
    },
    "executionInfo": {
     "elapsed": 160,
     "status": "ok",
     "timestamp": 1693060330187,
     "user": {
      "displayName": "manish pandey",
      "userId": "09782073510778073535"
     },
     "user_tz": 240
    },
    "id": "C4lNV2YRQk5p",
    "outputId": "f5af9c26-5a18-4860-cabf-712dbb896677"
   },
   "outputs": [
    {
     "data": {
      "text/plain": [
       "['__annotations__',\n",
       " '__class__',\n",
       " '__delattr__',\n",
       " '__dict__',\n",
       " '__dir__',\n",
       " '__doc__',\n",
       " '__eq__',\n",
       " '__format__',\n",
       " '__ge__',\n",
       " '__getattribute__',\n",
       " '__gt__',\n",
       " '__hash__',\n",
       " '__init__',\n",
       " '__init_subclass__',\n",
       " '__le__',\n",
       " '__lt__',\n",
       " '__module__',\n",
       " '__ne__',\n",
       " '__new__',\n",
       " '__reduce__',\n",
       " '__reduce_ex__',\n",
       " '__repr__',\n",
       " '__setattr__',\n",
       " '__sizeof__',\n",
       " '__str__',\n",
       " '__subclasshook__',\n",
       " '__weakref__',\n",
       " '_doors',\n",
       " '_enginetype',\n",
       " '_windows',\n",
       " 'horsepower',\n",
       " 'self_drive']"
      ]
     },
     "execution_count": 43,
     "metadata": {},
     "output_type": "execute_result"
    }
   ],
   "source": [
    "dir(Truck1)"
   ]
  },
  {
   "cell_type": "markdown",
   "metadata": {
    "id": "cSi7AyvkQpVN"
   },
   "source": [
    "**Private**"
   ]
  },
  {
   "cell_type": "code",
   "execution_count": 20,
   "metadata": {
    "id": "cj4Y6eyqQodE"
   },
   "outputs": [],
   "source": [
    "class Car:\n",
    "  def __init__(self,doors,windows,enginetype):\n",
    "    self.__windows=windows ##Private variables\n",
    "    self.__doors=doors\n",
    "    self.__enginetype=enginetype\n",
    "  def self_drive(self):\n",
    "    print(\"The Vehicle has {} doors\".format(self.doors))"
   ]
  },
  {
   "cell_type": "code",
   "execution_count": 21,
   "metadata": {},
   "outputs": [],
   "source": [
    "audi=Car(4,4,\"Dielsel\")"
   ]
  },
  {
   "cell_type": "code",
   "execution_count": null,
   "metadata": {},
   "outputs": [
    {
     "data": {
      "text/plain": [
       "['_Car__doors',\n",
       " '_Car__enginetype',\n",
       " '_Car__windows',\n",
       " '__class__',\n",
       " '__delattr__',\n",
       " '__dict__',\n",
       " '__dir__',\n",
       " '__doc__',\n",
       " '__eq__',\n",
       " '__format__',\n",
       " '__ge__',\n",
       " '__getattribute__',\n",
       " '__getstate__',\n",
       " '__gt__',\n",
       " '__hash__',\n",
       " '__init__',\n",
       " '__init_subclass__',\n",
       " '__le__',\n",
       " '__lt__',\n",
       " '__module__',\n",
       " '__ne__',\n",
       " '__new__',\n",
       " '__reduce__',\n",
       " '__reduce_ex__',\n",
       " '__repr__',\n",
       " '__setattr__',\n",
       " '__sizeof__',\n",
       " '__str__',\n",
       " '__subclasshook__',\n",
       " '__weakref__',\n",
       " 'self_drive']"
      ]
     },
     "execution_count": 22,
     "metadata": {},
     "output_type": "execute_result"
    }
   ],
   "source": [
    "# you won't see the private variables , it will be showsn as _Car__doors ( the values cannot be changed from outside class )\n",
    "\n",
    "dir(audi)"
   ]
  },
  {
   "cell_type": "code",
   "execution_count": null,
   "metadata": {},
   "outputs": [],
   "source": [
    "#Although the values can be overridden but the variable is a hint, it can be modified outside the class"
   ]
  },
  {
   "cell_type": "markdown",
   "metadata": {
    "id": "uyZp-KsVYTlB"
   },
   "source": [
    "**Assert Statement**\n",
    "\n",
    "*used to check the logical expression, give Assertionerror if the logical expression is false*\n",
    "\n",
    "#### The program execution proceeds only if the expression is true and raises AssertionError when it is false."
   ]
  },
  {
   "cell_type": "code",
   "execution_count": 11,
   "metadata": {
    "colab": {
     "base_uri": "https://localhost:8080/"
    },
    "executionInfo": {
     "elapsed": 2458,
     "status": "ok",
     "timestamp": 1693062561572,
     "user": {
      "displayName": "manish pandey",
      "userId": "09782073510778073535"
     },
     "user_tz": 240
    },
    "id": "dGz_ECpAYVk7",
    "outputId": "41868f1a-e95e-4d16-ab93-07928abe5296"
   },
   "outputs": [
    {
     "name": "stdout",
     "output_type": "stream",
     "text": [
      "The number is even\n"
     ]
    }
   ],
   "source": [
    "try:\n",
    "  a=int(input(\"Enter the Number\"))\n",
    "  assert a%2==0\n",
    "  print(\"The number is even\")\n",
    "except AssertionError:\n",
    "        print(\"The number is odd\")"
   ]
  },
  {
   "cell_type": "markdown",
   "metadata": {
    "id": "iMUjHj9sZMb0"
   },
   "source": [
    "**ITERATORS ,ITERABLES, GENERATORS**\n",
    "\n",
    "*Iterators: uses dynamic memory allocation of elements, called by iter keyword and can be traversed using next keyword*\n",
    "\n",
    "*Generators: A function is used to create a generator, similar to iterator and uses yield function to store the local variables*"
   ]
  },
  {
   "cell_type": "code",
   "execution_count": 12,
   "metadata": {
    "colab": {
     "base_uri": "https://localhost:8080/"
    },
    "executionInfo": {
     "elapsed": 147,
     "status": "ok",
     "timestamp": 1693063688895,
     "user": {
      "displayName": "manish pandey",
      "userId": "09782073510778073535"
     },
     "user_tz": 240
    },
    "id": "VT87WqjXdMkD",
    "outputId": "6eeff2e7-349f-46b2-dcef-468aa4cd972b"
   },
   "outputs": [
    {
     "name": "stdout",
     "output_type": "stream",
     "text": [
      "1\n",
      "2\n",
      "3\n",
      "4\n",
      "5\n",
      "6\n"
     ]
    }
   ],
   "source": [
    "##Iterables as we are able to iterate through this collection\n",
    "\n",
    "lst=[1,2,3,4,5,6]\n",
    "\n",
    "for i in lst:\n",
    "  print(i)\n"
   ]
  },
  {
   "cell_type": "code",
   "execution_count": 26,
   "metadata": {
    "id": "5ueE9U3Sdb3W"
   },
   "outputs": [],
   "source": [
    "##Iterator is initialized using iter\n",
    "\n",
    "iterator=iter(lst)"
   ]
  },
  {
   "cell_type": "code",
   "execution_count": 27,
   "metadata": {
    "colab": {
     "base_uri": "https://localhost:8080/"
    },
    "executionInfo": {
     "elapsed": 234,
     "status": "ok",
     "timestamp": 1693063806809,
     "user": {
      "displayName": "manish pandey",
      "userId": "09782073510778073535"
     },
     "user_tz": 240
    },
    "id": "AByybj6edhfW",
    "outputId": "060b660e-956e-4d05-f70a-6389d335ebf9"
   },
   "outputs": [
    {
     "data": {
      "text/plain": [
       "1"
      ]
     },
     "execution_count": 27,
     "metadata": {},
     "output_type": "execute_result"
    }
   ],
   "source": [
    "next(iterator) #used to traverse the elements and memory is initialised one by one and gives error when the last element is reached"
   ]
  },
  {
   "cell_type": "code",
   "execution_count": null,
   "metadata": {},
   "outputs": [
    {
     "name": "stdout",
     "output_type": "stream",
     "text": [
      "2\n",
      "3\n",
      "4\n",
      "5\n",
      "6\n"
     ]
    }
   ],
   "source": [
    "#for loop can be used to iterate as well but check it started with 2 as we have already iterated till 1\n",
    "\n",
    "for i in iterator:\n",
    "    print(i)"
   ]
  },
  {
   "cell_type": "code",
   "execution_count": 5,
   "metadata": {
    "id": "uBJox7mTd9UO"
   },
   "outputs": [],
   "source": [
    "##Problem\n",
    "def square(n):\n",
    "  for i in range(n):\n",
    "    return (i*i)  # will return only first value as return stops and return value after first iteration"
   ]
  },
  {
   "cell_type": "code",
   "execution_count": 6,
   "metadata": {
    "colab": {
     "base_uri": "https://localhost:8080/"
    },
    "executionInfo": {
     "elapsed": 151,
     "status": "ok",
     "timestamp": 1693064077260,
     "user": {
      "displayName": "manish pandey",
      "userId": "09782073510778073535"
     },
     "user_tz": 240
    },
    "id": "Ju6BEOWne1pU",
    "outputId": "8ed8fefe-63ab-4b33-ff3e-f38bd0885af6"
   },
   "outputs": [
    {
     "data": {
      "text/plain": [
       "0"
      ]
     },
     "execution_count": 6,
     "metadata": {},
     "output_type": "execute_result"
    }
   ],
   "source": [
    "square(4)"
   ]
  },
  {
   "cell_type": "code",
   "execution_count": 3,
   "metadata": {
    "id": "M0CYkwCweqce"
   },
   "outputs": [],
   "source": [
    "##Generator\n",
    "def square(n):\n",
    "  for i in range(n):\n",
    "    yield i**2 #Saves the local variable in each iteration\n"
   ]
  },
  {
   "cell_type": "code",
   "execution_count": 4,
   "metadata": {
    "colab": {
     "base_uri": "https://localhost:8080/"
    },
    "executionInfo": {
     "elapsed": 184,
     "status": "ok",
     "timestamp": 1693064293400,
     "user": {
      "displayName": "manish pandey",
      "userId": "09782073510778073535"
     },
     "user_tz": 240
    },
    "id": "41G0etlXfkiW",
    "outputId": "c4fdad24-bc13-438f-e951-ae8371c5e215"
   },
   "outputs": [
    {
     "name": "stdout",
     "output_type": "stream",
     "text": [
      "0\n",
      "1\n",
      "4\n"
     ]
    }
   ],
   "source": [
    "for i  in square(3):\n",
    "  print(i)"
   ]
  },
  {
   "cell_type": "markdown",
   "metadata": {},
   "source": [
    "## Difference between iterator and generator\n",
    "\n",
    "#### 1. To creae iterator we use iter() function\n",
    "#### 2. Generator uses the yield keyword and it saves the local variable and also return it\n",
    "#### 3. Generator in Python usually helps us to write fast and compact code.\n",
    "#### 4. Python iterator is much more memory efficient."
   ]
  },
  {
   "cell_type": "markdown",
   "metadata": {
    "id": "L8AtMQZG0Y7w"
   },
   "source": [
    "**Decorator**\n",
    "\n",
    "*Calling a function and passing other function as parameter*"
   ]
  },
  {
   "cell_type": "markdown",
   "metadata": {},
   "source": [
    "### Function Copy"
   ]
  },
  {
   "cell_type": "code",
   "execution_count": 38,
   "metadata": {},
   "outputs": [],
   "source": [
    "def welcome():\n",
    "    return 'Welcome to Manish Pandey class'"
   ]
  },
  {
   "cell_type": "code",
   "execution_count": 39,
   "metadata": {},
   "outputs": [],
   "source": [
    "wel=welcome()"
   ]
  },
  {
   "cell_type": "code",
   "execution_count": 40,
   "metadata": {},
   "outputs": [
    {
     "name": "stdout",
     "output_type": "stream",
     "text": [
      "Welcome to Manish Pandey class\n"
     ]
    }
   ],
   "source": [
    "print(wel)"
   ]
  },
  {
   "cell_type": "code",
   "execution_count": 42,
   "metadata": {},
   "outputs": [],
   "source": [
    "#now i delete the welcome function\n",
    "del welcome"
   ]
  },
  {
   "cell_type": "code",
   "execution_count": null,
   "metadata": {},
   "outputs": [
    {
     "name": "stdout",
     "output_type": "stream",
     "text": [
      "Welcome to Manish Pandey class\n"
     ]
    }
   ],
   "source": [
    "#it still prints the function return value hence it's called function copy\n",
    "print(wel)"
   ]
  },
  {
   "cell_type": "markdown",
   "metadata": {},
   "source": [
    "### Closures"
   ]
  },
  {
   "cell_type": "code",
   "execution_count": null,
   "metadata": {},
   "outputs": [],
   "source": [
    "# Write a parent function and sub function and whatever variables you define in the parent function can be called by the sub function\n",
    "\n",
    "def welcome(msg):        # Parent function\n",
    "    def sub_welcome():\n",
    "        print( \"Welcome to Manish Pandey Collab\")\n",
    "        print(msg)       # variable called in the sub class\n",
    "        print(\"Please do provide feedback\")\n",
    "    return sub_welcome() # return sub_class"
   ]
  },
  {
   "cell_type": "code",
   "execution_count": 47,
   "metadata": {},
   "outputs": [
    {
     "name": "stdout",
     "output_type": "stream",
     "text": [
      "Welcome to Manish Pandey Collab\n",
      "Hello How are you?\n",
      "Please do provide feedback\n"
     ]
    }
   ],
   "source": [
    "welcome(\"Hello How are you?\")"
   ]
  },
  {
   "cell_type": "code",
   "execution_count": 48,
   "metadata": {
    "executionInfo": {
     "elapsed": 275,
     "status": "ok",
     "timestamp": 1694536749968,
     "user": {
      "displayName": "manish pandey",
      "userId": "09782073510778073535"
     },
     "user_tz": 240
    },
    "id": "p7WFdMpAe1zz"
   },
   "outputs": [],
   "source": [
    "#Now function is passed instead of message \n",
    "\n",
    "def welcome(func):\n",
    "  def sub_welcome():\n",
    "    print (\"This is Manish's Google collab\")\n",
    "    func( \"How are you ?\")\n",
    "    print('THanks for coding')\n",
    "  return sub_welcome()"
   ]
  },
  {
   "cell_type": "code",
   "execution_count": 49,
   "metadata": {},
   "outputs": [
    {
     "name": "stdout",
     "output_type": "stream",
     "text": [
      "This is Manish's Google collab\n",
      "How are you ?\n",
      "THanks for coding\n"
     ]
    }
   ],
   "source": [
    "welcome(print)"
   ]
  },
  {
   "cell_type": "code",
   "execution_count": 53,
   "metadata": {},
   "outputs": [],
   "source": [
    "#user defined fumction\n",
    "\n",
    "def message():\n",
    "    print (\"Hello How are you\")"
   ]
  },
  {
   "cell_type": "code",
   "execution_count": null,
   "metadata": {},
   "outputs": [],
   "source": [
    "###Decorators function : will pass a user defined function\n",
    "\n",
    "def welcome(func):\n",
    "  def sub_welcome():\n",
    "    print (\"This is Manish's Google collab\")\n",
    "    func()\n",
    "    print('THanks for coding')\n",
    "  return sub_welcome()"
   ]
  },
  {
   "cell_type": "code",
   "execution_count": 56,
   "metadata": {},
   "outputs": [
    {
     "name": "stdout",
     "output_type": "stream",
     "text": [
      "This is Manish's Google collab\n",
      "Hello How are you\n",
      "THanks for coding\n"
     ]
    }
   ],
   "source": [
    "welcome(message)"
   ]
  },
  {
   "cell_type": "code",
   "execution_count": null,
   "metadata": {
    "colab": {
     "base_uri": "https://localhost:8080/"
    },
    "executionInfo": {
     "elapsed": 261,
     "status": "ok",
     "timestamp": 1693086715212,
     "user": {
      "displayName": "manish pandey",
      "userId": "09782073510778073535"
     },
     "user_tz": 240
    },
    "id": "6TWleuXb0ycT",
    "outputId": "8d27624a-e9a8-4598-949f-c1da99966e06"
   },
   "outputs": [
    {
     "name": "stdout",
     "output_type": "stream",
     "text": [
      "This is Manish's Google collab\n",
      "Hello How are you\n",
      "THanks for coding\n"
     ]
    }
   ],
   "source": [
    "@welcome ## Decorator (passing this function as an argument to the welcome function) calls he decorator function\n",
    "def wel():\n",
    "  print(\"Hello How are you\")"
   ]
  },
  {
   "cell_type": "markdown",
   "metadata": {},
   "source": [
    "### Difference between is and =="
   ]
  },
  {
   "cell_type": "code",
   "execution_count": 58,
   "metadata": {},
   "outputs": [],
   "source": [
    "list1=[\"manish\",\"pandey\"]\n",
    "list2=[\"manish\",\"pandey\"]\n"
   ]
  },
  {
   "cell_type": "code",
   "execution_count": null,
   "metadata": {},
   "outputs": [
    {
     "data": {
      "text/plain": [
       "True"
      ]
     },
     "execution_count": 59,
     "metadata": {},
     "output_type": "execute_result"
    }
   ],
   "source": [
    "# compares between 2 different memory location\n",
    "\n",
    "list1==list2"
   ]
  },
  {
   "cell_type": "code",
   "execution_count": null,
   "metadata": {},
   "outputs": [
    {
     "data": {
      "text/plain": [
       "False"
      ]
     },
     "execution_count": 60,
     "metadata": {},
     "output_type": "execute_result"
    }
   ],
   "source": [
    "# is compares two same memory locations hence it's false as these are separate lists\n",
    "list1 is list2"
   ]
  },
  {
   "cell_type": "code",
   "execution_count": 68,
   "metadata": {},
   "outputs": [],
   "source": [
    " # making the memory lcoation same\n",
    "list1=list2"
   ]
  },
  {
   "cell_type": "code",
   "execution_count": null,
   "metadata": {},
   "outputs": [
    {
     "data": {
      "text/plain": [
       "True"
      ]
     },
     "execution_count": 69,
     "metadata": {},
     "output_type": "execute_result"
    }
   ],
   "source": [
    "#now it's true\n",
    "list1 is list2"
   ]
  },
  {
   "cell_type": "markdown",
   "metadata": {
    "id": "e6H6J5_c6xQb"
   },
   "source": [
    "## =,copy(),deepcopy()"
   ]
  },
  {
   "cell_type": "markdown",
   "metadata": {},
   "source": []
  },
  {
   "cell_type": "code",
   "execution_count": null,
   "metadata": {
    "executionInfo": {
     "elapsed": 239,
     "status": "ok",
     "timestamp": 1694536791649,
     "user": {
      "displayName": "manish pandey",
      "userId": "09782073510778073535"
     },
     "user_tz": 240
    },
    "id": "lH1IrkKP1JRt"
   },
   "outputs": [],
   "source": [
    "list1=[1,2,3,4,5,6]\n",
    "list2=list1 ##Both list 1 and list 2 points to the same memory location"
   ]
  },
  {
   "cell_type": "code",
   "execution_count": null,
   "metadata": {
    "executionInfo": {
     "elapsed": 273,
     "status": "ok",
     "timestamp": 1694536793376,
     "user": {
      "displayName": "manish pandey",
      "userId": "09782073510778073535"
     },
     "user_tz": 240
    },
    "id": "Hjm3ZrPW7gam"
   },
   "outputs": [],
   "source": [
    "list2[1]=1"
   ]
  },
  {
   "cell_type": "code",
   "execution_count": null,
   "metadata": {
    "colab": {
     "base_uri": "https://localhost:8080/"
    },
    "executionInfo": {
     "elapsed": 255,
     "status": "ok",
     "timestamp": 1694536803765,
     "user": {
      "displayName": "manish pandey",
      "userId": "09782073510778073535"
     },
     "user_tz": 240
    },
    "id": "PcGH0esE7qlq",
    "outputId": "3b6ba08d-74e3-4e2e-a96b-abede2cb8380"
   },
   "outputs": [
    {
     "data": {
      "text/plain": [
       "[1, 1, 3, 4, 5, 6]"
      ]
     },
     "execution_count": 11,
     "metadata": {},
     "output_type": "execute_result"
    }
   ],
   "source": [
    "list2"
   ]
  },
  {
   "cell_type": "code",
   "execution_count": null,
   "metadata": {
    "colab": {
     "base_uri": "https://localhost:8080/"
    },
    "executionInfo": {
     "elapsed": 273,
     "status": "ok",
     "timestamp": 1694536805382,
     "user": {
      "displayName": "manish pandey",
      "userId": "09782073510778073535"
     },
     "user_tz": 240
    },
    "id": "JFhYti_Q9qa4",
    "outputId": "071a8b3b-3686-4d1c-cbc9-dd0430cbe3ab"
   },
   "outputs": [
    {
     "data": {
      "text/plain": [
       "[1, 1, 3, 4, 5, 6]"
      ]
     },
     "execution_count": 12,
     "metadata": {},
     "output_type": "execute_result"
    }
   ],
   "source": [
    "list1 ##any change in list2 will change list1 as well and vice versa"
   ]
  },
  {
   "cell_type": "code",
   "execution_count": null,
   "metadata": {
    "id": "Pfh8iWFD9y4k"
   },
   "outputs": [],
   "source": [
    "#Shallow copy .copy()\n",
    "\n",
    "list1=[1,2,3,4,5,6]\n",
    "list2=list1.copy()"
   ]
  },
  {
   "cell_type": "code",
   "execution_count": 71,
   "metadata": {
    "id": "5ckDP0oA94GI"
   },
   "outputs": [],
   "source": [
    "list1[1]=1"
   ]
  },
  {
   "cell_type": "code",
   "execution_count": 72,
   "metadata": {
    "colab": {
     "base_uri": "https://localhost:8080/"
    },
    "executionInfo": {
     "elapsed": 285,
     "status": "ok",
     "timestamp": 1693089000432,
     "user": {
      "displayName": "manish pandey",
      "userId": "09782073510778073535"
     },
     "user_tz": 240
    },
    "id": "FW4METBW99jg",
    "outputId": "c8435aa6-193b-4d80-f448-5158b02fcbde"
   },
   "outputs": [
    {
     "data": {
      "text/plain": [
       "[1, 1, 3, 4, 5, 6]"
      ]
     },
     "execution_count": 72,
     "metadata": {},
     "output_type": "execute_result"
    }
   ],
   "source": [
    "list1"
   ]
  },
  {
   "cell_type": "code",
   "execution_count": 73,
   "metadata": {
    "colab": {
     "base_uri": "https://localhost:8080/"
    },
    "executionInfo": {
     "elapsed": 316,
     "status": "ok",
     "timestamp": 1693089007349,
     "user": {
      "displayName": "manish pandey",
      "userId": "09782073510778073535"
     },
     "user_tz": 240
    },
    "id": "fnhuQvHx9_UO",
    "outputId": "bcdba8d8-d656-48be-d6ba-aaaa5d262703"
   },
   "outputs": [
    {
     "data": {
      "text/plain": [
       "[1, 2, 3, 4, 5, 6]"
      ]
     },
     "execution_count": 73,
     "metadata": {},
     "output_type": "execute_result"
    }
   ],
   "source": [
    "list2 # No change in list 2 as it allocates a single dimension list to different location"
   ]
  },
  {
   "cell_type": "code",
   "execution_count": 74,
   "metadata": {
    "id": "d-XxpDT4-JEu"
   },
   "outputs": [],
   "source": [
    "#Shallow copy for nested list\n",
    "list1=[[1,2,3,4],[5,6,7,8]]"
   ]
  },
  {
   "cell_type": "code",
   "execution_count": 75,
   "metadata": {
    "id": "22lcZyK4-Pkd"
   },
   "outputs": [],
   "source": [
    "list2=list1.copy()"
   ]
  },
  {
   "cell_type": "code",
   "execution_count": null,
   "metadata": {},
   "outputs": [
    {
     "data": {
      "text/plain": [
       "[[1, 2, 3, 4], [5, 6, 7, 8]]"
      ]
     },
     "execution_count": 76,
     "metadata": {},
     "output_type": "execute_result"
    },
    {
     "ename": "",
     "evalue": "",
     "output_type": "error",
     "traceback": [
      "\u001b[1;31mThe Kernel crashed while executing code in the current cell or a previous cell. \n",
      "\u001b[1;31mPlease review the code in the cell(s) to identify a possible cause of the failure. \n",
      "\u001b[1;31mClick <a href='https://aka.ms/vscodeJupyterKernelCrash'>here</a> for more info. \n",
      "\u001b[1;31mView Jupyter <a href='command:jupyter.viewOutput'>log</a> for further details."
     ]
    }
   ],
   "source": [
    "list1\n",
    "list2"
   ]
  },
  {
   "cell_type": "code",
   "execution_count": null,
   "metadata": {
    "id": "y2N5ymNe-TIj"
   },
   "outputs": [],
   "source": [
    "list1[0][1]=100"
   ]
  },
  {
   "cell_type": "code",
   "execution_count": null,
   "metadata": {
    "colab": {
     "base_uri": "https://localhost:8080/"
    },
    "executionInfo": {
     "elapsed": 213,
     "status": "ok",
     "timestamp": 1693089147217,
     "user": {
      "displayName": "manish pandey",
      "userId": "09782073510778073535"
     },
     "user_tz": 240
    },
    "id": "6P-5sCqQ-ZN5",
    "outputId": "23c0401e-f5a7-4913-e03a-203c95f4daea"
   },
   "outputs": [
    {
     "data": {
      "text/plain": [
       "[[1, 100, 3, 4], [5, 6, 7, 8]]"
      ]
     },
     "execution_count": 29,
     "metadata": {},
     "output_type": "execute_result"
    }
   ],
   "source": [
    "list2 ##In case of nested list, if the elements of  a single list in a nested list are updated , it will be updated in the copied list as well\n",
    "      ## changing objects in the list will be copied but addition of new item (list) is not copied"
   ]
  },
  {
   "cell_type": "code",
   "execution_count": null,
   "metadata": {
    "colab": {
     "base_uri": "https://localhost:8080/"
    },
    "executionInfo": {
     "elapsed": 318,
     "status": "ok",
     "timestamp": 1693089264470,
     "user": {
      "displayName": "manish pandey",
      "userId": "09782073510778073535"
     },
     "user_tz": 240
    },
    "id": "a3ELlGSX-TUQ",
    "outputId": "fecbbb0d-09d2-48d9-c56e-8d3540a7ba4b"
   },
   "outputs": [
    {
     "data": {
      "text/plain": [
       "[[1, 100, 3, 4], [5, 6, 7, 8], [7, 8, 9, 0], [7, 8, 9, 0]]"
      ]
     },
     "execution_count": 32,
     "metadata": {},
     "output_type": "execute_result"
    }
   ],
   "source": [
    "list1.append([7,8,9,0]) ##Adding another list in List1\n",
    "list1"
   ]
  },
  {
   "cell_type": "code",
   "execution_count": null,
   "metadata": {
    "colab": {
     "base_uri": "https://localhost:8080/"
    },
    "executionInfo": {
     "elapsed": 207,
     "status": "ok",
     "timestamp": 1693089273479,
     "user": {
      "displayName": "manish pandey",
      "userId": "09782073510778073535"
     },
     "user_tz": 240
    },
    "id": "O1_BV_Wo_AU1",
    "outputId": "26931d78-8127-4910-e280-65c96fca614f"
   },
   "outputs": [
    {
     "data": {
      "text/plain": [
       "[[1, 100, 3, 4], [5, 6, 7, 8]]"
      ]
     },
     "execution_count": 33,
     "metadata": {},
     "output_type": "execute_result"
    }
   ],
   "source": [
    "list2 ## Changes are not reflected if another list is added"
   ]
  },
  {
   "cell_type": "markdown",
   "metadata": {},
   "source": [
    "## Deep Copy\n",
    "\n",
    "In Normal List Shallow copy= deep copy\n",
    "\n",
    "\n",
    "in a multi dimension list change is not reflected in the copied list"
   ]
  },
  {
   "cell_type": "code",
   "execution_count": null,
   "metadata": {
    "id": "5O3ZudAm_ISV"
   },
   "outputs": [],
   "source": [
    "import copy as cp\n",
    "list1=[[1,2,3,4],[5,6,7,8]]\n",
    "list2=cp.deepcopy(list1)"
   ]
  },
  {
   "cell_type": "code",
   "execution_count": null,
   "metadata": {
    "colab": {
     "base_uri": "https://localhost:8080/"
    },
    "executionInfo": {
     "elapsed": 224,
     "status": "ok",
     "timestamp": 1693089366970,
     "user": {
      "displayName": "manish pandey",
      "userId": "09782073510778073535"
     },
     "user_tz": 240
    },
    "id": "1cRMAJ6F_Uvb",
    "outputId": "5b2c733e-c7e0-47d8-c16b-18837e79f994"
   },
   "outputs": [
    {
     "data": {
      "text/plain": [
       "[[1, 100, 3, 4], [5, 6, 7, 8]]"
      ]
     },
     "execution_count": 37,
     "metadata": {},
     "output_type": "execute_result"
    }
   ],
   "source": [
    "list1[0][1]=100\n",
    "list1"
   ]
  },
  {
   "cell_type": "code",
   "execution_count": null,
   "metadata": {
    "colab": {
     "base_uri": "https://localhost:8080/"
    },
    "executionInfo": {
     "elapsed": 146,
     "status": "ok",
     "timestamp": 1693089372550,
     "user": {
      "displayName": "manish pandey",
      "userId": "09782073510778073535"
     },
     "user_tz": 240
    },
    "id": "A7EwIoSJ_Yq4",
    "outputId": "0133ee48-c469-4c8d-a8ef-b6031279d0ad"
   },
   "outputs": [
    {
     "data": {
      "text/plain": [
       "[[1, 2, 3, 4], [5, 6, 7, 8]]"
      ]
     },
     "execution_count": 38,
     "metadata": {},
     "output_type": "execute_result"
    }
   ],
   "source": [
    "list2 ## No change seen in the elements of the nested list list"
   ]
  },
  {
   "cell_type": "markdown",
   "metadata": {
    "id": "dJJt6PQcbYEW"
   },
   "source": [
    "**EVAL FUNCTION**\n",
    "*EVal :  evaluates python expressions which are returned as string*"
   ]
  },
  {
   "cell_type": "markdown",
   "metadata": {
    "id": "qs0uV4gwdBFX"
   },
   "source": [
    "**How does eval work**\n",
    "\n",
    "1. Parse Python expression\n",
    "2. Compile into a byte code\n",
    "3. Evaluate the python expression\n",
    "4. Return the result"
   ]
  },
  {
   "cell_type": "code",
   "execution_count": null,
   "metadata": {
    "id": "AEE5lT8ugw2J"
   },
   "outputs": [],
   "source": [
    "##Syntax\n",
    "##eval(expression, global variable,local variable)"
   ]
  },
  {
   "cell_type": "code",
   "execution_count": null,
   "metadata": {
    "colab": {
     "base_uri": "https://localhost:8080/"
    },
    "executionInfo": {
     "elapsed": 19,
     "status": "ok",
     "timestamp": 1693098114690,
     "user": {
      "displayName": "manish pandey",
      "userId": "09782073510778073535"
     },
     "user_tz": 240
    },
    "id": "f5tKKoWUdZtD",
    "outputId": "052fc0a2-c983-4d64-b2bd-3d685aed5d08"
   },
   "outputs": [
    {
     "data": {
      "text/plain": [
       "10"
      ]
     },
     "execution_count": 1,
     "metadata": {},
     "output_type": "execute_result"
    }
   ],
   "source": [
    "eval(\"x+y\",{\"x\":5,\"y\":5},{})"
   ]
  }
 ],
 "metadata": {
  "colab": {
   "authorship_tag": "ABX9TyNJR26YoLjVQw7NapTkF5kh",
   "provenance": []
  },
  "kernelspec": {
   "display_name": ".venv",
   "language": "python",
   "name": "python3"
  },
  "language_info": {
   "codemirror_mode": {
    "name": "ipython",
    "version": 3
   },
   "file_extension": ".py",
   "mimetype": "text/x-python",
   "name": "python",
   "nbconvert_exporter": "python",
   "pygments_lexer": "ipython3",
   "version": "3.12.3"
  }
 },
 "nbformat": 4,
 "nbformat_minor": 0
}
