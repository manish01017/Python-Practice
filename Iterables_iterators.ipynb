{
 "cells": [
  {
   "cell_type": "markdown",
   "id": "6f702a49",
   "metadata": {},
   "source": [
    "### Irerators vs Iterables\n",
    "\n",
    "### Iterables: all the values in the iterable ( eg: list) are initialized in the memory\n",
    "\n",
    "### Iterator : memory is initialized only when  we execute the next function ( helpes saves memory as it's dynamically initialized)"
   ]
  },
  {
   "cell_type": "code",
   "execution_count": 1,
   "id": "98509a29",
   "metadata": {},
   "outputs": [],
   "source": [
    "lst =[1,2,3,5,6,7,8,9,11]"
   ]
  },
  {
   "cell_type": "code",
   "execution_count": 6,
   "id": "163f58a3",
   "metadata": {},
   "outputs": [],
   "source": [
    "lst1=iter(lst)"
   ]
  },
  {
   "cell_type": "code",
   "execution_count": 3,
   "id": "70eaafe1",
   "metadata": {},
   "outputs": [
    {
     "name": "stdout",
     "output_type": "stream",
     "text": [
      "<list_iterator object at 0x00000281F54CB3A0>\n"
     ]
    }
   ],
   "source": [
    "#creates an iterator object\n",
    "print(lst1)"
   ]
  },
  {
   "cell_type": "code",
   "execution_count": null,
   "id": "4836775e",
   "metadata": {},
   "outputs": [
    {
     "data": {
      "text/plain": [
       "1"
      ]
     },
     "execution_count": 7,
     "metadata": {},
     "output_type": "execute_result"
    },
    {
     "ename": "",
     "evalue": "",
     "output_type": "error",
     "traceback": [
      "\u001b[1;31mThe Kernel crashed while executing code in the current cell or a previous cell. \n",
      "\u001b[1;31mPlease review the code in the cell(s) to identify a possible cause of the failure. \n",
      "\u001b[1;31mClick <a href='https://aka.ms/vscodeJupyterKernelCrash'>here</a> for more info. \n",
      "\u001b[1;31mView Jupyter <a href='command:jupyter.viewOutput'>log</a> for further details."
     ]
    }
   ],
   "source": [
    "# 1st element is initialized\n",
    "next(lst1)"
   ]
  }
 ],
 "metadata": {
  "kernelspec": {
   "display_name": ".venv",
   "language": "python",
   "name": "python3"
  },
  "language_info": {
   "codemirror_mode": {
    "name": "ipython",
    "version": 3
   },
   "file_extension": ".py",
   "mimetype": "text/x-python",
   "name": "python",
   "nbconvert_exporter": "python",
   "pygments_lexer": "ipython3",
   "version": "3.12.3"
  }
 },
 "nbformat": 4,
 "nbformat_minor": 5
}
