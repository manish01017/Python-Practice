{
 "cells": [
  {
   "cell_type": "markdown",
   "id": "10f5935f",
   "metadata": {},
   "source": [
    "# String Formatting"
   ]
  },
  {
   "cell_type": "code",
   "execution_count": 1,
   "id": "34a26a07",
   "metadata": {},
   "outputs": [],
   "source": [
    "# ordering is required here\n",
    "\n",
    "def greeting (name,surname):\n",
    "    return \"Hello {} . Welcome {}\".format(name,surname)"
   ]
  },
  {
   "cell_type": "code",
   "execution_count": 2,
   "id": "005f6c93",
   "metadata": {},
   "outputs": [
    {
     "data": {
      "text/plain": [
       "'Hello manish . Welcome pandey'"
      ]
     },
     "execution_count": 2,
     "metadata": {},
     "output_type": "execute_result"
    }
   ],
   "source": [
    "greeting('manish', 'pandey')"
   ]
  },
  {
   "cell_type": "code",
   "execution_count": 3,
   "id": "ec48a402",
   "metadata": {},
   "outputs": [],
   "source": [
    "# ordering is not required here\n",
    "# you can specify the order specifically\n",
    "\n",
    "def greeting (name,surname):\n",
    "    return \"Hello {n} . Welcome {a}\".format(n=name,a=surname)"
   ]
  },
  {
   "cell_type": "code",
   "execution_count": 6,
   "id": "dcf71cab",
   "metadata": {},
   "outputs": [
    {
     "data": {
      "text/plain": [
       "'Hello manish . Welcome pandey'"
      ]
     },
     "execution_count": 6,
     "metadata": {},
     "output_type": "execute_result"
    }
   ],
   "source": [
    "greeting('manish','pandey')"
   ]
  },
  {
   "cell_type": "code",
   "execution_count": null,
   "id": "61d62d37",
   "metadata": {},
   "outputs": [],
   "source": [
    "# using indexes\n",
    "\n",
    "def greeting (name,surname):\n",
    "    return \"Hello {1} . Welcome {0}\".format(name,surname)"
   ]
  },
  {
   "cell_type": "code",
   "execution_count": 8,
   "id": "67332e69",
   "metadata": {},
   "outputs": [
    {
     "data": {
      "text/plain": [
       "'Hello pandey . Welcome manish'"
      ]
     },
     "execution_count": 8,
     "metadata": {},
     "output_type": "execute_result"
    }
   ],
   "source": [
    "greeting('manish','pandey')"
   ]
  }
 ],
 "metadata": {
  "kernelspec": {
   "display_name": ".venv",
   "language": "python",
   "name": "python3"
  },
  "language_info": {
   "codemirror_mode": {
    "name": "ipython",
    "version": 3
   },
   "file_extension": ".py",
   "mimetype": "text/x-python",
   "name": "python",
   "nbconvert_exporter": "python",
   "pygments_lexer": "ipython3",
   "version": "3.12.3"
  }
 },
 "nbformat": 4,
 "nbformat_minor": 5
}
