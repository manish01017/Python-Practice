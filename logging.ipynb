{
 "cells": [
  {
   "cell_type": "markdown",
   "id": "8031d7b8",
   "metadata": {},
   "source": [
    "## Logging in Python"
   ]
  },
  {
   "cell_type": "code",
   "execution_count": 1,
   "id": "31e46e8d",
   "metadata": {},
   "outputs": [],
   "source": [
    "import logging"
   ]
  },
  {
   "cell_type": "code",
   "execution_count": 3,
   "id": "eac32933",
   "metadata": {},
   "outputs": [],
   "source": [
    "# asctime  - time the error happened\n",
    "# levelname - what kind of exception occured (error, warning , critical etc)\n",
    "# message - it's the error message that's published\n",
    "# filemode - specifies the mode of the file whetehr append ('a')\n",
    "\n",
    "logging.basicConfig(filename=\"Manish.txt\", filemode='a',format='%(asctime)s %(levelname)s -%(message)s',datefmt ='%Y-%m-%d %H:%M:%S')"
   ]
  },
  {
   "cell_type": "code",
   "execution_count": 4,
   "id": "7bb77adb",
   "metadata": {},
   "outputs": [],
   "source": [
    "for i in range(0,15):\n",
    "    if (i%2==0):\n",
    "        logging.warning('log Warning Message')\n",
    "    elif(i%3==0):\n",
    "        logging.critical('Log Critical Message')\n",
    "    else:\n",
    "        logging.error('Log Error Message')"
   ]
  },
  {
   "cell_type": "code",
   "execution_count": 6,
   "id": "033c9286",
   "metadata": {},
   "outputs": [],
   "source": [
    "i=10\n",
    "try:\n",
    "    i=i/0\n",
    "except:\n",
    "    logging.critical(\"Division by 0 error\")"
   ]
  }
 ],
 "metadata": {
  "kernelspec": {
   "display_name": ".venv",
   "language": "python",
   "name": "python3"
  },
  "language_info": {
   "codemirror_mode": {
    "name": "ipython",
    "version": 3
   },
   "file_extension": ".py",
   "mimetype": "text/x-python",
   "name": "python",
   "nbconvert_exporter": "python",
   "pygments_lexer": "ipython3",
   "version": "3.12.3"
  }
 },
 "nbformat": 4,
 "nbformat_minor": 5
}
