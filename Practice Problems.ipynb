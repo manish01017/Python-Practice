{
 "cells": [
  {
   "cell_type": "markdown",
   "metadata": {
    "id": "Y4t9SjIcnsIW"
   },
   "source": [
    "1. Write a program which will find all such numbers which are divisible by 7 but are not a multiple of 5, between 2000 and 3200 (both included).The numbers obtained should be printed in a comma-separated sequence on a single line."
   ]
  },
  {
   "cell_type": "code",
   "execution_count": null,
   "metadata": {
    "colab": {
     "base_uri": "https://localhost:8080/"
    },
    "executionInfo": {
     "elapsed": 218,
     "status": "ok",
     "timestamp": 1694443071052,
     "user": {
      "displayName": "manish pandey",
      "userId": "09782073510778073535"
     },
     "user_tz": 240
    },
    "id": "oYtceinQnOIS",
    "outputId": "eefd3edd-bfd3-49a1-9aa2-9f444c50a523"
   },
   "outputs": [
    {
     "name": "stdout",
     "output_type": "stream",
     "text": [
      "2002,2009,2016,2023,2037,2044,2051,2058,2072,2079,2086,2093,2107,2114,2121,2128,2142,2149,2156,2163,2177,2184,2191,2198,2212,2219,2226,2233,2247,2254,2261,2268,2282,2289,2296,2303,2317,2324,2331,2338,2352,2359,2366,2373,2387,2394,2401,2408,2422,2429,2436,2443,2457,2464,2471,2478,2492,2499,2506,2513,2527,2534,2541,2548,2562,2569,2576,2583,2597,2604,2611,2618,2632,2639,2646,2653,2667,2674,2681,2688,2702,2709,2716,2723,2737,2744,2751,2758,2772,2779,2786,2793,2807,2814,2821,2828,2842,2849,2856,2863,2877,2884,2891,2898,2912,2919,2926,2933,2947,2954,2961,2968,2982,2989,2996,3003,3017,3024,3031,3038,3052,3059,3066,3073,3087,3094,3101,3108,3122,3129,3136,3143,3157,3164,3171,3178,3192,3199\n"
     ]
    }
   ],
   "source": [
    "from posixpath import join\n",
    "list=[]\n",
    "for i in range(2000,3201):\n",
    "  if i%7==0 and i%5!=0:\n",
    "    list.append(str(i))\n",
    "\n",
    "x=\",\".join(list)\n",
    "print(x)\n",
    "\n",
    "\n"
   ]
  },
  {
   "cell_type": "markdown",
   "metadata": {
    "id": "6BUs3qXgq2HB"
   },
   "source": [
    "List Comprehension"
   ]
  },
  {
   "cell_type": "code",
   "execution_count": null,
   "metadata": {
    "colab": {
     "base_uri": "https://localhost:8080/"
    },
    "executionInfo": {
     "elapsed": 237,
     "status": "ok",
     "timestamp": 1694443768775,
     "user": {
      "displayName": "manish pandey",
      "userId": "09782073510778073535"
     },
     "user_tz": 240
    },
    "id": "XLLuJhqOsCpM",
    "outputId": "5a6b0711-447f-44a8-a217-5abd423d04ad"
   },
   "outputs": [
    {
     "name": "stdout",
     "output_type": "stream",
     "text": [
      "[2002, 2009, 2016, 2023, 2037, 2044, 2051, 2058, 2072, 2079, 2086, 2093, 2107, 2114, 2121, 2128, 2142, 2149, 2156, 2163, 2177, 2184, 2191, 2198, 2212, 2219, 2226, 2233, 2247, 2254, 2261, 2268, 2282, 2289, 2296, 2303, 2317, 2324, 2331, 2338, 2352, 2359, 2366, 2373, 2387, 2394, 2401, 2408, 2422, 2429, 2436, 2443, 2457, 2464, 2471, 2478, 2492, 2499, 2506, 2513, 2527, 2534, 2541, 2548, 2562, 2569, 2576, 2583, 2597, 2604, 2611, 2618, 2632, 2639, 2646, 2653, 2667, 2674, 2681, 2688, 2702, 2709, 2716, 2723, 2737, 2744, 2751, 2758, 2772, 2779, 2786, 2793, 2807, 2814, 2821, 2828, 2842, 2849, 2856, 2863, 2877, 2884, 2891, 2898, 2912, 2919, 2926, 2933, 2947, 2954, 2961, 2968, 2982, 2989, 2996, 3003, 3017, 3024, 3031, 3038, 3052, 3059, 3066, 3073, 3087, 3094, 3101, 3108, 3122, 3129, 3136, 3143, 3157, 3164, 3171, 3178, 3192, 3199]\n"
     ]
    }
   ],
   "source": [
    "print([i for i in range(2000,3201) if i%7==0 and i%5!=0],sep=\",\")"
   ]
  },
  {
   "cell_type": "markdown",
   "metadata": {
    "id": "rez8jqKyuSaS"
   },
   "source": [
    "Generator Comprehension"
   ]
  },
  {
   "cell_type": "code",
   "execution_count": null,
   "metadata": {
    "colab": {
     "base_uri": "https://localhost:8080/"
    },
    "executionInfo": {
     "elapsed": 298,
     "status": "ok",
     "timestamp": 1694443856909,
     "user": {
      "displayName": "manish pandey",
      "userId": "09782073510778073535"
     },
     "user_tz": 240
    },
    "id": "T0L1jSG9tNDh",
    "outputId": "247e93fd-2e43-4a50-e4eb-693a19901d35"
   },
   "outputs": [
    {
     "name": "stdout",
     "output_type": "stream",
     "text": [
      "2002,2009,2016,2023,2037,2044,2051,2058,2072,2079,2086,2093,2107,2114,2121,2128,2142,2149,2156,2163,2177,2184,2191,2198,2212,2219,2226,2233,2247,2254,2261,2268,2282,2289,2296,2303,2317,2324,2331,2338,2352,2359,2366,2373,2387,2394,2401,2408,2422,2429,2436,2443,2457,2464,2471,2478,2492,2499,2506,2513,2527,2534,2541,2548,2562,2569,2576,2583,2597,2604,2611,2618,2632,2639,2646,2653,2667,2674,2681,2688,2702,2709,2716,2723,2737,2744,2751,2758,2772,2779,2786,2793,2807,2814,2821,2828,2842,2849,2856,2863,2877,2884,2891,2898,2912,2919,2926,2933,2947,2954,2961,2968,2982,2989,2996,3003,3017,3024,3031,3038,3052,3059,3066,3073,3087,3094,3101,3108,3122,3129,3136,3143,3157,3164,3171,3178,3192,3199\n"
     ]
    }
   ],
   "source": [
    "print(*(i for i in range(2000,3201) if i%7==0 and i%5!=0),sep=\",\")"
   ]
  },
  {
   "cell_type": "markdown",
   "metadata": {
    "id": "AJ-QIbWyuY5C"
   },
   "source": [
    "2. Write a program which can compute the factorial of a given numbers.The results should be printed in a comma-separated sequence on a single line.Suppose the following input is supplied to the program: 8 Then, the output should be:40320"
   ]
  },
  {
   "cell_type": "code",
   "execution_count": null,
   "metadata": {
    "id": "NyIzEvV8uj5p"
   },
   "outputs": [],
   "source": [
    "def fact(num):\n",
    "  fact=1\n",
    "  for i in range(1,num+1):\n",
    "      fact=fact*i\n",
    "  print(fact)\n",
    "\n"
   ]
  },
  {
   "cell_type": "code",
   "execution_count": null,
   "metadata": {
    "colab": {
     "base_uri": "https://localhost:8080/"
    },
    "executionInfo": {
     "elapsed": 217,
     "status": "ok",
     "timestamp": 1694445184996,
     "user": {
      "displayName": "manish pandey",
      "userId": "09782073510778073535"
     },
     "user_tz": 240
    },
    "id": "fWpPyl_gy9Uk",
    "outputId": "491b3a62-39b2-4143-c803-60a74ab6a288"
   },
   "outputs": [
    {
     "name": "stdout",
     "output_type": "stream",
     "text": [
      "40320\n"
     ]
    }
   ],
   "source": [
    "fact(8)"
   ]
  },
  {
   "cell_type": "markdown",
   "metadata": {
    "id": "mU6r7QMe4JNE"
   },
   "source": [
    "#using reduce"
   ]
  },
  {
   "cell_type": "code",
   "execution_count": null,
   "metadata": {
    "colab": {
     "base_uri": "https://localhost:8080/"
    },
    "executionInfo": {
     "elapsed": 1813,
     "status": "ok",
     "timestamp": 1694446609600,
     "user": {
      "displayName": "manish pandey",
      "userId": "09782073510778073535"
     },
     "user_tz": 240
    },
    "id": "4gJ8jHEb4Mny",
    "outputId": "3d8011cf-e2f7-4dd9-c87c-ed813dfbfc84"
   },
   "outputs": [
    {
     "name": "stdout",
     "output_type": "stream",
     "text": [
      "Enter the Number:8\n",
      "40320\n"
     ]
    }
   ],
   "source": [
    "from functools import reduce\n",
    "\n",
    "def accumulator(acc,item): ##Defining an accumulator function\n",
    "  return acc*item\n",
    "\n",
    "num=int(input(\"Enter the Number:\"))\n",
    "\n",
    "print(reduce(accumulator,range(1,num+1),1))# reduce(function, iterable,initial value)"
   ]
  },
  {
   "cell_type": "markdown",
   "metadata": {
    "id": "bZAMNa3E5Dtn"
   },
   "source": [
    "3.\n",
    "With a given integral number n, write a program to generate a dictionary that contains (i, i x i) such that is an integral number between 1 and n (both included). and then the program should print the dictionary.Suppose the following input is supplied to the program: 8\n",
    "\n",
    "Then, the output should be:\n",
    "\n",
    "{1: 1, 2: 4, 3: 9, 4: 16, 5: 25, 6: 36, 7: 49, 8: 64}"
   ]
  },
  {
   "cell_type": "markdown",
   "metadata": {
    "id": "B0FIKvqT6COl"
   },
   "source": [
    "Using Dictionary Comprehension"
   ]
  },
  {
   "cell_type": "code",
   "execution_count": null,
   "metadata": {
    "colab": {
     "base_uri": "https://localhost:8080/"
    },
    "executionInfo": {
     "elapsed": 2393,
     "status": "ok",
     "timestamp": 1694446910376,
     "user": {
      "displayName": "manish pandey",
      "userId": "09782073510778073535"
     },
     "user_tz": 240
    },
    "id": "KczsMHUj5Lxl",
    "outputId": "147e609a-7f29-4385-e50a-470a8e429927"
   },
   "outputs": [
    {
     "name": "stdout",
     "output_type": "stream",
     "text": [
      "Enter the Number8\n",
      "{1: 1, 2: 4, 3: 9, 4: 16, 5: 25, 6: 36, 7: 49, 8: 64}\n"
     ]
    }
   ],
   "source": [
    "n=int(input(\"Enter the Number\"))\n",
    "print( {i:i*i for i in range(1,n+1)})"
   ]
  },
  {
   "cell_type": "code",
   "execution_count": null,
   "metadata": {
    "colab": {
     "base_uri": "https://localhost:8080/"
    },
    "executionInfo": {
     "elapsed": 2462,
     "status": "ok",
     "timestamp": 1694447084910,
     "user": {
      "displayName": "manish pandey",
      "userId": "09782073510778073535"
     },
     "user_tz": 240
    },
    "id": "_IEBurlY6GTM",
    "outputId": "58a76041-1cf8-468d-ed4a-eda48fd67240"
   },
   "outputs": [
    {
     "name": "stdout",
     "output_type": "stream",
     "text": [
      "Enter the Number8\n",
      "{1: 1, 2: 4, 3: 9, 4: 16, 5: 25, 6: 36, 7: 49, 8: 64}\n"
     ]
    }
   ],
   "source": [
    "n=int(input(\"Enter the Number\"))\n",
    "dict={}\n",
    "for i in range(1,n+1):\n",
    "  dict.update({i:i*i})\n",
    "\n",
    "print(dict)"
   ]
  },
  {
   "cell_type": "markdown",
   "metadata": {
    "id": "ezoX6H6V_yH4"
   },
   "source": [
    "4. Removing Duplicates in a List"
   ]
  },
  {
   "cell_type": "code",
   "execution_count": null,
   "metadata": {
    "colab": {
     "base_uri": "https://localhost:8080/"
    },
    "executionInfo": {
     "elapsed": 280,
     "status": "ok",
     "timestamp": 1694532399333,
     "user": {
      "displayName": "manish pandey",
      "userId": "09782073510778073535"
     },
     "user_tz": 240
    },
    "id": "yqfPqylx_1XF",
    "outputId": "9a3130b0-45dd-4247-b93a-9b64fcd8dccd"
   },
   "outputs": [
    {
     "data": {
      "text/plain": [
       "[1, 3, 6]"
      ]
     },
     "execution_count": 2,
     "metadata": {},
     "output_type": "execute_result"
    }
   ],
   "source": [
    "lst=[1,1,2,3,3,4,5,6,6,6,7]\n",
    "\n",
    "[char for char in set(lst) if lst.count(char)>1 ]"
   ]
  },
  {
   "cell_type": "markdown",
   "metadata": {
    "id": "3znpnbxuUjYu"
   },
   "source": [
    "5.Write a program which accepts a sequence of comma-separated numbers from console and generate a list and a tuple which contains every number.Suppose the following input is supplied to the program:\n",
    "\n",
    "34,67,55,33,12,98\n",
    "Then, the output should be:\n",
    "\n",
    "['34', '67', '55', '33', '12', '98']\n",
    "('34', '67', '55', '33', '12', '98')"
   ]
  },
  {
   "cell_type": "code",
   "execution_count": null,
   "metadata": {
    "colab": {
     "base_uri": "https://localhost:8080/"
    },
    "executionInfo": {
     "elapsed": 7363,
     "status": "ok",
     "timestamp": 1694542711416,
     "user": {
      "displayName": "manish pandey",
      "userId": "09782073510778073535"
     },
     "user_tz": 240
    },
    "id": "1yXvFyivlgMm",
    "outputId": "1f969481-10f1-49b4-f2a8-76cdcceb3da0"
   },
   "outputs": [
    {
     "name": "stdout",
     "output_type": "stream",
     "text": [
      "1,2,3,4,5,6,7\n",
      "('1', '2', '3', '4', '5', '6', '7')\n",
      "['1', '2', '3', '4', '5', '6', '7']\n"
     ]
    }
   ],
   "source": [
    "values=input()\n",
    "l=values.split(',')\n",
    "TUP=tuple(l)\n",
    "print(TUP)\n",
    "print(l)"
   ]
  },
  {
   "cell_type": "markdown",
   "metadata": {
    "id": "9_XSdviSnyY-"
   },
   "source": [
    "6.Define a class which has at least two methods:\n",
    "\n",
    "getString: to get a string from console input\n",
    "printString: to print the string in upper case.\n",
    "Also please include simple test function to test the class methods."
   ]
  },
  {
   "cell_type": "code",
   "execution_count": null,
   "metadata": {
    "id": "cSNIWqqDnmR7"
   },
   "outputs": [],
   "source": [
    "class test:\n",
    "  def getString(self):\n",
    "    self.n=input(\"Enter the String\")\n",
    "  def printString(self):\n",
    "    print(f'The printed string is {self.n.upper()}')"
   ]
  },
  {
   "cell_type": "code",
   "execution_count": null,
   "metadata": {
    "id": "4FuODu-upBEc"
   },
   "outputs": [],
   "source": [
    "t1=test()"
   ]
  },
  {
   "cell_type": "code",
   "execution_count": null,
   "metadata": {
    "colab": {
     "base_uri": "https://localhost:8080/"
    },
    "executionInfo": {
     "elapsed": 5511,
     "status": "ok",
     "timestamp": 1694543619159,
     "user": {
      "displayName": "manish pandey",
      "userId": "09782073510778073535"
     },
     "user_tz": 240
    },
    "id": "xo7bCFcjpK41",
    "outputId": "398ef06c-ae13-4b62-b63f-58fc3e6c2ea0"
   },
   "outputs": [
    {
     "name": "stdout",
     "output_type": "stream",
     "text": [
      "Enter the Stringmanish\n"
     ]
    }
   ],
   "source": [
    "t1.getString()"
   ]
  },
  {
   "cell_type": "code",
   "execution_count": null,
   "metadata": {
    "colab": {
     "base_uri": "https://localhost:8080/"
    },
    "executionInfo": {
     "elapsed": 3,
     "status": "ok",
     "timestamp": 1694543619159,
     "user": {
      "displayName": "manish pandey",
      "userId": "09782073510778073535"
     },
     "user_tz": 240
    },
    "id": "J_vi3SAlpZfh",
    "outputId": "80fb5b1b-58af-413d-c6bb-7bd7f17ef497"
   },
   "outputs": [
    {
     "name": "stdout",
     "output_type": "stream",
     "text": [
      "The printed string is MANISH\n"
     ]
    }
   ],
   "source": [
    "t1.printString()"
   ]
  },
  {
   "cell_type": "markdown",
   "metadata": {
    "id": "B4ZzPPmn2lis"
   },
   "source": [
    "7. Write a program that calculates and prints the value according to the given formula:\n",
    "\n",
    "Q = Square root of [(2 _ C _ D)/H]\n",
    "\n",
    "Following are the fixed values of C and H:\n",
    "\n",
    "C is 50. H is 30.\n",
    "\n",
    "D is the variable whose values should be input to your program in a comma-separated sequence.For example Let us assume the following comma separated input sequence is given to the program:\n",
    "100,150,180\n",
    "The output of the program should be:\n",
    "\n",
    "18,22,24"
   ]
  },
  {
   "cell_type": "code",
   "execution_count": null,
   "metadata": {
    "colab": {
     "base_uri": "https://localhost:8080/"
    },
    "executionInfo": {
     "elapsed": 6075,
     "status": "ok",
     "timestamp": 1695319673807,
     "user": {
      "displayName": "manish pandey",
      "userId": "09782073510778073535"
     },
     "user_tz": 240
    },
    "id": "dVLQcvdT3iLS",
    "outputId": "52816a4f-2efc-438e-bd23-df5d22e844db"
   },
   "outputs": [
    {
     "name": "stdout",
     "output_type": "stream",
     "text": [
      "Enter the Number100,150,180\n",
      "18,22,24\n"
     ]
    }
   ],
   "source": [
    "import math\n",
    "a=input(\"Enter the Number\")\n",
    "c=50\n",
    "h=30\n",
    "b=a.split(',')\n",
    "\n",
    "lst=[]\n",
    "for i  in b:\n",
    "  Q=math.sqrt((2*c*int(i))/h)\n",
    "  k=math.floor(Q)\n",
    "  lst.append(str(k))\n",
    "\n",
    "\n",
    "l=','.join(lst)\n",
    "print(l)\n"
   ]
  },
  {
   "cell_type": "markdown",
   "metadata": {
    "id": "TfYYGElg73XQ"
   },
   "source": [
    "8. _Write a program which takes 2 digits, X,Y as input and generates a 2-dimensional array. The element value in the i-th row and j-th column of the array should be i _ j.*\n",
    "\n",
    "Note: i=0,1.., X-1; j=0,1,¡­Y-1. Suppose the following inputs are given to the program: 3,5\n",
    "\n",
    "Then, the output of the program should be:\n",
    "\n",
    "[[0, 0, 0, 0, 0], [0, 1, 2, 3, 4], [0, 2, 4, 6, 8]]"
   ]
  },
  {
   "cell_type": "code",
   "execution_count": null,
   "metadata": {
    "colab": {
     "base_uri": "https://localhost:8080/"
    },
    "executionInfo": {
     "elapsed": 2815,
     "status": "ok",
     "timestamp": 1695731014841,
     "user": {
      "displayName": "manish pandey",
      "userId": "09782073510778073535"
     },
     "user_tz": 240
    },
    "id": "4e1nErMe8Xyn",
    "outputId": "c33ead9f-200e-47b5-fd0c-eda84a49848e"
   },
   "outputs": [
    {
     "name": "stdout",
     "output_type": "stream",
     "text": [
      "3,5\n",
      "[[0, 0, 0, 0, 0], [0, 1, 2, 3, 4], [0, 2, 4, 6, 8]]\n"
     ]
    }
   ],
   "source": [
    "lst= [int(i) for i in input().split(',')]\n",
    "i,j=lst\n",
    "lt=[]\n",
    "lo=[]\n",
    "\n",
    "for a in range(i):\n",
    "  for b in range(j):\n",
    "    lt.append(a*b)\n",
    "  lo.append(lt)\n",
    "  lt=[]\n",
    "\n",
    "\n",
    "print(lo)\n",
    "\n",
    "\n",
    "\n",
    "\n",
    "\n"
   ]
  },
  {
   "cell_type": "markdown",
   "metadata": {
    "id": "HLiS9mmVETyM"
   },
   "source": [
    "9. Write a program that accepts a comma separated sequence of words as input and prints the words in a comma-separated sequence after sorting them alphabetically.\n",
    "\n",
    "Suppose the following input is supplied to the program:\n",
    "\n",
    "without,hello,bag,world\n",
    "Then, the output should be:\n",
    "\n",
    "bag,hello,without,world"
   ]
  },
  {
   "cell_type": "code",
   "execution_count": null,
   "metadata": {
    "colab": {
     "base_uri": "https://localhost:8080/"
    },
    "executionInfo": {
     "elapsed": 3091,
     "status": "ok",
     "timestamp": 1695731463790,
     "user": {
      "displayName": "manish pandey",
      "userId": "09782073510778073535"
     },
     "user_tz": 240
    },
    "id": "8jrtZaMBcmtB",
    "outputId": "1d389710-1d9f-4523-887a-6c6bc2470065"
   },
   "outputs": [
    {
     "name": "stdout",
     "output_type": "stream",
     "text": [
      "without,hello,bag,world\n",
      "bag,hello,without,world\n"
     ]
    }
   ],
   "source": [
    "lst=[i for i in input().split(',')]\n",
    "\n",
    "\n",
    "lst.sort() #will modify the original list\n",
    "\n",
    "lst1=sorted(lst) ## will create a new list\n",
    "\n",
    "lst2=','.join(lst)\n",
    "\n",
    "print(lst2)\n",
    "\n"
   ]
  },
  {
   "cell_type": "markdown",
   "metadata": {
    "id": "zGcgJOu9eYEx"
   },
   "source": [
    "10.Write a program that accepts sequence of lines as input and prints the lines after making all characters in the sentence capitalized.\n",
    "\n",
    "Suppose the following input is supplied to the program:\n",
    "\n",
    "Hello world\n",
    "Practice makes perfect\n",
    "Then, the output should be:\n",
    "\n",
    "HELLO WORLD\n",
    "PRACTICE MAKES PERFECT"
   ]
  },
  {
   "cell_type": "code",
   "execution_count": null,
   "metadata": {
    "colab": {
     "base_uri": "https://localhost:8080/"
    },
    "executionInfo": {
     "elapsed": 10998,
     "status": "ok",
     "timestamp": 1695732284596,
     "user": {
      "displayName": "manish pandey",
      "userId": "09782073510778073535"
     },
     "user_tz": 240
    },
    "id": "BmmgGDIueaio",
    "outputId": "8100e1b5-dca6-4658-af5a-2e69ec352f7d"
   },
   "outputs": [
    {
     "name": "stdout",
     "output_type": "stream",
     "text": [
      "hello world\n",
      "pactice makes perfect\n",
      "\n",
      "HELLO WORLD\n",
      "PACTICE MAKES PERFECT\n"
     ]
    }
   ],
   "source": [
    "lst=[]\n",
    "while True:\n",
    "  x=input()\n",
    "  if x:\n",
    "    lst.append(x.upper())\n",
    "  else:\n",
    "    break\n",
    "for line in lst:\n",
    "  print(line)\n"
   ]
  },
  {
   "cell_type": "markdown",
   "metadata": {
    "id": "ciUD9oPnhoxs"
   },
   "source": [
    "11.\n",
    "Write a program that accepts a sequence of whitespace separated words as input and prints the words after removing all duplicate words and sorting them alphanumerically.\n",
    "\n",
    "Suppose the following input is supplied to the program:\n",
    "\n",
    "hello world and practice makes perfect and hello world again\n",
    "Then, the output should be:\n",
    "\n",
    "again and hello makes perfect practice world"
   ]
  },
  {
   "cell_type": "code",
   "execution_count": null,
   "metadata": {
    "colab": {
     "base_uri": "https://localhost:8080/"
    },
    "executionInfo": {
     "elapsed": 2507,
     "status": "ok",
     "timestamp": 1695732783135,
     "user": {
      "displayName": "manish pandey",
      "userId": "09782073510778073535"
     },
     "user_tz": 240
    },
    "id": "cZPd-N2xh52h",
    "outputId": "567d4e6e-f753-4752-bc10-0af0134688b1"
   },
   "outputs": [
    {
     "name": "stdout",
     "output_type": "stream",
     "text": [
      "hello world and practice makes perfect and hello world again\n",
      "again and hello makes perfect practice world\n"
     ]
    }
   ],
   "source": [
    "lst=[i for i in input().split(' ')]\n",
    "\n",
    "lst1=[]\n",
    "for i in lst:\n",
    "  if i not in lst1:\n",
    "    lst1.append(i)\n",
    "  lst1.sort()\n",
    "print(' '.join(lst1))\n"
   ]
  },
  {
   "cell_type": "markdown",
   "metadata": {
    "id": "u17M418yjihw"
   },
   "source": [
    "11.Write a program which accepts a sequence of comma separated 4 digit binary numbers as its input and then check whether they are divisible by 5 or not. The numbers that are divisible by 5 are to be printed in a comma separated sequence.\n",
    "\n",
    "Example:\n",
    "\n",
    "0100,0011,1010,1001\n",
    "Then the output should be:\n",
    "\n",
    "1010"
   ]
  },
  {
   "cell_type": "code",
   "execution_count": null,
   "metadata": {
    "colab": {
     "base_uri": "https://localhost:8080/"
    },
    "executionInfo": {
     "elapsed": 2048,
     "status": "ok",
     "timestamp": 1695733831521,
     "user": {
      "displayName": "manish pandey",
      "userId": "09782073510778073535"
     },
     "user_tz": 240
    },
    "id": "_UjFU6ptjhic",
    "outputId": "3b7ae960-6034-4a35-c5cf-63c770cbbf3b"
   },
   "outputs": [
    {
     "name": "stdout",
     "output_type": "stream",
     "text": [
      "0100,0011,1010,1001\n",
      "['0100', '0011', '1010', '1001']\n",
      "1010\n"
     ]
    }
   ],
   "source": [
    "lst=[i for i in input().split(',')]\n",
    "\n",
    "print(lst)\n",
    "\n",
    "lst1= list(filter(lambda i : int(i,2)%5==0,lst))\n",
    "\n",
    "print(','.join(lst1))\n"
   ]
  },
  {
   "cell_type": "markdown",
   "metadata": {
    "id": "zDuG17lRZMJx"
   },
   "source": [
    "12. Write a program, which will find all such numbers between 1000 and 3000 (both included) such that each digit of the number is an even number.The numbers obtained should be printed in a comma-separated sequence on a single line."
   ]
  },
  {
   "cell_type": "code",
   "execution_count": null,
   "metadata": {
    "colab": {
     "base_uri": "https://localhost:8080/",
     "height": 211
    },
    "executionInfo": {
     "elapsed": 139,
     "status": "error",
     "timestamp": 1695748763461,
     "user": {
      "displayName": "manish pandey",
      "userId": "09782073510778073535"
     },
     "user_tz": 240
    },
    "id": "VmiuSorHdu_0",
    "outputId": "11eec81f-955e-4b36-fe1a-391babb383db"
   },
   "outputs": [
    {
     "ename": "TypeError",
     "evalue": "ignored",
     "output_type": "error",
     "traceback": [
      "\u001b[0;31m---------------------------------------------------------------------------\u001b[0m",
      "\u001b[0;31mTypeError\u001b[0m                                 Traceback (most recent call last)",
      "\u001b[0;32m<ipython-input-19-420bd5b5a05f>\u001b[0m in \u001b[0;36m<cell line: 3>\u001b[0;34m()\u001b[0m\n\u001b[1;32m      1\u001b[0m \u001b[0mlst\u001b[0m\u001b[0;34m=\u001b[0m\u001b[0;34m[\u001b[0m\u001b[0;36m1\u001b[0m\u001b[0;34m,\u001b[0m\u001b[0;36m2\u001b[0m\u001b[0;34m,\u001b[0m\u001b[0;36m3\u001b[0m\u001b[0;34m]\u001b[0m\u001b[0;34m\u001b[0m\u001b[0;34m\u001b[0m\u001b[0m\n\u001b[1;32m      2\u001b[0m \u001b[0;34m\u001b[0m\u001b[0m\n\u001b[0;32m----> 3\u001b[0;31m \u001b[0mlst\u001b[0m\u001b[0;34m.\u001b[0m\u001b[0mcount\u001b[0m\u001b[0;34m(\u001b[0m\u001b[0;34m)\u001b[0m\u001b[0;34m\u001b[0m\u001b[0;34m\u001b[0m\u001b[0m\n\u001b[0m",
      "\u001b[0;31mTypeError\u001b[0m: list.count() takes exactly one argument (0 given)"
     ]
    }
   ],
   "source": [
    "lst=[1,2,3]\n",
    "\n",
    "lst.count()"
   ]
  },
  {
   "cell_type": "code",
   "execution_count": null,
   "metadata": {
    "colab": {
     "base_uri": "https://localhost:8080/"
    },
    "executionInfo": {
     "elapsed": 130,
     "status": "ok",
     "timestamp": 1695748917266,
     "user": {
      "displayName": "manish pandey",
      "userId": "09782073510778073535"
     },
     "user_tz": 240
    },
    "id": "jAIsWb4sZPwF",
    "outputId": "b3b39a18-5c2c-47ae-f301-b4e7d2c45e80"
   },
   "outputs": [
    {
     "name": "stdout",
     "output_type": "stream",
     "text": [
      "125\n",
      "2000,2002,2004,2006,2008,2020,2022,2024,2026,2028,2040,2042,2044,2046,2048,2060,2062,2064,2066,2068,2080,2082,2084,2086,2088,2200,2202,2204,2206,2208,2220,2222,2224,2226,2228,2240,2242,2244,2246,2248,2260,2262,2264,2266,2268,2280,2282,2284,2286,2288,2400,2402,2404,2406,2408,2420,2422,2424,2426,2428,2440,2442,2444,2446,2448,2460,2462,2464,2466,2468,2480,2482,2484,2486,2488,2600,2602,2604,2606,2608,2620,2622,2624,2626,2628,2640,2642,2644,2646,2648,2660,2662,2664,2666,2668,2680,2682,2684,2686,2688,2800,2802,2804,2806,2808,2820,2822,2824,2826,2828,2840,2842,2844,2846,2848,2860,2862,2864,2866,2868,2880,2882,2884,2886,2888\n"
     ]
    }
   ],
   "source": [
    "lst1=[]\n",
    "for i in range(1000,3001):\n",
    "  x=str(i)\n",
    "  lst3=[int(x[j]) for j in range(len(x)) if int(x[j])%2!=0]\n",
    "  if not lst3:\n",
    "    lst1.append(x)\n",
    "\n",
    "print(len(lst1))\n",
    "print(','.join(lst1))\n",
    "\n",
    "\n",
    "\n",
    "\n",
    "\n",
    "\n",
    "\n"
   ]
  },
  {
   "cell_type": "markdown",
   "metadata": {
    "id": "NzV-OnZLg3b4"
   },
   "source": [
    "12.\n",
    "Write a program that accepts a sentence and calculate the number of letters and digits.\n",
    "\n",
    "Suppose the following input is supplied to the program:\n",
    "\n",
    "hello world! 123\n",
    "Then, the output should be:\n",
    "\n",
    "LETTERS 10\n",
    "DIGITS 3"
   ]
  },
  {
   "cell_type": "code",
   "execution_count": null,
   "metadata": {
    "colab": {
     "base_uri": "https://localhost:8080/"
    },
    "executionInfo": {
     "elapsed": 2370,
     "status": "ok",
     "timestamp": 1695750073373,
     "user": {
      "displayName": "manish pandey",
      "userId": "09782073510778073535"
     },
     "user_tz": 240
    },
    "id": "DuwtL-AehR8A",
    "outputId": "5f807440-28b3-434e-a03d-abb56b8875c2"
   },
   "outputs": [
    {
     "name": "stdout",
     "output_type": "stream",
     "text": [
      "hello world! 123\n",
      "LETTERS 10 DIGITS 3\n"
     ]
    }
   ],
   "source": [
    "import re\n",
    "x=input()\n",
    "Letter=re.findall('[A-Za-z]',x)\n",
    "Numbers=re.findall('[0-9]',x)\n",
    "\n",
    "\n",
    "print(f'LETTERS {len(Letter)} DIGITS {len(Numbers)}')\n",
    "\n"
   ]
  },
  {
   "cell_type": "markdown",
   "metadata": {},
   "source": [
    "13. Input: arr[] = [54, 43, 2, 1, 5]\n",
    "\n",
    "\n",
    "Output: 54 43 2 1 5\n",
    "\n",
    "\n",
    "Explanation: Just traverse and print the numbers."
   ]
  },
  {
   "cell_type": "code",
   "execution_count": 10,
   "metadata": {},
   "outputs": [],
   "source": [
    "lst=[54, 43, 2, 1, 5]"
   ]
  },
  {
   "cell_type": "code",
   "execution_count": 2,
   "metadata": {},
   "outputs": [],
   "source": [
    "lst.reverse()"
   ]
  },
  {
   "cell_type": "code",
   "execution_count": 3,
   "metadata": {},
   "outputs": [
    {
     "name": "stdout",
     "output_type": "stream",
     "text": [
      "[5, 1, 2, 43, 54]\n"
     ]
    }
   ],
   "source": [
    "print(lst)"
   ]
  },
  {
   "cell_type": "code",
   "execution_count": 7,
   "metadata": {},
   "outputs": [
    {
     "data": {
      "text/plain": [
       "[5, 1, 2, 43, 54]"
      ]
     },
     "execution_count": 7,
     "metadata": {},
     "output_type": "execute_result"
    }
   ],
   "source": [
    "lst[::-1]"
   ]
  },
  {
   "cell_type": "code",
   "execution_count": 20,
   "metadata": {},
   "outputs": [
    {
     "name": "stdout",
     "output_type": "stream",
     "text": [
      "105\n"
     ]
    }
   ],
   "source": [
    "#to find sum of elements in a list\n",
    "\n",
    "total =0\n",
    "for i in lst:\n",
    "    total+=i\n",
    "print(total)\n",
    "\n"
   ]
  },
  {
   "cell_type": "code",
   "execution_count": null,
   "metadata": {},
   "outputs": [
    {
     "name": "stdout",
     "output_type": "stream",
     "text": [
      "105\n"
     ]
    },
    {
     "ename": "",
     "evalue": "",
     "output_type": "error",
     "traceback": [
      "\u001b[1;31mThe Kernel crashed while executing code in the current cell or a previous cell. \n",
      "\u001b[1;31mPlease review the code in the cell(s) to identify a possible cause of the failure. \n",
      "\u001b[1;31mClick <a href='https://aka.ms/vscodeJupyterKernelCrash'>here</a> for more info. \n",
      "\u001b[1;31mView Jupyter <a href='command:jupyter.viewOutput'>log</a> for further details."
     ]
    }
   ],
   "source": [
    "result=sum(lst)\n",
    "print(result)"
   ]
  },
  {
   "cell_type": "code",
   "execution_count": null,
   "metadata": {},
   "outputs": [],
   "source": [
    "total=0"
   ]
  }
 ],
 "metadata": {
  "colab": {
   "authorship_tag": "ABX9TyNEB+kK4MlKM7TlqzjpBHrv",
   "provenance": []
  },
  "kernelspec": {
   "display_name": ".venv",
   "language": "python",
   "name": "python3"
  },
  "language_info": {
   "codemirror_mode": {
    "name": "ipython",
    "version": 3
   },
   "file_extension": ".py",
   "mimetype": "text/x-python",
   "name": "python",
   "nbconvert_exporter": "python",
   "pygments_lexer": "ipython3",
   "version": "3.12.3"
  }
 },
 "nbformat": 4,
 "nbformat_minor": 0
}
