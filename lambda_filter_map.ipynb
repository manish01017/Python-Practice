{
 "cells": [
  {
   "cell_type": "markdown",
   "id": "4bc23d45",
   "metadata": {},
   "source": [
    "#Lambda function\n",
    "\n",
    "###A function with no name\n",
    "\n"
   ]
  },
  {
   "cell_type": "code",
   "execution_count": null,
   "id": "41ab1c1b",
   "metadata": {},
   "outputs": [],
   "source": [
    " # Syntax\n",
    "# lambda input variables: operation to be  performed\n",
    "# only possible if you have to perform a single operation/expression"
   ]
  },
  {
   "cell_type": "code",
   "execution_count": 1,
   "id": "ed640817",
   "metadata": {},
   "outputs": [],
   "source": [
    "even1=lambda a:a%2==0"
   ]
  },
  {
   "cell_type": "code",
   "execution_count": 2,
   "id": "46179d1e",
   "metadata": {},
   "outputs": [
    {
     "data": {
      "text/plain": [
       "True"
      ]
     },
     "execution_count": 2,
     "metadata": {},
     "output_type": "execute_result"
    }
   ],
   "source": [
    "even1(12)"
   ]
  },
  {
   "cell_type": "code",
   "execution_count": 3,
   "id": "f5a2b9ae",
   "metadata": {},
   "outputs": [],
   "source": [
    "addition=lambda a,b,c:a+b+c"
   ]
  },
  {
   "cell_type": "code",
   "execution_count": 4,
   "id": "a29d895a",
   "metadata": {},
   "outputs": [
    {
     "data": {
      "text/plain": [
       "9"
      ]
     },
     "execution_count": 4,
     "metadata": {},
     "output_type": "execute_result"
    }
   ],
   "source": [
    "addition(2,3,4)"
   ]
  },
  {
   "cell_type": "markdown",
   "id": "54d0a9fb",
   "metadata": {},
   "source": [
    "## Map Function in Python\n",
    "## applying function iteratively for each element \n",
    "# Syntax: map( function name, iterable)"
   ]
  },
  {
   "cell_type": "code",
   "execution_count": 12,
   "id": "51108c98",
   "metadata": {},
   "outputs": [],
   "source": [
    "lst=[1,2,3,5,8,4,9,6,11,14,13]\n",
    "\n"
   ]
  },
  {
   "cell_type": "code",
   "execution_count": 13,
   "id": "0545b93a",
   "metadata": {},
   "outputs": [],
   "source": [
    "def even_or_odd(num):\n",
    "    if num%2==0:\n",
    "        return \"The number {} is even\".format(num)\n",
    "    else:\n",
    "        return \"The number {} is odd\".format(num)"
   ]
  },
  {
   "cell_type": "code",
   "execution_count": 15,
   "id": "74d2d281",
   "metadata": {},
   "outputs": [
    {
     "data": {
      "text/plain": [
       "'The number 24 is even'"
      ]
     },
     "execution_count": 15,
     "metadata": {},
     "output_type": "execute_result"
    }
   ],
   "source": [
    "even_or_odd(24)"
   ]
  },
  {
   "cell_type": "code",
   "execution_count": 17,
   "id": "499e0cc4",
   "metadata": {},
   "outputs": [
    {
     "data": {
      "text/plain": [
       "['The number 1 is odd',\n",
       " 'The number 2 is even',\n",
       " 'The number 3 is odd',\n",
       " 'The number 5 is odd',\n",
       " 'The number 8 is even',\n",
       " 'The number 4 is even',\n",
       " 'The number 9 is odd',\n",
       " 'The number 6 is even',\n",
       " 'The number 11 is odd',\n",
       " 'The number 14 is even',\n",
       " 'The number 13 is odd']"
      ]
     },
     "execution_count": 17,
     "metadata": {},
     "output_type": "execute_result"
    }
   ],
   "source": [
    "# to iterate the above function through each element of the list\n",
    "\n",
    "list(map(even_or_odd, lst))"
   ]
  },
  {
   "cell_type": "markdown",
   "id": "339a1eda",
   "metadata": {},
   "source": [
    "# FILTER Function\n",
    "### it will give only values where the condition is TRUE but map will give all values\n"
   ]
  },
  {
   "cell_type": "code",
   "execution_count": 19,
   "id": "315d2c86",
   "metadata": {},
   "outputs": [],
   "source": [
    "def even_odd(num):\n",
    "    if num%2==0:\n",
    "        return num"
   ]
  },
  {
   "cell_type": "code",
   "execution_count": null,
   "id": "cd65694f",
   "metadata": {},
   "outputs": [
    {
     "data": {
      "text/plain": [
       "[None, 2, None, None, 8, 4, None, 6, None, 14, None]"
      ]
     },
     "execution_count": 21,
     "metadata": {},
     "output_type": "execute_result"
    }
   ],
   "source": [
    "#returning all the elements in the list\n",
    "list(map(even_odd,lst))"
   ]
  },
  {
   "cell_type": "code",
   "execution_count": null,
   "id": "efdb071d",
   "metadata": {},
   "outputs": [
    {
     "data": {
      "text/plain": [
       "[2, 8, 4, 6, 14]"
      ]
     },
     "execution_count": 22,
     "metadata": {},
     "output_type": "execute_result"
    }
   ],
   "source": [
    "#returns only values that satisfy the condition\n",
    "list(filter(even_odd,lst))"
   ]
  },
  {
   "cell_type": "code",
   "execution_count": null,
   "id": "922d6ed5",
   "metadata": {},
   "outputs": [
    {
     "data": {
      "text/plain": [
       "[2, 8, 4, 6, 14]"
      ]
     },
     "execution_count": 23,
     "metadata": {},
     "output_type": "execute_result"
    }
   ],
   "source": [
    "# another way to do it\n",
    "list(filter(lambda num:num%2==0,lst))"
   ]
  },
  {
   "cell_type": "markdown",
   "id": "1f653eca",
   "metadata": {},
   "source": [
    "# List Comprehension\n",
    "# provides an easy way to create a list\n",
    "# Consists of brackets followed by en expression ( the result) followed by the for clause , them zero or more for or if classes"
   ]
  },
  {
   "cell_type": "code",
   "execution_count": 24,
   "id": "2a490cf7",
   "metadata": {},
   "outputs": [],
   "source": [
    "# getting the square of list\n",
    "\n",
    "lst1=[]\n",
    "\n",
    "def list_square(lst):\n",
    "    for i in lst:\n",
    "        lst1.append(i*i)\n",
    "    return lst1"
   ]
  },
  {
   "cell_type": "code",
   "execution_count": 26,
   "id": "0f211c47",
   "metadata": {},
   "outputs": [
    {
     "data": {
      "text/plain": [
       "[1, 4, 16, 25, 36, 49, 64]"
      ]
     },
     "execution_count": 26,
     "metadata": {},
     "output_type": "execute_result"
    }
   ],
   "source": [
    "list_square([1,2,4,5,6,7,8])"
   ]
  },
  {
   "cell_type": "code",
   "execution_count": 27,
   "id": "0d16fc0a",
   "metadata": {},
   "outputs": [],
   "source": [
    "lst =[1,2,4,5,6,7,8]"
   ]
  },
  {
   "cell_type": "code",
   "execution_count": null,
   "id": "e05ac3b4",
   "metadata": {},
   "outputs": [
    {
     "data": {
      "text/plain": [
       "[1, 4, 16, 25, 36, 49, 64]"
      ]
     },
     "execution_count": 28,
     "metadata": {},
     "output_type": "execute_result"
    }
   ],
   "source": [
    "#list comprehension\n",
    "\n",
    "[i*i for i in lst]"
   ]
  },
  {
   "cell_type": "code",
   "execution_count": null,
   "id": "34f24790",
   "metadata": {},
   "outputs": [
    {
     "data": {
      "text/plain": [
       "[1, 25, 49]"
      ]
     },
     "execution_count": 33,
     "metadata": {},
     "output_type": "execute_result"
    }
   ],
   "source": [
    "#Square of even numbers\n",
    "\n",
    "[i*i for i in lst if i%2==0]"
   ]
  }
 ],
 "metadata": {
  "kernelspec": {
   "display_name": ".venv",
   "language": "python",
   "name": "python3"
  },
  "language_info": {
   "codemirror_mode": {
    "name": "ipython",
    "version": 3
   },
   "file_extension": ".py",
   "mimetype": "text/x-python",
   "name": "python",
   "nbconvert_exporter": "python",
   "pygments_lexer": "ipython3",
   "version": "3.12.3"
  }
 },
 "nbformat": 4,
 "nbformat_minor": 5
}
