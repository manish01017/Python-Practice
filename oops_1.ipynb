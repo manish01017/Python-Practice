{
 "cells": [
  {
   "cell_type": "markdown",
   "id": "f47105d4",
   "metadata": {},
   "source": [
    "# OOPS Tutorial in Python"
   ]
  },
  {
   "cell_type": "code",
   "execution_count": 1,
   "id": "dea56f6b",
   "metadata": {},
   "outputs": [],
   "source": [
    "class Car:\n",
    "    pass"
   ]
  },
  {
   "cell_type": "code",
   "execution_count": 2,
   "id": "08368ceb",
   "metadata": {},
   "outputs": [],
   "source": [
    " # object instantiated from Car class\n",
    "car1=Car()"
   ]
  },
  {
   "cell_type": "code",
   "execution_count": 3,
   "id": "39f47e2c",
   "metadata": {},
   "outputs": [
    {
     "data": {
      "text/plain": [
       "<__main__.Car at 0x27a20ef3a10>"
      ]
     },
     "execution_count": 3,
     "metadata": {},
     "output_type": "execute_result"
    }
   ],
   "source": [
    "car1"
   ]
  },
  {
   "cell_type": "code",
   "execution_count": 4,
   "id": "ee1f4026",
   "metadata": {},
   "outputs": [],
   "source": [
    "car1.windows=10"
   ]
  },
  {
   "cell_type": "code",
   "execution_count": 5,
   "id": "de5ed2eb",
   "metadata": {},
   "outputs": [
    {
     "name": "stdout",
     "output_type": "stream",
     "text": [
      "10\n"
     ]
    }
   ],
   "source": [
    "print(car1.windows)"
   ]
  },
  {
   "cell_type": "code",
   "execution_count": 6,
   "id": "94f634b8",
   "metadata": {},
   "outputs": [],
   "source": [
    "# 2nd object instatiated\n",
    "car2=Car()"
   ]
  },
  {
   "cell_type": "markdown",
   "id": "bf4f3327",
   "metadata": {},
   "source": [
    "###How to limit the  properties /parameters within the class \n",
    "\n",
    "\n",
    "###using __init__ (constructor) and self variable\n"
   ]
  },
  {
   "cell_type": "code",
   "execution_count": 7,
   "id": "1ebdb9ed",
   "metadata": {},
   "outputs": [],
   "source": [
    "class Car:\n",
    "    def __init__(self,windows,engine,fuel):\n",
    "        self.windows=windows\n",
    "        self.engine=engine\n",
    "        self.fuel=fuel\n",
    "    def self_driving(self): # initializing another method , self is used so that it can initialize the 3 variables\n",
    "        return \"This is a {} Car\".format(self.fuel) \n",
    "                                          \n"
   ]
  },
  {
   "cell_type": "code",
   "execution_count": 8,
   "id": "c145ea84",
   "metadata": {},
   "outputs": [],
   "source": [
    "#Object initialized by the __init__ and all the 3 parameters in the original class needs to be passed\n",
    "\n",
    "Car1=Car(4,5,\"petrol\")"
   ]
  },
  {
   "cell_type": "code",
   "execution_count": 12,
   "id": "3622e28c",
   "metadata": {},
   "outputs": [
    {
     "name": "stdout",
     "output_type": "stream",
     "text": [
      "4\n"
     ]
    }
   ],
   "source": [
    "print(Car1.windows)"
   ]
  },
  {
   "cell_type": "code",
   "execution_count": 13,
   "id": "ad5c8ed5",
   "metadata": {},
   "outputs": [
    {
     "data": {
      "text/plain": [
       "'This is a petrol Car'"
      ]
     },
     "execution_count": 13,
     "metadata": {},
     "output_type": "execute_result"
    }
   ],
   "source": [
    "Car1.self_driving() #Calls the self which initializes the __init__ function"
   ]
  },
  {
   "cell_type": "code",
   "execution_count": 16,
   "id": "3d27d438",
   "metadata": {},
   "outputs": [],
   "source": [
    "Car2=Car(4,5,'diesel')"
   ]
  },
  {
   "cell_type": "code",
   "execution_count": 18,
   "id": "c0eedc99",
   "metadata": {},
   "outputs": [
    {
     "data": {
      "text/plain": [
       "'This is a diesel Car'"
      ]
     },
     "execution_count": 18,
     "metadata": {},
     "output_type": "execute_result"
    }
   ],
   "source": [
    "Car2.self_driving()"
   ]
  },
  {
   "cell_type": "code",
   "execution_count": 11,
   "id": "0ee38f2a",
   "metadata": {},
   "outputs": [
    {
     "data": {
      "text/plain": [
       "['__class__',\n",
       " '__delattr__',\n",
       " '__dict__',\n",
       " '__dir__',\n",
       " '__doc__',\n",
       " '__eq__',\n",
       " '__format__',\n",
       " '__ge__',\n",
       " '__getattribute__',\n",
       " '__getstate__',\n",
       " '__gt__',\n",
       " '__hash__',\n",
       " '__init__',\n",
       " '__init_subclass__',\n",
       " '__le__',\n",
       " '__lt__',\n",
       " '__module__',\n",
       " '__ne__',\n",
       " '__new__',\n",
       " '__reduce__',\n",
       " '__reduce_ex__',\n",
       " '__repr__',\n",
       " '__setattr__',\n",
       " '__sizeof__',\n",
       " '__str__',\n",
       " '__subclasshook__',\n",
       " '__weakref__',\n",
       " 'engine',\n",
       " 'fuel',\n",
       " 'self_driving',\n",
       " 'windows']"
      ]
     },
     "execution_count": 11,
     "metadata": {},
     "output_type": "execute_result"
    }
   ],
   "source": [
    "dir(Car1)"
   ]
  },
  {
   "cell_type": "markdown",
   "id": "f8282a6b",
   "metadata": {},
   "source": [
    "##INHERITANCE"
   ]
  },
  {
   "cell_type": "code",
   "execution_count": null,
   "id": "5e0d9e0a",
   "metadata": {},
   "outputs": [],
   "source": [
    "###All the class variables are public\n",
    "##Car Blueprint\n",
    "class Car():\n",
    "    def __init__(self,windows,speakers,fuel):\n",
    "        self.windows=windows\n",
    "        self.speakers=speakers\n",
    "        self.fuel=fuel\n",
    "    def drive(self):\n",
    "        print(\"The Peson Drives {} Car\".format(self.fuel))"
   ]
  },
  {
   "cell_type": "code",
   "execution_count": 31,
   "id": "3153b996",
   "metadata": {},
   "outputs": [],
   "source": [
    "Car1=Car(4,5,'petrol')"
   ]
  },
  {
   "cell_type": "code",
   "execution_count": 32,
   "id": "453f60b6",
   "metadata": {},
   "outputs": [
    {
     "name": "stdout",
     "output_type": "stream",
     "text": [
      "The Peson Drives petrol Car\n"
     ]
    }
   ],
   "source": [
    "Car1.drive()"
   ]
  },
  {
   "cell_type": "code",
   "execution_count": null,
   "id": "a9969118",
   "metadata": {},
   "outputs": [],
   "source": [
    " # Audi Class inheriting Car class and should inherit all the 3 valriables from Car class using super() method\n",
    "#enabledai is a new parameter and rest parameters inherited from Car class\n",
    "\n",
    "class audi(Car):\n",
    "    def __init__(self,windows,speakers,fuel,enableai): #initialization constructor\n",
    "        super().__init__(windows,speakers,fuel) # initialize the 3 variables from Car Class using super() method\n",
    "        self.enableai=enableai\n",
    "    def selfdrive(): #method\n",
    "        print(\"Audi Supports Self Driving\")\n",
    "\n"
   ]
  },
  {
   "cell_type": "code",
   "execution_count": 42,
   "id": "7f625669",
   "metadata": {},
   "outputs": [],
   "source": [
    "Audi1=audi(5,4,'petrol',True)"
   ]
  },
  {
   "cell_type": "code",
   "execution_count": 43,
   "id": "ac5b6013",
   "metadata": {},
   "outputs": [
    {
     "data": {
      "text/plain": [
       "5"
      ]
     },
     "execution_count": 43,
     "metadata": {},
     "output_type": "execute_result"
    }
   ],
   "source": [
    "Audi1.windows"
   ]
  },
  {
   "cell_type": "markdown",
   "id": "9194bf01",
   "metadata": {},
   "source": [
    "##Magic Methods\n",
    "#### __init__ is a magic method as it's called internally by default when an object is created"
   ]
  },
  {
   "cell_type": "code",
   "execution_count": 46,
   "id": "91e34779",
   "metadata": {},
   "outputs": [],
   "source": [
    "###All the class variables are public\n",
    "##Car Blueprint\n",
    "class Car():\n",
    "    def __init__(self,windows,speakers,fuel):\n",
    "        self.windows=windows\n",
    "        self.speakers=speakers\n",
    "        self.fuel=fuel\n",
    "    def drive(self):\n",
    "        print(\"The Peson Drives {} Car\".format(self.fuel))"
   ]
  },
  {
   "cell_type": "code",
   "execution_count": 48,
   "id": "3e6ddbde",
   "metadata": {},
   "outputs": [],
   "source": [
    "c=Car(4,5,'diesel')"
   ]
  },
  {
   "cell_type": "code",
   "execution_count": null,
   "id": "a9f43a59",
   "metadata": {},
   "outputs": [
    {
     "data": {
      "text/plain": [
       "<__main__.Car at 0x27a21060110>"
      ]
     },
     "execution_count": 49,
     "metadata": {},
     "output_type": "execute_result"
    }
   ],
   "source": [
    "c # Calls  magic method __init__ to initialize the Class Car"
   ]
  },
  {
   "cell_type": "code",
   "execution_count": 51,
   "id": "42131a3b",
   "metadata": {},
   "outputs": [
    {
     "name": "stdout",
     "output_type": "stream",
     "text": [
      "<__main__.Car object at 0x0000027A21060110>\n"
     ]
    }
   ],
   "source": [
    "print (c)"
   ]
  },
  {
   "cell_type": "code",
   "execution_count": 1,
   "id": "619234d1",
   "metadata": {},
   "outputs": [],
   "source": [
    "## now define the __str__ magic method \n",
    "\n",
    "class Car():\n",
    "    def __init__(self,windows,speakers,fuel):\n",
    "        self.windows=windows\n",
    "        self.speakers=speakers\n",
    "        self.fuel=fuel\n",
    "    def __str__(self):\n",
    "        print(\"The object has been initialized\")\n",
    "    def drive(self):\n",
    "        print(\"The Peson Drives {} Car\".format(self.fuel))"
   ]
  },
  {
   "cell_type": "code",
   "execution_count": 2,
   "id": "2d21151c",
   "metadata": {},
   "outputs": [],
   "source": [
    "c=Car(4,5,'diesel')"
   ]
  },
  {
   "cell_type": "code",
   "execution_count": 3,
   "id": "8e6ffe76",
   "metadata": {},
   "outputs": [
    {
     "name": "stdout",
     "output_type": "stream",
     "text": [
      "The object has been initialized\n"
     ]
    },
    {
     "ename": "TypeError",
     "evalue": "__str__ returned non-string (type NoneType)",
     "output_type": "error",
     "traceback": [
      "\u001b[31m---------------------------------------------------------------------------\u001b[39m",
      "\u001b[31mTypeError\u001b[39m                                 Traceback (most recent call last)",
      "\u001b[36mCell\u001b[39m\u001b[36m \u001b[39m\u001b[32mIn[3]\u001b[39m\u001b[32m, line 1\u001b[39m\n\u001b[32m----> \u001b[39m\u001b[32m1\u001b[39m \u001b[38;5;28;43mprint\u001b[39;49m\u001b[43m(\u001b[49m\u001b[43mc\u001b[49m\u001b[43m)\u001b[49m \u001b[38;5;66;03m# getting error because the magic method __str__ must return the value\u001b[39;00m\n",
      "\u001b[31mTypeError\u001b[39m: __str__ returned non-string (type NoneType)"
     ]
    }
   ],
   "source": [
    "print(c) # getting error because the magic method __str__ must return the value"
   ]
  },
  {
   "cell_type": "code",
   "execution_count": null,
   "id": "8ee996af",
   "metadata": {},
   "outputs": [
    {
     "data": {
      "text/plain": [
       "4"
      ]
     },
     "execution_count": 5,
     "metadata": {},
     "output_type": "execute_result"
    }
   ],
   "source": []
  },
  {
   "cell_type": "code",
   "execution_count": 6,
   "id": "bed01c8f",
   "metadata": {},
   "outputs": [],
   "source": [
    "## now return the response from the __str__ magic method \n",
    "\n",
    "class Car():\n",
    "    def __init__(self,windows,speakers,fuel):\n",
    "        self.windows=windows\n",
    "        self.speakers=speakers\n",
    "        self.fuel=fuel\n",
    "    def __str__(self):\n",
    "        return \"The object has been initialized\"\n",
    "    def drive(self):\n",
    "        print(\"The Peson Drives {} Car\".format(self.fuel))"
   ]
  },
  {
   "cell_type": "code",
   "execution_count": 7,
   "id": "9c79293a",
   "metadata": {},
   "outputs": [],
   "source": [
    "c=Car(4,5,'diesel')"
   ]
  },
  {
   "cell_type": "code",
   "execution_count": 8,
   "id": "952535bf",
   "metadata": {},
   "outputs": [
    {
     "name": "stdout",
     "output_type": "stream",
     "text": [
      "The object has been initialized\n"
     ]
    }
   ],
   "source": [
    "print(c) # now it works"
   ]
  },
  {
   "cell_type": "code",
   "execution_count": 9,
   "id": "dfad2306",
   "metadata": {},
   "outputs": [
    {
     "data": {
      "text/plain": [
       "<__main__.Car at 0x268bc502540>"
      ]
     },
     "execution_count": 9,
     "metadata": {},
     "output_type": "execute_result"
    }
   ],
   "source": [
    "c"
   ]
  }
 ],
 "metadata": {
  "kernelspec": {
   "display_name": ".venv",
   "language": "python",
   "name": "python3"
  },
  "language_info": {
   "codemirror_mode": {
    "name": "ipython",
    "version": 3
   },
   "file_extension": ".py",
   "mimetype": "text/x-python",
   "name": "python",
   "nbconvert_exporter": "python",
   "pygments_lexer": "ipython3",
   "version": "3.12.3"
  }
 },
 "nbformat": 4,
 "nbformat_minor": 5
}
