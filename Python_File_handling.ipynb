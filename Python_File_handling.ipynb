{
 "cells": [
  {
   "cell_type": "markdown",
   "id": "1ae66161",
   "metadata": {},
   "source": [
    "# File Operation - Read and Write Files\n",
    "\n"
   ]
  },
  {
   "cell_type": "code",
   "execution_count": 5,
   "id": "0c806595",
   "metadata": {},
   "outputs": [
    {
     "name": "stdout",
     "output_type": "stream",
     "text": [
      "Hello Worldthis is new line\n"
     ]
    }
   ],
   "source": [
    "#Read Whole file\n",
    "\n",
    "\n",
    "with open ('example.txt','r') as file:\n",
    "    content=file.read()\n",
    "    print(content)"
   ]
  },
  {
   "cell_type": "code",
   "execution_count": 2,
   "id": "da67a894",
   "metadata": {},
   "outputs": [
    {
     "name": "stdout",
     "output_type": "stream",
     "text": [
      "Hello \n",
      "\n",
      "How are you\n",
      "\n",
      "Manish is my name\n",
      "\n",
      "Welcome to my channel\n"
     ]
    }
   ],
   "source": [
    "#Read line by line\n",
    "\n",
    "with open('example.txt','r') as file:\n",
    "    for line in file:\n",
    "        print(line)"
   ]
  },
  {
   "cell_type": "code",
   "execution_count": 3,
   "id": "d82aa100",
   "metadata": {},
   "outputs": [
    {
     "name": "stdout",
     "output_type": "stream",
     "text": [
      "Hello\n",
      "How are you\n",
      "Manish is my name\n",
      "Welcome to my channel\n"
     ]
    }
   ],
   "source": [
    "#Read line by line\n",
    "\n",
    "with open('example.txt','r') as file:\n",
    "    for line in file:\n",
    "        print(line.strip()) #.strip removes the new line character\n",
    "        "
   ]
  },
  {
   "cell_type": "code",
   "execution_count": null,
   "id": "1a913070",
   "metadata": {},
   "outputs": [
    {
     "name": "stdout",
     "output_type": "stream",
     "text": [
      "Hello World\n",
      "this is new line\n"
     ]
    }
   ],
   "source": [
    "# Writing a file (Overwriting) - it overwrites the existing file\n",
    "with open(\"example.txt\",'w') as file:\n",
    "    file.write('Hello World\\n')\n",
    "    file.write('this is new line')\n",
    "\n",
    "# Read file again\n",
    "with open ('example.txt','r') as file:\n",
    "    content=file.read()\n",
    "    print(content)"
   ]
  },
  {
   "cell_type": "code",
   "execution_count": null,
   "id": "465224c9",
   "metadata": {},
   "outputs": [
    {
     "name": "stdout",
     "output_type": "stream",
     "text": [
      "Hello World\n",
      "this is new line\n",
      "Appending a new line \n",
      "\n"
     ]
    }
   ],
   "source": [
    "#appending a new line\n",
    "\n",
    "with open(\"example.txt\",'a') as file:\n",
    "    file.write(\"\\nAppending a new line \\n\")\n",
    "    \n",
    "# Read file again\n",
    "with open ('example.txt','r') as file:\n",
    "    content=file.read()\n",
    "    print(content)"
   ]
  },
  {
   "cell_type": "code",
   "execution_count": null,
   "id": "e30f15d8",
   "metadata": {},
   "outputs": [
    {
     "name": "stdout",
     "output_type": "stream",
     "text": [
      "Hello World\n",
      "this is new line\n",
      "Appending a new line \n",
      "First Line \n",
      "Second Line\n",
      "Third Line\n",
      "\n"
     ]
    }
   ],
   "source": [
    "#Writing a list of lines\n",
    "\n",
    "lines=['First Line \\n', 'Second Line\\n', 'Third Line\\n']\n",
    "\n",
    "with open(\"example.txt\",'a') as file:\n",
    "    file.writelines(lines) \n",
    "\n",
    "# Read file again\n",
    "with open ('example.txt','r') as file:\n",
    "    content=file.read()\n",
    "    print(content)"
   ]
  },
  {
   "cell_type": "code",
   "execution_count": null,
   "id": "71aeb757",
   "metadata": {},
   "outputs": [],
   "source": [
    "## Read context from the source file and write to a destination text file.\n",
    "\n",
    "with open (\"example.txt\",'r') as file:\n",
    "    content=file.read()\n",
    "\n",
    "with open(\"destination.txt\",'w') as file:  # creates the destination file automatically\n",
    "    file.write(content)"
   ]
  },
  {
   "cell_type": "code",
   "execution_count": null,
   "id": "2f875c1c",
   "metadata": {},
   "outputs": [
    {
     "name": "stdout",
     "output_type": "stream",
     "text": [
      "['Hello World\\n', 'this is new line\\n', 'Appending a new line \\n', 'First Line \\n', 'Second Line\\n', 'Third Line\\n']\n",
      "count of lines 6\n",
      "count of words 16\n",
      "count of charaters excluding spaces 68\n",
      "count of charaters including spaces 86\n"
     ]
    }
   ],
   "source": [
    "#Read a text file and count no of lines , characters and words\n",
    "\n",
    "with open (\"example.txt\",'r') as file:\n",
    "    content=file.readlines()  # converts to a list of lines\n",
    "    count_lines=len(content)\n",
    "    count_words=sum([len(x.split()) for x in content])\n",
    "    count_char=sum([len(x.split()) for n in content for x in n]) # count excluding spaces and newline\n",
    "    count_char_full=sum([len(line) for line in content])  # count including spaces and newline\n",
    "\n",
    "  \n",
    "print(content)\n",
    "print(f\"count of lines {count_lines}\")\n",
    "print(f\"count of words {count_words}\")\n",
    "print(f\"count of charaters excluding spaces {count_char}\")\n",
    "print(f\"count of charaters including spaces {count_char_full}\")"
   ]
  }
 ],
 "metadata": {
  "kernelspec": {
   "display_name": ".venv",
   "language": "python",
   "name": "python3"
  },
  "language_info": {
   "codemirror_mode": {
    "name": "ipython",
    "version": 3
   },
   "file_extension": ".py",
   "mimetype": "text/x-python",
   "name": "python",
   "nbconvert_exporter": "python",
   "pygments_lexer": "ipython3",
   "version": "3.12.3"
  }
 },
 "nbformat": 4,
 "nbformat_minor": 5
}
