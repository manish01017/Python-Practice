{
 "cells": [
  {
   "cell_type": "markdown",
   "id": "1ae66161",
   "metadata": {},
   "source": [
    "# File Operation - Read and Write Files\n",
    "\n"
   ]
  },
  {
   "cell_type": "code",
   "execution_count": 5,
   "id": "0c806595",
   "metadata": {},
   "outputs": [
    {
     "name": "stdout",
     "output_type": "stream",
     "text": [
      "Hello Worldthis is new line\n"
     ]
    }
   ],
   "source": [
    "#Read Whole file\n",
    "\n",
    "\n",
    "with open ('example.txt','r') as file:\n",
    "    content=file.read()\n",
    "    print(content)"
   ]
  },
  {
   "cell_type": "code",
   "execution_count": 2,
   "id": "da67a894",
   "metadata": {},
   "outputs": [
    {
     "name": "stdout",
     "output_type": "stream",
     "text": [
      "Hello \n",
      "\n",
      "How are you\n",
      "\n",
      "Manish is my name\n",
      "\n",
      "Welcome to my channel\n"
     ]
    }
   ],
   "source": [
    "#Read line by line\n",
    "\n",
    "with open('example.txt','r') as file:\n",
    "    for line in file:\n",
    "        print(line)"
   ]
  },
  {
   "cell_type": "code",
   "execution_count": 3,
   "id": "d82aa100",
   "metadata": {},
   "outputs": [
    {
     "name": "stdout",
     "output_type": "stream",
     "text": [
      "Hello\n",
      "How are you\n",
      "Manish is my name\n",
      "Welcome to my channel\n"
     ]
    }
   ],
   "source": [
    "#Read line by line\n",
    "\n",
    "with open('example.txt','r') as file:\n",
    "    for line in file:\n",
    "        print(line.strip()) #.strip removes the new line character\n",
    "        "
   ]
  },
  {
   "cell_type": "code",
   "execution_count": null,
   "id": "1a913070",
   "metadata": {},
   "outputs": [
    {
     "name": "stdout",
     "output_type": "stream",
     "text": [
      "Hello World\n",
      "this is new line\n"
     ]
    }
   ],
   "source": [
    "# Writing a file (Overwriting) - it overwrites the existing file\n",
    "with open(\"example.txt\",'w') as file:\n",
    "    file.write('Hello World\\n')\n",
    "    file.write('this is new line')\n",
    "\n",
    "# Read file again\n",
    "with open ('example.txt','r') as file:\n",
    "    content=file.read()\n",
    "    print(content)"
   ]
  },
  {
   "cell_type": "code",
   "execution_count": null,
   "id": "465224c9",
   "metadata": {},
   "outputs": [
    {
     "name": "stdout",
     "output_type": "stream",
     "text": [
      "Hello World\n",
      "this is new line\n",
      "Appending a new line \n",
      "\n"
     ]
    }
   ],
   "source": [
    "#appending a new line\n",
    "\n",
    "with open(\"example.txt\",'a') as file:\n",
    "    file.write(\"\\nAppending a new line \\n\")\n",
    "    \n",
    "# Read file again\n",
    "with open ('example.txt','r') as file:\n",
    "    content=file.read()\n",
    "    print(content)"
   ]
  },
  {
   "cell_type": "code",
   "execution_count": null,
   "id": "e30f15d8",
   "metadata": {},
   "outputs": [
    {
     "name": "stdout",
     "output_type": "stream",
     "text": [
      "Hello World\n",
      "this is new line\n",
      "Appending a new line \n",
      "First Line \n",
      "Second Line\n",
      "Third Line\n",
      "\n"
     ]
    }
   ],
   "source": [
    "#Writing a list of lines\n",
    "\n",
    "lines=['First Line \\n', 'Second Line\\n', 'Third Line\\n']\n",
    "\n",
    "with open(\"example.txt\",'a') as file:\n",
    "    file.writelines(lines) \n",
    "\n",
    "# Read file again\n",
    "with open ('example.txt','r') as file:\n",
    "    content=file.read()\n",
    "    print(content)"
   ]
  },
  {
   "cell_type": "code",
   "execution_count": null,
   "id": "71aeb757",
   "metadata": {},
   "outputs": [],
   "source": [
    "## Read context from the source file and write to a destination text file.\n",
    "\n",
    "with open (\"example.txt\",'r') as file:\n",
    "    content=file.read()\n",
    "\n",
    "with open(\"destination.txt\",'w') as file:  # creates the destination file automatically\n",
    "    file.write(content)"
   ]
  },
  {
   "cell_type": "code",
   "execution_count": 5,
   "id": "2f875c1c",
   "metadata": {},
   "outputs": [
    {
     "name": "stdout",
     "output_type": "stream",
     "text": [
      "['Hello world/nThis is a new line /n']\n",
      "count of lines 1\n",
      "count of words 7\n",
      "count of charaters excluding spaces 28\n",
      "count of charaters including spaces 34\n"
     ]
    }
   ],
   "source": [
    "#Read a text file and count no of lines , characters and words\n",
    "\n",
    "with open (\"example.txt\",'r') as file:\n",
    "    content=file.readlines()  # converts to a list of lines\n",
    "    count_lines=len(content)\n",
    "    count_words=sum([len(x.split()) for x in content])\n",
    "    count_char=sum([len(x.split()) for n in content for x in n]) # count excluding spaces and newline\n",
    "    count_char_full=sum([len(line) for line in content])  # count including spaces and newline\n",
    "\n",
    "  \n",
    "print(content)\n",
    "print(f\"count of lines {count_lines}\")\n",
    "print(f\"count of words {count_words}\")\n",
    "print(f\"count of charaters excluding spaces {count_char}\")\n",
    "print(f\"count of charaters including spaces {count_char_full}\")"
   ]
  },
  {
   "cell_type": "markdown",
   "id": "1c15d241",
   "metadata": {},
   "source": [
    "The w+ mode in Python is used to open a file for both reading and writing . If  the file does not exist, it will be created. if the file exists, the content is truncated (ie the file is overwritten)"
   ]
  },
  {
   "cell_type": "code",
   "execution_count": null,
   "id": "53602d13",
   "metadata": {},
   "outputs": [
    {
     "name": "stdout",
     "output_type": "stream",
     "text": [
      "Hello world\n",
      "This is a new line \n",
      "\n"
     ]
    }
   ],
   "source": [
    "### Writing and then reading  a file\n",
    "\n",
    "with open ('example.txt','w+') as file:\n",
    "    file.write(\"Hello world\\n\")\n",
    "    file.write(\"This is a new line \\n\")\n",
    "    \n",
    "    #right now file cursor on second line and if we use file.read() to read file , it won't read the file  as the cursor is on the second line so we will have to move cursor to the first line\n",
    "    file.seek(0)  # move the cursor to 1st line\n",
    "    content=file.read()\n",
    "    print(content)\n",
    "\n"
   ]
  },
  {
   "cell_type": "markdown",
   "id": "ed5c7920",
   "metadata": {},
   "source": [
    "Reading File Path"
   ]
  },
  {
   "cell_type": "code",
   "execution_count": 11,
   "id": "82ca92b4",
   "metadata": {},
   "outputs": [
    {
     "name": "stdout",
     "output_type": "stream",
     "text": [
      "c:\\Users\\manis\\Desktop\\Python-Practice\n"
     ]
    }
   ],
   "source": [
    "import os\n",
    "cwd=os.getcwd()\n",
    "\n",
    "print(cwd)\n"
   ]
  },
  {
   "cell_type": "code",
   "execution_count": 15,
   "id": "6d5f4fa8",
   "metadata": {},
   "outputs": [
    {
     "name": "stdout",
     "output_type": "stream",
     "text": [
      "The new directory is Package\n"
     ]
    }
   ],
   "source": [
    "## create a new directory\n",
    "new_directory=\"Package\"\n",
    "\n",
    "os.mkdir(new_directory)\n",
    "\n",
    "print ( f\"The new directory is {new_directory}\")"
   ]
  },
  {
   "cell_type": "code",
   "execution_count": null,
   "id": "7c8927f1",
   "metadata": {},
   "outputs": [
    {
     "name": "stdout",
     "output_type": "stream",
     "text": [
      "['.git', '.gitignore', '.venv', 'Advanced_sting_formatting.ipynb', 'Data_Structures.ipynb', 'destination.txt', 'EDA_TITANIC_LGS.ipynb', 'example.bin', 'example.txt', 'functions_misc.ipynb', 'Iterables_iterators.ipynb', 'lambda_filter_map.ipynb', 'logging.ipynb', 'Manish.txt', 'new.csv', 'oops_1.ipynb', 'oops_advanced.ipynb', 'OOPS_Excepion_handling.ipynb', 'Package', 'Pandas_basics.ipynb', 'Practice Problems.ipynb', 'Python_Data_classes.ipynb', 'Python_File_handling.ipynb', 'README.md', 'stock_data.csv', 'stock_data.xlsx', 'Titanic-Dataset.csv', 'titanic_train.csv', 'weather_data (1).csv', 'weather_data.csv', 'weather_data_missing.csv']\n"
     ]
    }
   ],
   "source": [
    "# List all the files and Directories\n",
    "\n",
    "items=os.listdir('.') #list all files in the working directory\n",
    "print(items)"
   ]
  },
  {
   "cell_type": "code",
   "execution_count": 18,
   "id": "dddc60ff",
   "metadata": {},
   "outputs": [
    {
     "name": "stdout",
     "output_type": "stream",
     "text": [
      "Folder\\file.txt\n"
     ]
    }
   ],
   "source": [
    "#joining Paths\n",
    "\n",
    "dir_name=\"Folder\"\n",
    "file_name=\"file.txt\"\n",
    "full_path=os.path.join(dir_name,file_name)\n",
    "print(full_path)\n",
    "\n"
   ]
  },
  {
   "cell_type": "code",
   "execution_count": 19,
   "id": "d6dc0a91",
   "metadata": {},
   "outputs": [
    {
     "name": "stdout",
     "output_type": "stream",
     "text": [
      "c:\\Users\\manis\\Desktop\\Python-Practice\\Folder\\file.txt\n"
     ]
    }
   ],
   "source": [
    "dir_name=\"Folder\"\n",
    "file_name=\"file.txt\"\n",
    "full_path=os.path.join(os.getcwd(),dir_name,file_name)\n",
    "print(full_path)\n"
   ]
  },
  {
   "cell_type": "code",
   "execution_count": null,
   "id": "5267525f",
   "metadata": {},
   "outputs": [
    {
     "name": "stdout",
     "output_type": "stream",
     "text": [
      "This example1.txt does not exists \n"
     ]
    }
   ],
   "source": [
    "#to check if file or path exists\n",
    "\n",
    "path='example1.txt'\n",
    "if os.path.exists(path):\n",
    "    print(f\"This {path} exists \")\n",
    "else:\n",
    "    print(f\"This {path} does not exists \")\n",
    "\n"
   ]
  },
  {
   "cell_type": "code",
   "execution_count": 24,
   "id": "2cce3de2",
   "metadata": {},
   "outputs": [
    {
     "name": "stdout",
     "output_type": "stream",
     "text": [
      "This c:\\Users\\manis\\Desktop\\Python-Practice is a directory\n"
     ]
    }
   ],
   "source": [
    "path=os.getcwd()\n",
    "if os.path.isfile(path):\n",
    "    print(f\"This {path} is a file \")\n",
    "elif os.path.isdir(path):\n",
    "    print(f\"This {path} is a directory\")\n",
    "else:\n",
    "    print(f\"This {path} is neither a file nor a directory\")"
   ]
  },
  {
   "cell_type": "code",
   "execution_count": 25,
   "id": "7150e917",
   "metadata": {},
   "outputs": [
    {
     "name": "stdout",
     "output_type": "stream",
     "text": [
      "c:\\Users\\manis\\Desktop\\Python-Practice\\example.txt\n"
     ]
    }
   ],
   "source": [
    "## Getting a absolute path\n",
    "relative_path='example.txt'\n",
    "absolute_path=os.path.abspath(relative_path)\n",
    "print(absolute_path)"
   ]
  }
 ],
 "metadata": {
  "kernelspec": {
   "display_name": ".venv",
   "language": "python",
   "name": "python3"
  },
  "language_info": {
   "codemirror_mode": {
    "name": "ipython",
    "version": 3
   },
   "file_extension": ".py",
   "mimetype": "text/x-python",
   "name": "python",
   "nbconvert_exporter": "python",
   "pygments_lexer": "ipython3",
   "version": "3.12.3"
  }
 },
 "nbformat": 4,
 "nbformat_minor": 5
}
