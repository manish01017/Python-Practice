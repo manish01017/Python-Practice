{
 "cells": [
  {
   "cell_type": "markdown",
   "id": "a09d660a",
   "metadata": {},
   "source": [
    "#Functions in Python"
   ]
  },
  {
   "cell_type": "code",
   "execution_count": 15,
   "id": "4aa99f4a",
   "metadata": {},
   "outputs": [],
   "source": [
    "def even_odd(num):\n",
    "  if num%2==0:\n",
    "    print(f'the number {num} is even')\n",
    "  else:\n",
    "    print(f'the number {num} is odd')"
   ]
  },
  {
   "cell_type": "code",
   "execution_count": 17,
   "id": "b870952e",
   "metadata": {},
   "outputs": [
    {
     "name": "stdout",
     "output_type": "stream",
     "text": [
      "the number 22 is even\n"
     ]
    }
   ],
   "source": [
    "even_odd(22)"
   ]
  },
  {
   "cell_type": "code",
   "execution_count": null,
   "id": "fcc686cf",
   "metadata": {},
   "outputs": [],
   "source": [
    "# print  - will not return the result\n",
    "# return -returns a value \n",
    "\n",
    "def hello_world():\n",
    "    print(\"Hello Welcome\")"
   ]
  },
  {
   "cell_type": "code",
   "execution_count": 20,
   "id": "d7b3aea6",
   "metadata": {},
   "outputs": [],
   "source": [
    "def hello_world():\n",
    "    return \"Hello Welcome\""
   ]
  },
  {
   "cell_type": "code",
   "execution_count": 21,
   "id": "84f66815",
   "metadata": {},
   "outputs": [],
   "source": [
    "var= hello_world()"
   ]
  },
  {
   "cell_type": "code",
   "execution_count": 22,
   "id": "68d406ce",
   "metadata": {},
   "outputs": [
    {
     "name": "stdout",
     "output_type": "stream",
     "text": [
      "Hello Welcome\n"
     ]
    }
   ],
   "source": [
    "print(var)"
   ]
  },
  {
   "cell_type": "code",
   "execution_count": null,
   "id": "bc821655",
   "metadata": {},
   "outputs": [],
   "source": [
    "##age=29 -- keyword arg\n",
    "# name - positional arguments\n",
    "\n",
    "def hello(name,age=29):\n",
    "    print(f'My name is {name} and age is {age}')"
   ]
  },
  {
   "cell_type": "code",
   "execution_count": 29,
   "id": "6607b8a1",
   "metadata": {},
   "outputs": [
    {
     "name": "stdout",
     "output_type": "stream",
     "text": [
      "My name is manish and age is 29\n"
     ]
    }
   ],
   "source": [
    "hello('manish')"
   ]
  },
  {
   "cell_type": "code",
   "execution_count": 1,
   "id": "dceb6e8c",
   "metadata": {},
   "outputs": [],
   "source": [
    "#*args - positional arguments - returned in a tuple\n",
    "#**kwargs - keyword arguments - returned as a dict object\n",
    "\n",
    "def hello(*args,**kwargs):\n",
    "    print(args)\n",
    "    print(kwargs)"
   ]
  },
  {
   "cell_type": "code",
   "execution_count": null,
   "id": "a3b7ad60",
   "metadata": {},
   "outputs": [
    {
     "name": "stdout",
     "output_type": "stream",
     "text": [
      "('Manish', 'Pandey')\n",
      "{'age': 22, 'dob': 1987}\n"
     ]
    }
   ],
   "source": [
    "#positional arguments are in tuple and keyword argument in dictionary\n",
    "\n",
    "hello(\"Manish\",\"Pandey\",age=22, dob=1987)"
   ]
  },
  {
   "cell_type": "code",
   "execution_count": 3,
   "id": "d93b9212",
   "metadata": {},
   "outputs": [],
   "source": [
    "lst=[\"Manish\",\"Pandey\"]\n",
    "dict={'age': 22, 'dob': 1987}"
   ]
  },
  {
   "cell_type": "code",
   "execution_count": null,
   "id": "e2ca1594",
   "metadata": {},
   "outputs": [
    {
     "name": "stdout",
     "output_type": "stream",
     "text": [
      "(['Manish', 'Pandey'], {'age': 22, 'dob': 1987})\n",
      "{}\n"
     ]
    }
   ],
   "source": [
    "# by default it is picking dict as positional arguments --see the dictionary structure is empty\n",
    "\n",
    "hello(lst,dict)"
   ]
  },
  {
   "cell_type": "code",
   "execution_count": null,
   "id": "d0baed29",
   "metadata": {},
   "outputs": [
    {
     "name": "stdout",
     "output_type": "stream",
     "text": [
      "('Manish', 'Pandey')\n",
      "{'age': 22, 'dob': 1987}\n"
     ]
    }
   ],
   "source": [
    "# to fix it, do as below\n",
    "hello(*lst,**dict)\n"
   ]
  },
  {
   "cell_type": "code",
   "execution_count": 40,
   "id": "a4ab5cff",
   "metadata": {},
   "outputs": [],
   "source": [
    "lst=[1,2,4,6,5,8,9,3,11]"
   ]
  },
  {
   "cell_type": "code",
   "execution_count": 41,
   "id": "b225ebc3",
   "metadata": {},
   "outputs": [],
   "source": [
    "#Function to return the sum of even and odd numbers in the lst\n",
    "def evenoddsum(lst):\n",
    "    evensum=0\n",
    "    oddsum=0\n",
    "    for i in lst:\n",
    "        if i%2==0:\n",
    "            evensum=evensum+i\n",
    "        else:\n",
    "            oddsum=oddsum+i\n",
    "    return evensum,oddsum        \n"
   ]
  },
  {
   "cell_type": "code",
   "execution_count": 42,
   "id": "1325ad36",
   "metadata": {},
   "outputs": [
    {
     "data": {
      "text/plain": [
       "(20, 29)"
      ]
     },
     "execution_count": 42,
     "metadata": {},
     "output_type": "execute_result"
    }
   ],
   "source": [
    "evenoddsum(lst)"
   ]
  }
 ],
 "metadata": {
  "kernelspec": {
   "display_name": ".venv",
   "language": "python",
   "name": "python3"
  },
  "language_info": {
   "codemirror_mode": {
    "name": "ipython",
    "version": 3
   },
   "file_extension": ".py",
   "mimetype": "text/x-python",
   "name": "python",
   "nbconvert_exporter": "python",
   "pygments_lexer": "ipython3",
   "version": "3.12.3"
  }
 },
 "nbformat": 4,
 "nbformat_minor": 5
}
