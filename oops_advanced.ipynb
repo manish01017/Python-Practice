{
 "cells": [
  {
   "cell_type": "markdown",
   "id": "59816d3f",
   "metadata": {},
   "source": [
    "### Class Methods and Class Variables"
   ]
  },
  {
   "cell_type": "code",
   "execution_count": null,
   "id": "664c4407",
   "metadata": {},
   "outputs": [],
   "source": [
    "class Car:\n",
    "    base_price=10000  #Class Variables\n",
    "    def __init__(self,windows,doors,power): #Constructor\n",
    "        self.windows=windows #instance variable\n",
    "        self.doors=doors\n",
    "        self.power=power\n",
    "    def whatbaseprice(self): #instance method\n",
    "        print(\"The base price is {}\".format(self.base_price))"
   ]
  },
  {
   "cell_type": "code",
   "execution_count": 2,
   "id": "7d97d93f",
   "metadata": {},
   "outputs": [],
   "source": [
    "car1= Car(4,5,'1500cc')"
   ]
  },
  {
   "cell_type": "code",
   "execution_count": null,
   "id": "9d7cd3aa",
   "metadata": {},
   "outputs": [
    {
     "name": "stdout",
     "output_type": "stream",
     "text": [
      "The base price is 10000\n"
     ]
    }
   ],
   "source": [
    "car1.whatbaseprice()  #using instance"
   ]
  },
  {
   "cell_type": "code",
   "execution_count": null,
   "id": "f6132d7f",
   "metadata": {},
   "outputs": [
    {
     "data": {
      "text/plain": [
       "10000"
      ]
     },
     "execution_count": 5,
     "metadata": {},
     "output_type": "execute_result"
    }
   ],
   "source": [
    "Car.base_price  #Calling the class variable using class"
   ]
  },
  {
   "cell_type": "markdown",
   "id": "f69c3352",
   "metadata": {},
   "source": [
    "Inflation of base price by 10%"
   ]
  },
  {
   "cell_type": "code",
   "execution_count": null,
   "id": "ef319c8c",
   "metadata": {},
   "outputs": [],
   "source": [
    "class Car:\n",
    "    base_price=10000  #Class Variables\n",
    "    def __init__(self,windows,doors,power): #Constructor\n",
    "        self.windows=windows #instance variable\n",
    "        self.doors=doors\n",
    "        self.power=power\n",
    "    def whatbaseprice(self): # self refers to the instance of the class \n",
    "        print(\"The base price is {}\".format(self.base_price))\n",
    "    @classmethod                          # decorator\n",
    "    def revise_base_price(cls,inflation): #cls is used to refer to the class itself not the instance\n",
    "        cls.base_price=cls.base_price + cls.base_price * inflation"
   ]
  },
  {
   "cell_type": "code",
   "execution_count": 8,
   "id": "9753d1a8",
   "metadata": {},
   "outputs": [],
   "source": [
    "car1=Car(4,5,'1600cc')"
   ]
  },
  {
   "cell_type": "code",
   "execution_count": 9,
   "id": "e53fb196",
   "metadata": {},
   "outputs": [
    {
     "data": {
      "text/plain": [
       "10000"
      ]
     },
     "execution_count": 9,
     "metadata": {},
     "output_type": "execute_result"
    }
   ],
   "source": [
    "car1.base_price"
   ]
  },
  {
   "cell_type": "code",
   "execution_count": 10,
   "id": "3ad3df04",
   "metadata": {},
   "outputs": [],
   "source": [
    "#increase the base price of the car by 10% next year\n",
    "# 1st way : update using the class ( the ideal and correct way)\n",
    "\n",
    "Car.revise_base_price(0.10)"
   ]
  },
  {
   "cell_type": "code",
   "execution_count": null,
   "id": "4d0a3d1f",
   "metadata": {},
   "outputs": [
    {
     "data": {
      "text/plain": [
       "11000.0"
      ]
     },
     "execution_count": 11,
     "metadata": {},
     "output_type": "execute_result"
    }
   ],
   "source": [
    "#base price updated\n",
    "Car.base_price"
   ]
  },
  {
   "cell_type": "code",
   "execution_count": 13,
   "id": "8834817b",
   "metadata": {},
   "outputs": [
    {
     "data": {
      "text/plain": [
       "11000.0"
      ]
     },
     "execution_count": 13,
     "metadata": {},
     "output_type": "execute_result"
    }
   ],
   "source": [
    "#Any instance created now or before will have the updated base price\n",
    "\n",
    "car1.base_price"
   ]
  },
  {
   "cell_type": "code",
   "execution_count": 14,
   "id": "8ab0d256",
   "metadata": {},
   "outputs": [],
   "source": [
    "#2nd way : using the object to revise the price ( not an ideal way)\n",
    "\n",
    "car1.revise_base_price(0.10)"
   ]
  },
  {
   "cell_type": "code",
   "execution_count": 15,
   "id": "a182fba7",
   "metadata": {},
   "outputs": [
    {
     "data": {
      "text/plain": [
       "12100.0"
      ]
     },
     "execution_count": 15,
     "metadata": {},
     "output_type": "execute_result"
    }
   ],
   "source": [
    "car1.base_price"
   ]
  },
  {
   "cell_type": "code",
   "execution_count": null,
   "id": "2553aa32",
   "metadata": {},
   "outputs": [
    {
     "data": {
      "text/plain": [
       "12100.0"
      ]
     },
     "execution_count": 16,
     "metadata": {},
     "output_type": "execute_result"
    }
   ],
   "source": [
    "#Class variable also updated by the object instance created\n",
    "\n",
    "Car.base_price"
   ]
  },
  {
   "cell_type": "markdown",
   "id": "8293786c",
   "metadata": {},
   "source": [
    "Static Methods in Python"
   ]
  },
  {
   "cell_type": "code",
   "execution_count": 17,
   "id": "fe75535e",
   "metadata": {},
   "outputs": [],
   "source": [
    "import datetime \n",
    "now=datetime.datetime.now()"
   ]
  },
  {
   "cell_type": "code",
   "execution_count": 18,
   "id": "ea8adc31",
   "metadata": {},
   "outputs": [
    {
     "data": {
      "text/plain": [
       "datetime.datetime(2025, 9, 16, 9, 1, 22, 483405)"
      ]
     },
     "execution_count": 18,
     "metadata": {},
     "output_type": "execute_result"
    }
   ],
   "source": [
    "now"
   ]
  },
  {
   "cell_type": "code",
   "execution_count": null,
   "id": "9391075c",
   "metadata": {},
   "outputs": [],
   "source": [
    "class Car:\n",
    "    base_price=10000  #Class Variables\n",
    "    def __init__(self,windows,doors,power): #Constructor\n",
    "        self.windows=windows #instance variable\n",
    "        self.doors=doors\n",
    "        self.power=power\n",
    "    def whatbaseprice(self): # self refers to the instance of the class \n",
    "        print(\"The base price is {}\".format(self.base_price))\n",
    "    @classmethod                          # decorator\n",
    "    def revise_base_price(cls,inflation): #cls is used to refer to the class itself not the instance\n",
    "        cls.base_price=cls.base_price + cls.base_price * inflation\n",
    "    @staticmethod     \n",
    "    def check_year(): #we don't use self or cls to call static method and it's faster  and it's initialized when the classmethod is initialized\n",
    "        if now.year == 2021:\n",
    "            return True\n",
    "        else:\n",
    "            return False\n"
   ]
  },
  {
   "cell_type": "code",
   "execution_count": 25,
   "id": "79202d9f",
   "metadata": {},
   "outputs": [
    {
     "data": {
      "text/plain": [
       "False"
      ]
     },
     "execution_count": 25,
     "metadata": {},
     "output_type": "execute_result"
    }
   ],
   "source": [
    "Car.check_year()"
   ]
  },
  {
   "cell_type": "code",
   "execution_count": 26,
   "id": "4a7c8a51",
   "metadata": {},
   "outputs": [],
   "source": [
    "car2=Car(5,6,'1800cc')"
   ]
  },
  {
   "cell_type": "code",
   "execution_count": 27,
   "id": "63637da2",
   "metadata": {},
   "outputs": [],
   "source": [
    "if (car2.check_year()):\n",
    "    pass\n",
    "else:\n",
    "    Car.revise_base_price(0.20)"
   ]
  },
  {
   "cell_type": "code",
   "execution_count": 29,
   "id": "5e4f2758",
   "metadata": {},
   "outputs": [
    {
     "name": "stdout",
     "output_type": "stream",
     "text": [
      "The base price is 12000.0\n"
     ]
    }
   ],
   "source": [
    "car2.whatbaseprice()"
   ]
  },
  {
   "cell_type": "markdown",
   "id": "f423ac3c",
   "metadata": {},
   "source": [
    "##OOPS - Multiple Inheritance in Python"
   ]
  },
  {
   "cell_type": "code",
   "execution_count": 6,
   "id": "2f191439",
   "metadata": {},
   "outputs": [],
   "source": [
    "class A:\n",
    "    def method1(self):\n",
    "        print(\"A class method is called\")"
   ]
  },
  {
   "cell_type": "code",
   "execution_count": 16,
   "id": "b3cbd446",
   "metadata": {},
   "outputs": [],
   "source": [
    "class B(A):\n",
    "    def method1(self):\n",
    "        print(\"B class method is called\")\n",
    "    def method2(self):\n",
    "        print(\"B class method 2 is called\")"
   ]
  },
  {
   "cell_type": "code",
   "execution_count": 14,
   "id": "41438eb1",
   "metadata": {},
   "outputs": [],
   "source": [
    "class C(A):\n",
    "    def method1(self):\n",
    "        print(\"C class method is called\")"
   ]
  },
  {
   "cell_type": "code",
   "execution_count": null,
   "id": "a4e1bae7",
   "metadata": {},
   "outputs": [],
   "source": [
    "class D(B,C):\n",
    "    def method1(self):\n",
    "        print(\"D method is called\")\n",
    "        "
   ]
  },
  {
   "cell_type": "code",
   "execution_count": 18,
   "id": "22a636ba",
   "metadata": {},
   "outputs": [],
   "source": [
    "d=D()"
   ]
  },
  {
   "cell_type": "code",
   "execution_count": 21,
   "id": "c24d4e06",
   "metadata": {},
   "outputs": [
    {
     "name": "stdout",
     "output_type": "stream",
     "text": [
      "B class method is called\n"
     ]
    }
   ],
   "source": [
    "#Can use instance d of D classs to call method1 of B as it inherits the B class\n",
    "\n",
    "B.method1(d)"
   ]
  },
  {
   "cell_type": "code",
   "execution_count": 23,
   "id": "cc800a80",
   "metadata": {},
   "outputs": [
    {
     "name": "stdout",
     "output_type": "stream",
     "text": [
      "B class method 2 is called\n"
     ]
    }
   ],
   "source": [
    "B.method2(d)"
   ]
  },
  {
   "cell_type": "code",
   "execution_count": 24,
   "id": "e4228509",
   "metadata": {},
   "outputs": [],
   "source": [
    "class D(B,C):\n",
    "    def method1(self):\n",
    "        print(\"D method is called\")\n",
    "        C.method1(self)\n",
    "        B.method1(self)\n",
    "        A.method1(self)\n",
    "        B.method2(self)"
   ]
  },
  {
   "cell_type": "code",
   "execution_count": 26,
   "id": "7ceb93ff",
   "metadata": {},
   "outputs": [],
   "source": [
    "d1=D()"
   ]
  },
  {
   "cell_type": "code",
   "execution_count": 27,
   "id": "689b3352",
   "metadata": {},
   "outputs": [
    {
     "name": "stdout",
     "output_type": "stream",
     "text": [
      "D method is called\n",
      "C class method is called\n",
      "B class method is called\n",
      "A class method is called\n",
      "B class method 2 is called\n"
     ]
    }
   ],
   "source": [
    "d1.method1()\n"
   ]
  },
  {
   "cell_type": "markdown",
   "id": "96b46862",
   "metadata": {},
   "source": [
    "## Can we have multiple constructors in python"
   ]
  },
  {
   "cell_type": "code",
   "execution_count": null,
   "id": "47007459",
   "metadata": {},
   "outputs": [],
   "source": [
    "class Animal:\n",
    "    def __init__(self,name,species):\n",
    "        self.name=name\n",
    "        self.species=species\n",
    "\n",
    "    def __init__(self, name,species,age): # the constructor overwrites the prev constructor\n",
    "        self.name=name\n",
    "        self.species=species\n",
    "        self.age=age\n",
    "    def makesound(self,sound):\n",
    "        return \"the animal make {} sound\".format(sound)\n",
    "\n",
    "       \n",
    "    "
   ]
  },
  {
   "cell_type": "code",
   "execution_count": 41,
   "id": "5c1f115e",
   "metadata": {},
   "outputs": [
    {
     "ename": "TypeError",
     "evalue": "Animal.__init__() missing 1 required positional argument: 'age'",
     "output_type": "error",
     "traceback": [
      "\u001b[31m---------------------------------------------------------------------------\u001b[39m",
      "\u001b[31mTypeError\u001b[39m                                 Traceback (most recent call last)",
      "\u001b[36mCell\u001b[39m\u001b[36m \u001b[39m\u001b[32mIn[41]\u001b[39m\u001b[32m, line 3\u001b[39m\n\u001b[32m      1\u001b[39m \u001b[38;5;66;03m#need age attribute as the previous constructor is overwritten\u001b[39;00m\n\u001b[32m----> \u001b[39m\u001b[32m3\u001b[39m Dog1=\u001b[43mAnimal\u001b[49m\u001b[43m(\u001b[49m\u001b[33;43m\"\u001b[39;49m\u001b[33;43mmilo\u001b[39;49m\u001b[33;43m\"\u001b[39;49m\u001b[43m,\u001b[49m\u001b[33;43m\"\u001b[39;49m\u001b[33;43mdog\u001b[39;49m\u001b[33;43m\"\u001b[39;49m\u001b[43m)\u001b[49m\n",
      "\u001b[31mTypeError\u001b[39m: Animal.__init__() missing 1 required positional argument: 'age'"
     ]
    }
   ],
   "source": [
    "#need age attribute as the previous constructor is overwritten\n",
    "\n",
    "Dog1=Animal(\"milo\",\"dog\")"
   ]
  },
  {
   "cell_type": "code",
   "execution_count": null,
   "id": "01940c94",
   "metadata": {},
   "outputs": [],
   "source": [
    "# now it will work\n",
    "\n",
    "Dog1=Animal(\"milo\",\"dog\",4)"
   ]
  },
  {
   "cell_type": "code",
   "execution_count": 44,
   "id": "1f0253b0",
   "metadata": {},
   "outputs": [
    {
     "data": {
      "text/plain": [
       "'the animal make bark sound'"
      ]
     },
     "execution_count": 44,
     "metadata": {},
     "output_type": "execute_result"
    }
   ],
   "source": [
    "Dog1.makesound(\"bark\")"
   ]
  },
  {
   "cell_type": "markdown",
   "id": "89fd4113",
   "metadata": {},
   "source": [
    "### How to fix it , using *args\n"
   ]
  },
  {
   "cell_type": "code",
   "execution_count": 51,
   "id": "e9c130cd",
   "metadata": {},
   "outputs": [],
   "source": [
    "class Animal:\n",
    "    def __init__(self,*args):\n",
    "        if len(args)==1:\n",
    "            self.name=args[0]\n",
    "        elif len(args)==2:\n",
    "            self.name=args[0]\n",
    "            self.species=args[1]\n",
    "        elif len(args)==3:\n",
    "            self.name=args[0]\n",
    "            self.species=args[1]\n",
    "            self.age=args[2]\n",
    "    def makesound(self,sound):\n",
    "        return \"The {} makes {} sound\".format(self.name,sound)"
   ]
  },
  {
   "cell_type": "code",
   "execution_count": null,
   "id": "255058b8",
   "metadata": {},
   "outputs": [],
   "source": [
    "# works now\n",
    "\n",
    "Dog1=Animal(\"milo\")"
   ]
  },
  {
   "cell_type": "code",
   "execution_count": 53,
   "id": "fb92b86d",
   "metadata": {},
   "outputs": [
    {
     "data": {
      "text/plain": [
       "'The milo makes woof woof sound'"
      ]
     },
     "execution_count": 53,
     "metadata": {},
     "output_type": "execute_result"
    }
   ],
   "source": [
    "Dog1.makesound(\"woof woof\")"
   ]
  },
  {
   "cell_type": "markdown",
   "id": "d34a5797",
   "metadata": {},
   "source": [
    "## Polymorphism\n",
    "\n",
    "allows objects of different classes to be treated as objects of common super class\n",
    "\n",
    "Achieved through method overriding and interfaces.\n"
   ]
  },
  {
   "cell_type": "markdown",
   "id": "ae101b56",
   "metadata": {},
   "source": [
    "### Method Overriding\n",
    "\n",
    "Method overriding allows a child class to provide a specific implemetation of a method that's already defined in the parent class\n"
   ]
  },
  {
   "cell_type": "code",
   "execution_count": null,
   "id": "2c1ee1ff",
   "metadata": {},
   "outputs": [],
   "source": [
    "#Base class\n",
    "\n",
    "class Animal:\n",
    "    def speak(self):\n",
    "        return \"Sound of the Animal\"\n",
    "    \n",
    "## Derived Class 1\n",
    "\n",
    "class Dog(Animal):\n",
    "    def speak(self):\n",
    "        return \"Wuf Wuf!!\"\n",
    "    \n",
    "## Derived Class2\n",
    "\n",
    "class Cat(Animal):\n",
    "    def speak(self):\n",
    "        return \"Meow\"\n",
    "\n"
   ]
  },
  {
   "cell_type": "code",
   "execution_count": 19,
   "id": "677da8af",
   "metadata": {},
   "outputs": [],
   "source": [
    "dog=Dog()"
   ]
  },
  {
   "cell_type": "code",
   "execution_count": null,
   "id": "dcc8811a",
   "metadata": {},
   "outputs": [
    {
     "data": {
      "text/plain": [
       "'Wuf Wuf!!'"
      ]
     },
     "execution_count": 9,
     "metadata": {},
     "output_type": "execute_result"
    }
   ],
   "source": [
    "#derived class overriding the parent class function.\n",
    "dog.speak()"
   ]
  },
  {
   "cell_type": "markdown",
   "id": "026a7335",
   "metadata": {},
   "source": [
    "### Polymorphism example\n",
    "\n",
    "Method overriding → happens when a child class provides its own version of a method that already exists in the parent.\n",
    "Example: both Rectangle and Circle override area() from Shape.\n",
    "\n",
    "Polymorphism → uses those overridden methods so that the same code (like area_cal(xyz)) can work on different object types, each behaving in its own way."
   ]
  },
  {
   "cell_type": "code",
   "execution_count": 26,
   "id": "ab493313",
   "metadata": {},
   "outputs": [],
   "source": [
    "#Base Class\n",
    "class Shape():\n",
    "    def area(self):\n",
    "        return f\"The area of the {self}\"\n",
    "\n",
    "# Derived Class 1\n",
    "class Rectangle(Shape):\n",
    "    def __init__(self,height,width):\n",
    "        self.height=height\n",
    "        self.width=width\n",
    "    \n",
    "    def area(self):\n",
    "        return f\"the area of rectabgle is {self.width * self.height}\"\n",
    "\n",
    "#Derived Class 2\n",
    "class Circle(Shape):\n",
    "    def __init__(self,radius):\n",
    "        self.radius=radius\n",
    "\n",
    "    def area(self):\n",
    "        return f\"The area of circle is {3.14 * self.radius * self.radius}\"\n",
    "    \n",
    "# Function that demonstrates Polymorphism:\n",
    "def area_cal(xyz):\n",
    "    return f\"The area is {xyz.area()}\""
   ]
  },
  {
   "cell_type": "code",
   "execution_count": 27,
   "id": "045bf59e",
   "metadata": {},
   "outputs": [],
   "source": [
    "rectangle= Rectangle(3,5)\n",
    "circle=Circle(4)"
   ]
  },
  {
   "cell_type": "code",
   "execution_count": 31,
   "id": "331fd82f",
   "metadata": {},
   "outputs": [
    {
     "name": "stdout",
     "output_type": "stream",
     "text": [
      "The area is the area of rectabgle is 15\n"
     ]
    }
   ],
   "source": [
    "# in case of a new shape added like traingle, you don't need to update the function.Polymorphism helps to check which object is called automatically\n",
    "\n",
    "print (area_cal(rectangle))"
   ]
  },
  {
   "cell_type": "markdown",
   "id": "26a9eaa2",
   "metadata": {},
   "source": [
    "## Abstract base class (ABC)\n",
    "\n",
    "used to define common  methods for a group of related objects . They can enforce that derived classes \n",
    "\n",
    "implement particular methods, promoting consisitency across different implementations"
   ]
  },
  {
   "cell_type": "markdown",
   "id": "8f243034",
   "metadata": {},
   "source": [
    "🧩 Method overriding = subclasses customize behavior.\n",
    "\n",
    "🌀 Polymorphism = same function call works for many object types.\n",
    "\n",
    "🏗️ Abstract classes = enforce that subclasses must implement those behaviors."
   ]
  },
  {
   "cell_type": "code",
   "execution_count": null,
   "id": "09ca32c8",
   "metadata": {},
   "outputs": [],
   "source": [
    "## once you create an abstract class , you are enforcing that every derived class should have the area() function or it will fail\n",
    "\n",
    "from abc import ABC,abstractmethod\n",
    "\n",
    "class Shape():\n",
    "    @abstractmethod\n",
    "    def area(self):\n",
    "        pass"
   ]
  },
  {
   "cell_type": "markdown",
   "id": "297f6277",
   "metadata": {},
   "source": [
    ". Why Use Abstract Classes?\n",
    "\n",
    "Abstract classes are useful when:\n",
    "\n",
    "You want to enforce consistency across subclasses.\n",
    "\n",
    "You want to ensure certain methods are always defined.\n",
    "\n",
    "You’re designing frameworks or large systems where subclasses might be created by other developers.\n",
    "\n",
    "It’s a way to say:\n",
    "\n",
    "“You can create your own kind of Shape — but you must tell me how to compute its area.”"
   ]
  },
  {
   "cell_type": "markdown",
   "id": "7d69d674",
   "metadata": {},
   "source": []
  }
 ],
 "metadata": {
  "kernelspec": {
   "display_name": ".venv",
   "language": "python",
   "name": "python3"
  },
  "language_info": {
   "codemirror_mode": {
    "name": "ipython",
    "version": 3
   },
   "file_extension": ".py",
   "mimetype": "text/x-python",
   "name": "python",
   "nbconvert_exporter": "python",
   "pygments_lexer": "ipython3",
   "version": "3.12.3"
  }
 },
 "nbformat": 4,
 "nbformat_minor": 5
}
