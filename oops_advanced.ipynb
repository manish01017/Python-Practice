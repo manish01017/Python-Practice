{
 "cells": [
  {
   "cell_type": "markdown",
   "id": "59816d3f",
   "metadata": {},
   "source": [
    "### Class Methods and Class Variables"
   ]
  },
  {
   "cell_type": "code",
   "execution_count": null,
   "id": "664c4407",
   "metadata": {},
   "outputs": [],
   "source": [
    "class Car:\n",
    "    base_price=10000  #Class Variables\n",
    "    def __init__(self,windows,doors,power): #Constructor\n",
    "        self.windows=windows #instance variable\n",
    "        self.doors=doors\n",
    "        self.power=power\n",
    "    def whatbaseprice(self): #instance method\n",
    "        print(\"The base price is {}\".format(self.base_price))"
   ]
  },
  {
   "cell_type": "code",
   "execution_count": 2,
   "id": "7d97d93f",
   "metadata": {},
   "outputs": [],
   "source": [
    "car1= Car(4,5,'1500cc')"
   ]
  },
  {
   "cell_type": "code",
   "execution_count": null,
   "id": "9d7cd3aa",
   "metadata": {},
   "outputs": [
    {
     "name": "stdout",
     "output_type": "stream",
     "text": [
      "The base price is 10000\n"
     ]
    }
   ],
   "source": [
    "car1.whatbaseprice()  #using instance"
   ]
  },
  {
   "cell_type": "code",
   "execution_count": null,
   "id": "f6132d7f",
   "metadata": {},
   "outputs": [
    {
     "data": {
      "text/plain": [
       "10000"
      ]
     },
     "execution_count": 5,
     "metadata": {},
     "output_type": "execute_result"
    }
   ],
   "source": [
    "Car.base_price  #Calling the class variable using class"
   ]
  },
  {
   "cell_type": "markdown",
   "id": "f69c3352",
   "metadata": {},
   "source": [
    "Inflation of base price by 10%"
   ]
  },
  {
   "cell_type": "code",
   "execution_count": null,
   "id": "ef319c8c",
   "metadata": {},
   "outputs": [],
   "source": [
    "class Car:\n",
    "    base_price=10000  #Class Variables\n",
    "    def __init__(self,windows,doors,power): #Constructor\n",
    "        self.windows=windows #instance variable\n",
    "        self.doors=doors\n",
    "        self.power=power\n",
    "    def whatbaseprice(self): # self refers to the instance of the class \n",
    "        print(\"The base price is {}\".format(self.base_price))\n",
    "    @classmethod                          # decorator\n",
    "    def revise_base_price(cls,inflation): #cls is used to refer to the class itself not the instance\n",
    "        cls.base_price=cls.base_price + cls.base_price * inflation"
   ]
  },
  {
   "cell_type": "code",
   "execution_count": 8,
   "id": "9753d1a8",
   "metadata": {},
   "outputs": [],
   "source": [
    "car1=Car(4,5,'1600cc')"
   ]
  },
  {
   "cell_type": "code",
   "execution_count": 9,
   "id": "e53fb196",
   "metadata": {},
   "outputs": [
    {
     "data": {
      "text/plain": [
       "10000"
      ]
     },
     "execution_count": 9,
     "metadata": {},
     "output_type": "execute_result"
    }
   ],
   "source": [
    "car1.base_price"
   ]
  },
  {
   "cell_type": "code",
   "execution_count": 10,
   "id": "3ad3df04",
   "metadata": {},
   "outputs": [],
   "source": [
    "#increase the base price of the car by 10% next year\n",
    "# 1st way : update using the class ( the ideal and correct way)\n",
    "\n",
    "Car.revise_base_price(0.10)"
   ]
  },
  {
   "cell_type": "code",
   "execution_count": null,
   "id": "4d0a3d1f",
   "metadata": {},
   "outputs": [
    {
     "data": {
      "text/plain": [
       "11000.0"
      ]
     },
     "execution_count": 11,
     "metadata": {},
     "output_type": "execute_result"
    }
   ],
   "source": [
    "#base price updated\n",
    "Car.base_price"
   ]
  },
  {
   "cell_type": "code",
   "execution_count": 13,
   "id": "8834817b",
   "metadata": {},
   "outputs": [
    {
     "data": {
      "text/plain": [
       "11000.0"
      ]
     },
     "execution_count": 13,
     "metadata": {},
     "output_type": "execute_result"
    }
   ],
   "source": [
    "#Any instance created now or before will have the updated base price\n",
    "\n",
    "car1.base_price"
   ]
  },
  {
   "cell_type": "code",
   "execution_count": 14,
   "id": "8ab0d256",
   "metadata": {},
   "outputs": [],
   "source": [
    "#2nd way : using the object to revise the price ( not an ideal way)\n",
    "\n",
    "car1.revise_base_price(0.10)"
   ]
  },
  {
   "cell_type": "code",
   "execution_count": 15,
   "id": "a182fba7",
   "metadata": {},
   "outputs": [
    {
     "data": {
      "text/plain": [
       "12100.0"
      ]
     },
     "execution_count": 15,
     "metadata": {},
     "output_type": "execute_result"
    }
   ],
   "source": [
    "car1.base_price"
   ]
  },
  {
   "cell_type": "code",
   "execution_count": null,
   "id": "2553aa32",
   "metadata": {},
   "outputs": [
    {
     "data": {
      "text/plain": [
       "12100.0"
      ]
     },
     "execution_count": 16,
     "metadata": {},
     "output_type": "execute_result"
    }
   ],
   "source": [
    "#Class variable also updated by the object instance created\n",
    "\n",
    "Car.base_price"
   ]
  },
  {
   "cell_type": "markdown",
   "id": "8293786c",
   "metadata": {},
   "source": [
    "Static Methods in Python"
   ]
  },
  {
   "cell_type": "code",
   "execution_count": 17,
   "id": "fe75535e",
   "metadata": {},
   "outputs": [],
   "source": [
    "import datetime \n",
    "now=datetime.datetime.now()"
   ]
  },
  {
   "cell_type": "code",
   "execution_count": 18,
   "id": "ea8adc31",
   "metadata": {},
   "outputs": [
    {
     "data": {
      "text/plain": [
       "datetime.datetime(2025, 9, 16, 9, 1, 22, 483405)"
      ]
     },
     "execution_count": 18,
     "metadata": {},
     "output_type": "execute_result"
    }
   ],
   "source": [
    "now"
   ]
  },
  {
   "cell_type": "code",
   "execution_count": null,
   "id": "9391075c",
   "metadata": {},
   "outputs": [],
   "source": [
    "class Car:\n",
    "    base_price=10000  #Class Variables\n",
    "    def __init__(self,windows,doors,power): #Constructor\n",
    "        self.windows=windows #instance variable\n",
    "        self.doors=doors\n",
    "        self.power=power\n",
    "    def whatbaseprice(self): # self refers to the instance of the class \n",
    "        print(\"The base price is {}\".format(self.base_price))\n",
    "    @classmethod                          # decorator\n",
    "    def revise_base_price(cls,inflation): #cls is used to refer to the class itself not the instance\n",
    "        cls.base_price=cls.base_price + cls.base_price * inflation\n",
    "    @staticmethod     \n",
    "    def check_year(): #we don't use self or cls to call static method and it's faster  and it's initialized when the classmethod is initialized\n",
    "        if now.year == 2021:\n",
    "            return True\n",
    "        else:\n",
    "            return False\n"
   ]
  },
  {
   "cell_type": "code",
   "execution_count": 25,
   "id": "79202d9f",
   "metadata": {},
   "outputs": [
    {
     "data": {
      "text/plain": [
       "False"
      ]
     },
     "execution_count": 25,
     "metadata": {},
     "output_type": "execute_result"
    }
   ],
   "source": [
    "Car.check_year()"
   ]
  },
  {
   "cell_type": "code",
   "execution_count": 26,
   "id": "4a7c8a51",
   "metadata": {},
   "outputs": [],
   "source": [
    "car2=Car(5,6,'1800cc')"
   ]
  },
  {
   "cell_type": "code",
   "execution_count": 27,
   "id": "63637da2",
   "metadata": {},
   "outputs": [],
   "source": [
    "if (car2.check_year()):\n",
    "    pass\n",
    "else:\n",
    "    Car.revise_base_price(0.20)"
   ]
  },
  {
   "cell_type": "code",
   "execution_count": 29,
   "id": "5e4f2758",
   "metadata": {},
   "outputs": [
    {
     "name": "stdout",
     "output_type": "stream",
     "text": [
      "The base price is 12000.0\n"
     ]
    }
   ],
   "source": [
    "car2.whatbaseprice()"
   ]
  },
  {
   "cell_type": "markdown",
   "id": "f423ac3c",
   "metadata": {},
   "source": [
    "##OOPS - Multiple Inheritance in Python"
   ]
  },
  {
   "cell_type": "code",
   "execution_count": 6,
   "id": "2f191439",
   "metadata": {},
   "outputs": [],
   "source": [
    "class A:\n",
    "    def method1(self):\n",
    "        print(\"A class method is called\")"
   ]
  },
  {
   "cell_type": "code",
   "execution_count": 16,
   "id": "b3cbd446",
   "metadata": {},
   "outputs": [],
   "source": [
    "class B(A):\n",
    "    def method1(self):\n",
    "        print(\"B class method is called\")\n",
    "    def method2(self):\n",
    "        print(\"B class method 2 is called\")"
   ]
  },
  {
   "cell_type": "code",
   "execution_count": 14,
   "id": "41438eb1",
   "metadata": {},
   "outputs": [],
   "source": [
    "class C(A):\n",
    "    def method1(self):\n",
    "        print(\"C class method is called\")"
   ]
  },
  {
   "cell_type": "code",
   "execution_count": null,
   "id": "a4e1bae7",
   "metadata": {},
   "outputs": [],
   "source": [
    "class D(B,C):\n",
    "    def method1(self):\n",
    "        print(\"D method is called\")\n",
    "        "
   ]
  },
  {
   "cell_type": "code",
   "execution_count": 18,
   "id": "22a636ba",
   "metadata": {},
   "outputs": [],
   "source": [
    "d=D()"
   ]
  },
  {
   "cell_type": "code",
   "execution_count": 21,
   "id": "c24d4e06",
   "metadata": {},
   "outputs": [
    {
     "name": "stdout",
     "output_type": "stream",
     "text": [
      "B class method is called\n"
     ]
    }
   ],
   "source": [
    "#Can use instance d of D classs to call method1 of B as it inherits the B class\n",
    "\n",
    "B.method1(d)"
   ]
  },
  {
   "cell_type": "code",
   "execution_count": 23,
   "id": "cc800a80",
   "metadata": {},
   "outputs": [
    {
     "name": "stdout",
     "output_type": "stream",
     "text": [
      "B class method 2 is called\n"
     ]
    }
   ],
   "source": [
    "B.method2(d)"
   ]
  },
  {
   "cell_type": "code",
   "execution_count": 24,
   "id": "e4228509",
   "metadata": {},
   "outputs": [],
   "source": [
    "class D(B,C):\n",
    "    def method1(self):\n",
    "        print(\"D method is called\")\n",
    "        C.method1(self)\n",
    "        B.method1(self)\n",
    "        A.method1(self)\n",
    "        B.method2(self)"
   ]
  },
  {
   "cell_type": "code",
   "execution_count": 26,
   "id": "7ceb93ff",
   "metadata": {},
   "outputs": [],
   "source": [
    "d1=D()"
   ]
  },
  {
   "cell_type": "code",
   "execution_count": 27,
   "id": "689b3352",
   "metadata": {},
   "outputs": [
    {
     "name": "stdout",
     "output_type": "stream",
     "text": [
      "D method is called\n",
      "C class method is called\n",
      "B class method is called\n",
      "A class method is called\n",
      "B class method 2 is called\n"
     ]
    }
   ],
   "source": [
    "d1.method1()\n"
   ]
  },
  {
   "cell_type": "markdown",
   "id": "96b46862",
   "metadata": {},
   "source": [
    "## Can we have multiple constructors in python"
   ]
  },
  {
   "cell_type": "code",
   "execution_count": null,
   "id": "47007459",
   "metadata": {},
   "outputs": [],
   "source": [
    "class Animal:\n",
    "    def __init__(self,name,species):\n",
    "        self.name=name\n",
    "        self.species=species\n",
    "\n",
    "    def __init__(self, name,species,age): # the constructor overwrites the prev constructor\n",
    "        self.name=name\n",
    "        self.species=species\n",
    "        self.age=age\n",
    "    def makesound(self,sound):\n",
    "        return \"the animal make {} sound\".format(sound)\n",
    "\n",
    "       \n",
    "    "
   ]
  },
  {
   "cell_type": "code",
   "execution_count": 41,
   "id": "5c1f115e",
   "metadata": {},
   "outputs": [
    {
     "ename": "TypeError",
     "evalue": "Animal.__init__() missing 1 required positional argument: 'age'",
     "output_type": "error",
     "traceback": [
      "\u001b[31m---------------------------------------------------------------------------\u001b[39m",
      "\u001b[31mTypeError\u001b[39m                                 Traceback (most recent call last)",
      "\u001b[36mCell\u001b[39m\u001b[36m \u001b[39m\u001b[32mIn[41]\u001b[39m\u001b[32m, line 3\u001b[39m\n\u001b[32m      1\u001b[39m \u001b[38;5;66;03m#need age attribute as the previous constructor is overwritten\u001b[39;00m\n\u001b[32m----> \u001b[39m\u001b[32m3\u001b[39m Dog1=\u001b[43mAnimal\u001b[49m\u001b[43m(\u001b[49m\u001b[33;43m\"\u001b[39;49m\u001b[33;43mmilo\u001b[39;49m\u001b[33;43m\"\u001b[39;49m\u001b[43m,\u001b[49m\u001b[33;43m\"\u001b[39;49m\u001b[33;43mdog\u001b[39;49m\u001b[33;43m\"\u001b[39;49m\u001b[43m)\u001b[49m\n",
      "\u001b[31mTypeError\u001b[39m: Animal.__init__() missing 1 required positional argument: 'age'"
     ]
    }
   ],
   "source": [
    "#need age attribute as the previous constructor is overwritten\n",
    "\n",
    "Dog1=Animal(\"milo\",\"dog\")"
   ]
  },
  {
   "cell_type": "code",
   "execution_count": null,
   "id": "01940c94",
   "metadata": {},
   "outputs": [],
   "source": [
    "# now it will work\n",
    "\n",
    "Dog1=Animal(\"milo\",\"dog\",4)"
   ]
  },
  {
   "cell_type": "code",
   "execution_count": 44,
   "id": "1f0253b0",
   "metadata": {},
   "outputs": [
    {
     "data": {
      "text/plain": [
       "'the animal make bark sound'"
      ]
     },
     "execution_count": 44,
     "metadata": {},
     "output_type": "execute_result"
    }
   ],
   "source": [
    "Dog1.makesound(\"bark\")"
   ]
  },
  {
   "cell_type": "markdown",
   "id": "89fd4113",
   "metadata": {},
   "source": [
    "### How to fix it , using *args\n"
   ]
  },
  {
   "cell_type": "code",
   "execution_count": 51,
   "id": "e9c130cd",
   "metadata": {},
   "outputs": [],
   "source": [
    "class Animal:\n",
    "    def __init__(self,*args):\n",
    "        if len(args)==1:\n",
    "            self.name=args[0]\n",
    "        elif len(args)==2:\n",
    "            self.name=args[0]\n",
    "            self.species=args[1]\n",
    "        elif len(args)==3:\n",
    "            self.name=args[0]\n",
    "            self.species=args[1]\n",
    "            self.age=args[2]\n",
    "    def makesound(self,sound):\n",
    "        return \"The {} makes {} sound\".format(self.name,sound)"
   ]
  },
  {
   "cell_type": "code",
   "execution_count": null,
   "id": "255058b8",
   "metadata": {},
   "outputs": [],
   "source": [
    "# works now\n",
    "\n",
    "Dog1=Animal(\"milo\")"
   ]
  },
  {
   "cell_type": "code",
   "execution_count": 53,
   "id": "fb92b86d",
   "metadata": {},
   "outputs": [
    {
     "data": {
      "text/plain": [
       "'The milo makes woof woof sound'"
      ]
     },
     "execution_count": 53,
     "metadata": {},
     "output_type": "execute_result"
    }
   ],
   "source": [
    "Dog1.makesound(\"woof woof\")"
   ]
  }
 ],
 "metadata": {
  "kernelspec": {
   "display_name": ".venv",
   "language": "python",
   "name": "python3"
  },
  "language_info": {
   "codemirror_mode": {
    "name": "ipython",
    "version": 3
   },
   "file_extension": ".py",
   "mimetype": "text/x-python",
   "name": "python",
   "nbconvert_exporter": "python",
   "pygments_lexer": "ipython3",
   "version": "3.12.3"
  }
 },
 "nbformat": 4,
 "nbformat_minor": 5
}
