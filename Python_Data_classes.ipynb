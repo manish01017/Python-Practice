{
 "cells": [
  {
   "cell_type": "markdown",
   "id": "6222e931",
   "metadata": {},
   "source": [
    "# Python Data Classes\n",
    "\n",
    "### feature in Python 3.7 that provides a consice way to define classes primarily intended to store data. It auomatically generates several special methods such as init, repr and eq, based on class attributes you define"
   ]
  },
  {
   "cell_type": "code",
   "execution_count": 1,
   "id": "d4936b1a",
   "metadata": {},
   "outputs": [],
   "source": [
    "from dataclasses import dataclass"
   ]
  },
  {
   "cell_type": "code",
   "execution_count": 11,
   "id": "7f7257ff",
   "metadata": {},
   "outputs": [],
   "source": [
    "@dataclass\n",
    "class Person:\n",
    "    name:str\n",
    "    age:int\n",
    "    profession:str"
   ]
  },
  {
   "cell_type": "code",
   "execution_count": 12,
   "id": "d3a0921a",
   "metadata": {},
   "outputs": [],
   "source": [
    "person1=Person(\"Manish\",34,\"engineer\")"
   ]
  },
  {
   "cell_type": "code",
   "execution_count": 13,
   "id": "b027548b",
   "metadata": {},
   "outputs": [
    {
     "data": {
      "text/plain": [
       "Person(name='Manish', age=34, profession='engineer')"
      ]
     },
     "execution_count": 13,
     "metadata": {},
     "output_type": "execute_result"
    }
   ],
   "source": [
    "person1"
   ]
  },
  {
   "cell_type": "markdown",
   "id": "aea678bc",
   "metadata": {},
   "source": [
    "@dataclass Decorator automatically generates the following methods for you:\n",
    "\n",
    "1. init() : Initializes the object and assigns the provided values to the attributes.\n",
    "\n",
    "2. repr() : Provides a string representation of the object\n",
    "\n",
    "3. eq() : Implements equality comparison between 2 objectsof the class"
   ]
  },
  {
   "cell_type": "code",
   "execution_count": 25,
   "id": "c577adc7",
   "metadata": {},
   "outputs": [],
   "source": [
    "@dataclass\n",
    "class Person:\n",
    "    name:str\n",
    "    age:int\n",
    "    profession:str ='AI'"
   ]
  },
  {
   "cell_type": "code",
   "execution_count": 26,
   "id": "8ced6eac",
   "metadata": {},
   "outputs": [],
   "source": [
    "person1=Person('Manish',34)"
   ]
  },
  {
   "cell_type": "code",
   "execution_count": 24,
   "id": "95441afd",
   "metadata": {},
   "outputs": [
    {
     "data": {
      "text/plain": [
       "Person(name='Deepak', age=34, profession='Data Analyst')"
      ]
     },
     "execution_count": 24,
     "metadata": {},
     "output_type": "execute_result"
    }
   ],
   "source": [
    "person1"
   ]
  },
  {
   "cell_type": "code",
   "execution_count": 17,
   "id": "e008a748",
   "metadata": {},
   "outputs": [],
   "source": [
    "person1.profession='Data Analyst'"
   ]
  },
  {
   "cell_type": "code",
   "execution_count": 23,
   "id": "2f222f08",
   "metadata": {},
   "outputs": [],
   "source": [
    "person1.name=\"Deepak\""
   ]
  },
  {
   "cell_type": "code",
   "execution_count": 19,
   "id": "0b7bfbbb",
   "metadata": {},
   "outputs": [],
   "source": [
    "##immutable class\n",
    "\n",
    "@dataclass(frozen=True)\n",
    "class Point:\n",
    "    x:int\n",
    "    y:int\n"
   ]
  },
  {
   "cell_type": "code",
   "execution_count": 20,
   "id": "f0524755",
   "metadata": {},
   "outputs": [],
   "source": [
    "point1=Point(3,4)"
   ]
  },
  {
   "cell_type": "code",
   "execution_count": null,
   "id": "2b5bea1b",
   "metadata": {},
   "outputs": [
    {
     "ename": "FrozenInstanceError",
     "evalue": "cannot assign to field 'x'",
     "output_type": "error",
     "traceback": [
      "\u001b[31m---------------------------------------------------------------------------\u001b[39m",
      "\u001b[31mFrozenInstanceError\u001b[39m                       Traceback (most recent call last)",
      "\u001b[36mCell\u001b[39m\u001b[36m \u001b[39m\u001b[32mIn[27]\u001b[39m\u001b[32m, line 1\u001b[39m\n\u001b[32m----> \u001b[39m\u001b[32m1\u001b[39m \u001b[43mpoint1\u001b[49m\u001b[43m.\u001b[49m\u001b[43mx\u001b[49m=\u001b[32m5\u001b[39m\n",
      "\u001b[36mFile \u001b[39m\u001b[32m<string>:4\u001b[39m, in \u001b[36m__setattr__\u001b[39m\u001b[34m(self, name, value)\u001b[39m\n",
      "\u001b[31mFrozenInstanceError\u001b[39m: cannot assign to field 'x'"
     ]
    }
   ],
   "source": [
    "# can't change attribute in immutable class\n",
    "point1.x=5"
   ]
  },
  {
   "cell_type": "code",
   "execution_count": 30,
   "id": "acecdd9f",
   "metadata": {},
   "outputs": [],
   "source": [
    "## Inheritance\n",
    "\n",
    "@dataclass\n",
    "class Person:\n",
    "    name:str\n",
    "    age:int\n",
    "\n",
    "@dataclass\n",
    "class Employee(Person):\n",
    "    employeeid:int\n",
    "    department:str"
   ]
  },
  {
   "cell_type": "code",
   "execution_count": 29,
   "id": "b5e1286e",
   "metadata": {},
   "outputs": [],
   "source": [
    "person=Person(\"manish\",35)"
   ]
  },
  {
   "cell_type": "code",
   "execution_count": 31,
   "id": "6fef8f94",
   "metadata": {},
   "outputs": [],
   "source": [
    "employee=Employee(\"manish\",34,121,'AI')"
   ]
  },
  {
   "cell_type": "code",
   "execution_count": 32,
   "id": "f5357f90",
   "metadata": {},
   "outputs": [
    {
     "data": {
      "text/plain": [
       "Employee(name='manish', age=34, employeeid=121, department='AI')"
      ]
     },
     "execution_count": 32,
     "metadata": {},
     "output_type": "execute_result"
    }
   ],
   "source": [
    "employee"
   ]
  },
  {
   "cell_type": "markdown",
   "id": "88169de8",
   "metadata": {},
   "source": [
    "Nested Data class"
   ]
  },
  {
   "cell_type": "code",
   "execution_count": null,
   "id": "83f0c28b",
   "metadata": {},
   "outputs": [],
   "source": [
    "@dataclass\n",
    "class Address:\n",
    "    street:str\n",
    "    city:str\n",
    "    zip_code:str\n",
    "\n",
    "@dataclass\n",
    "class Person:\n",
    "    name:str\n",
    "    age:int\n",
    "    address:Address # call specific data class \n",
    "\n"
   ]
  },
  {
   "cell_type": "code",
   "execution_count": null,
   "id": "8da7a336",
   "metadata": {},
   "outputs": [
    {
     "ename": "TypeError",
     "evalue": "Person.__init__() takes 4 positional arguments but 6 were given",
     "output_type": "error",
     "traceback": [
      "\u001b[31m---------------------------------------------------------------------------\u001b[39m",
      "\u001b[31mTypeError\u001b[39m                                 Traceback (most recent call last)",
      "\u001b[36mCell\u001b[39m\u001b[36m \u001b[39m\u001b[32mIn[36]\u001b[39m\u001b[32m, line 1\u001b[39m\n\u001b[32m----> \u001b[39m\u001b[32m1\u001b[39m person=\u001b[43mPerson\u001b[49m\u001b[43m(\u001b[49m\u001b[33;43m\"\u001b[39;49m\u001b[33;43mmanish\u001b[39;49m\u001b[33;43m\"\u001b[39;49m\u001b[43m,\u001b[49m\u001b[32;43m34\u001b[39;49m\u001b[43m,\u001b[49m\u001b[33;43m\"\u001b[39;49m\u001b[33;43mroad\u001b[39;49m\u001b[33;43m\"\u001b[39;49m\u001b[43m,\u001b[49m\u001b[33;43m'\u001b[39;49m\u001b[33;43mdelhi\u001b[39;49m\u001b[33;43m'\u001b[39;49m\u001b[43m,\u001b[49m\u001b[32;43m110035\u001b[39;49m\u001b[43m)\u001b[49m\n",
      "\u001b[31mTypeError\u001b[39m: Person.__init__() takes 4 positional arguments but 6 were given"
     ]
    }
   ],
   "source": [
    "person=Person(\"manish\",34,\"road\",'delhi',110035) # address has to be passed as an object"
   ]
  },
  {
   "cell_type": "code",
   "execution_count": 37,
   "id": "2966bb1d",
   "metadata": {},
   "outputs": [],
   "source": [
    "address=Address ('121 street','Oakville','L65MP7')"
   ]
  },
  {
   "cell_type": "code",
   "execution_count": 38,
   "id": "5a822895",
   "metadata": {},
   "outputs": [],
   "source": [
    "person=Person(\"manish\",34,address)"
   ]
  },
  {
   "cell_type": "code",
   "execution_count": 39,
   "id": "e0090437",
   "metadata": {},
   "outputs": [
    {
     "data": {
      "text/plain": [
       "Person(name='manish', age=34, address=Address(street='121 street', city='Oakville', zip_code='L65MP7'))"
      ]
     },
     "execution_count": 39,
     "metadata": {},
     "output_type": "execute_result"
    }
   ],
   "source": [
    "person"
   ]
  },
  {
   "cell_type": "code",
   "execution_count": 40,
   "id": "daf96067",
   "metadata": {},
   "outputs": [
    {
     "data": {
      "text/plain": [
       "'Oakville'"
      ]
     },
     "execution_count": 40,
     "metadata": {},
     "output_type": "execute_result"
    }
   ],
   "source": [
    "person.address.city"
   ]
  }
 ],
 "metadata": {
  "kernelspec": {
   "display_name": ".venv",
   "language": "python",
   "name": "python3"
  },
  "language_info": {
   "codemirror_mode": {
    "name": "ipython",
    "version": 3
   },
   "file_extension": ".py",
   "mimetype": "text/x-python",
   "name": "python",
   "nbconvert_exporter": "python",
   "pygments_lexer": "ipython3",
   "version": "3.12.3"
  }
 },
 "nbformat": 4,
 "nbformat_minor": 5
}
