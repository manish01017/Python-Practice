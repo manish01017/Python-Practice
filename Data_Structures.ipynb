{
 "cells": [
  {
   "cell_type": "markdown",
   "metadata": {
    "id": "tHjc5nq2lEzC"
   },
   "source": [
    "**MAP: helps to run the function on each value of the list**\n",
    "\n",
    "**FILTER : Outputs only those values in the iterable which return TRue for the expression**"
   ]
  },
  {
   "cell_type": "code",
   "execution_count": null,
   "metadata": {
    "colab": {
     "base_uri": "https://localhost:8080/"
    },
    "executionInfo": {
     "elapsed": 12,
     "status": "ok",
     "timestamp": 1740358076012,
     "user": {
      "displayName": "manish pandey",
      "userId": "09782073510778073535"
     },
     "user_tz": 300
    },
    "id": "AD4Pt96IjsWA",
    "outputId": "58af723e-562b-4508-a6fc-c3b7e07dea5e"
   },
   "outputs": [
    {
     "name": "stdout",
     "output_type": "stream",
     "text": [
      "[1, 4, 9, 16, 25, 36]\n"
     ]
    }
   ],
   "source": [
    "## Print square number from the list\n",
    "num=[1,2,3,4,5,6,7]\n",
    "\n",
    "square=list(map(lambda x:x**2,num))\n",
    "\n",
    "print(square)"
   ]
  },
  {
   "cell_type": "code",
   "execution_count": 105,
   "metadata": {
    "colab": {
     "base_uri": "https://localhost:8080/"
    },
    "executionInfo": {
     "elapsed": 41,
     "status": "ok",
     "timestamp": 1740358092207,
     "user": {
      "displayName": "manish pandey",
      "userId": "09782073510778073535"
     },
     "user_tz": 300
    },
    "id": "-teNvsXLbLls",
    "outputId": "e184bfa2-7fb2-47ca-cdfc-6572c16bec1e"
   },
   "outputs": [
    {
     "data": {
      "text/plain": [
       "[1, 4, 9, 16, 25, 36]"
      ]
     },
     "execution_count": 105,
     "metadata": {},
     "output_type": "execute_result"
    }
   ],
   "source": [
    "[x**2 for x in num]"
   ]
  },
  {
   "cell_type": "code",
   "execution_count": 6,
   "metadata": {
    "colab": {
     "base_uri": "https://localhost:8080/"
    },
    "executionInfo": {
     "elapsed": 117,
     "status": "ok",
     "timestamp": 1693099035322,
     "user": {
      "displayName": "manish pandey",
      "userId": "09782073510778073535"
     },
     "user_tz": 240
    },
    "id": "amwKr2iWhwdu",
    "outputId": "1af0eaee-030b-4b06-9d96-73b7dd91ab96"
   },
   "outputs": [
    {
     "name": "stdout",
     "output_type": "stream",
     "text": [
      "[2, 4, 6]\n"
     ]
    }
   ],
   "source": [
    "###Print even numbers from the list\n",
    "numbers=[1,2,3,4,5,6]\n",
    "\n",
    "even_list=list(filter(lambda x:x%2==0,numbers))\n",
    "\n",
    "print(even_list)\n"
   ]
  },
  {
   "cell_type": "code",
   "execution_count": null,
   "metadata": {
    "colab": {
     "base_uri": "https://localhost:8080/"
    },
    "executionInfo": {
     "elapsed": 105,
     "status": "ok",
     "timestamp": 1693100368906,
     "user": {
      "displayName": "manish pandey",
      "userId": "09782073510778073535"
     },
     "user_tz": 240
    },
    "id": "uB9O3SxMlZ7T",
    "outputId": "724b1caf-48c7-4370-8da0-1a612f52d7dd"
   },
   "outputs": [
    {
     "data": {
      "text/plain": [
       "['Ani', 'Rita', 'Manish']"
      ]
     },
     "execution_count": 38,
     "metadata": {},
     "output_type": "execute_result"
    }
   ],
   "source": [
    "##Sort a list of strings based on their length\n",
    "\n",
    "st=['Manish','Ani', 'Rita']\n",
    "\n",
    "sorted(st,key=lambda x:len(x))\n",
    "\n"
   ]
  },
  {
   "cell_type": "code",
   "execution_count": null,
   "metadata": {
    "colab": {
     "base_uri": "https://localhost:8080/"
    },
    "executionInfo": {
     "elapsed": 151,
     "status": "ok",
     "timestamp": 1693100322390,
     "user": {
      "displayName": "manish pandey",
      "userId": "09782073510778073535"
     },
     "user_tz": 240
    },
    "id": "5WDUET_xmPHx",
    "outputId": "1a163092-2d38-4e5f-b422-2d6f45aee783"
   },
   "outputs": [
    {
     "name": "stdout",
     "output_type": "stream",
     "text": [
      "A ['Ani', 'Anita']\n",
      "M ['Manish']\n",
      "R ['Rita']\n"
     ]
    }
   ],
   "source": [
    "##Grouping a list of strings based on their first letter\n",
    "\n",
    "from itertools import groupby\n",
    "\n",
    "st=['Manish','Ani', 'Rita','Anita']\n",
    "\n",
    "groups= groupby(sorted(st),key=lambda x:x[0])\n",
    "\n",
    "for key,group in groups:\n",
    "  print(key,list(group))\n"
   ]
  },
  {
   "cell_type": "code",
   "execution_count": null,
   "metadata": {
    "colab": {
     "base_uri": "https://localhost:8080/"
    },
    "executionInfo": {
     "elapsed": 111,
     "status": "ok",
     "timestamp": 1693100248144,
     "user": {
      "displayName": "manish pandey",
      "userId": "09782073510778073535"
     },
     "user_tz": 240
    },
    "id": "K_vIHAN4o1El",
    "outputId": "11beaa70-0af2-4274-bee7-e9362170f1ef"
   },
   "outputs": [
    {
     "data": {
      "text/plain": [
       "[('A', <itertools._grouper at 0x7dcd39c47b50>),\n",
       " ('M', <itertools._grouper at 0x7dcd39c44a90>),\n",
       " ('R', <itertools._grouper at 0x7dcd39c44e80>)]"
      ]
     },
     "execution_count": 35,
     "metadata": {},
     "output_type": "execute_result"
    }
   ],
   "source": [
    "list(groups)"
   ]
  },
  {
   "cell_type": "markdown",
   "metadata": {
    "id": "09cXtI4IeXR7"
   },
   "source": [
    "**LIST**"
   ]
  },
  {
   "cell_type": "code",
   "execution_count": null,
   "metadata": {
    "id": "0wEImyYEeUOX"
   },
   "outputs": [],
   "source": [
    "lst =[1,2,3,4,5,6]"
   ]
  },
  {
   "cell_type": "code",
   "execution_count": null,
   "metadata": {
    "id": "m8b1qKzueZwA"
   },
   "outputs": [],
   "source": [
    "lst.append(['Manish','Pandey']) ##append the element at the last"
   ]
  },
  {
   "cell_type": "code",
   "execution_count": null,
   "metadata": {
    "colab": {
     "base_uri": "https://localhost:8080/"
    },
    "executionInfo": {
     "elapsed": 526,
     "status": "ok",
     "timestamp": 1693148007095,
     "user": {
      "displayName": "manish pandey",
      "userId": "09782073510778073535"
     },
     "user_tz": 240
    },
    "id": "QoRIjwIdetL8",
    "outputId": "cc122fd9-6466-41f0-d4b4-2cefb46bc36f"
   },
   "outputs": [
    {
     "data": {
      "text/plain": [
       "[1, 2, 3, 4, 5, 6, ['Manish', 'Pandey']]"
      ]
     },
     "execution_count": 9,
     "metadata": {},
     "output_type": "execute_result"
    }
   ],
   "source": [
    "lst # append the emtire iterable to the list , it doesn't unpacks it like extend()"
   ]
  },
  {
   "cell_type": "code",
   "execution_count": null,
   "metadata": {
    "id": "K20Wb6tHey79"
   },
   "outputs": [],
   "source": [
    "lst.insert(2,8) #inserts the element to a particular index"
   ]
  },
  {
   "cell_type": "code",
   "execution_count": null,
   "metadata": {
    "colab": {
     "base_uri": "https://localhost:8080/"
    },
    "executionInfo": {
     "elapsed": 274,
     "status": "ok",
     "timestamp": 1693148155289,
     "user": {
      "displayName": "manish pandey",
      "userId": "09782073510778073535"
     },
     "user_tz": 240
    },
    "id": "hADiBS0We_-c",
    "outputId": "464f3c89-2e18-4af4-b844-77fbc18318e3"
   },
   "outputs": [
    {
     "data": {
      "text/plain": [
       "[1, 2, 8, 3, 4, 5, 6, ['Manish', 'Pandey']]"
      ]
     },
     "execution_count": 13,
     "metadata": {},
     "output_type": "execute_result"
    }
   ],
   "source": [
    "lst"
   ]
  },
  {
   "cell_type": "code",
   "execution_count": 1,
   "metadata": {
    "executionInfo": {
     "elapsed": 4,
     "status": "ok",
     "timestamp": 1740353072998,
     "user": {
      "displayName": "manish pandey",
      "userId": "09782073510778073535"
     },
     "user_tz": 300
    },
    "id": "d5BhntK9fuFm"
   },
   "outputs": [],
   "source": [
    "num=[1,2,3,4,5]"
   ]
  },
  {
   "cell_type": "code",
   "execution_count": 2,
   "metadata": {
    "colab": {
     "base_uri": "https://localhost:8080/"
    },
    "executionInfo": {
     "elapsed": 20,
     "status": "ok",
     "timestamp": 1740353074639,
     "user": {
      "displayName": "manish pandey",
      "userId": "09782073510778073535"
     },
     "user_tz": 300
    },
    "id": "jJTGC9vRfhSd",
    "outputId": "65e9d4ae-18c0-4d10-f74d-9f5d72ee2ba5"
   },
   "outputs": [
    {
     "data": {
      "text/plain": [
       "[1, 2, 3, 4, 5, 1, 2, 3, 4, 5, 1, 2, 3, 4, 5, 1, 2, 3, 4, 5, 1, 2, 3, 4, 5]"
      ]
     },
     "execution_count": 2,
     "metadata": {},
     "output_type": "execute_result"
    }
   ],
   "source": [
    "num*5 ##append the list five times"
   ]
  },
  {
   "cell_type": "code",
   "execution_count": null,
   "metadata": {
    "colab": {
     "base_uri": "https://localhost:8080/"
    },
    "executionInfo": {
     "elapsed": 280,
     "status": "ok",
     "timestamp": 1693195300965,
     "user": {
      "displayName": "manish pandey",
      "userId": "09782073510778073535"
     },
     "user_tz": 240
    },
    "id": "6FZrBlhhf8d8",
    "outputId": "5a3f899c-76c8-4918-b9fe-4b84ea40550e"
   },
   "outputs": [
    {
     "data": {
      "text/plain": [
       "5"
      ]
     },
     "execution_count": 6,
     "metadata": {},
     "output_type": "execute_result"
    }
   ],
   "source": [
    "num.pop() ##Last element removal (can use the index as well to remove the element)"
   ]
  },
  {
   "cell_type": "code",
   "execution_count": 2,
   "metadata": {
    "colab": {
     "base_uri": "https://localhost:8080/"
    },
    "executionInfo": {
     "elapsed": 17,
     "status": "ok",
     "timestamp": 1740353315227,
     "user": {
      "displayName": "manish pandey",
      "userId": "09782073510778073535"
     },
     "user_tz": 300
    },
    "id": "REKEPvxYf_o1",
    "outputId": "4ce44aab-c6ba-4a67-fd07-99ffa4a58917"
   },
   "outputs": [
    {
     "data": {
      "text/plain": [
       "[1, 2, 3, 4, 5]"
      ]
     },
     "execution_count": 2,
     "metadata": {},
     "output_type": "execute_result"
    }
   ],
   "source": [
    "num"
   ]
  },
  {
   "cell_type": "code",
   "execution_count": null,
   "metadata": {
    "executionInfo": {
     "elapsed": 6,
     "status": "ok",
     "timestamp": 1740353313461,
     "user": {
      "displayName": "manish pandey",
      "userId": "09782073510778073535"
     },
     "user_tz": 300
    },
    "id": "WvWL7_edUwJs"
   },
   "outputs": [],
   "source": [
    "num1=num.extend([8,200]) ##mutate the original list ( doesn' return value to num1) . "
   ]
  },
  {
   "cell_type": "code",
   "execution_count": null,
   "metadata": {},
   "outputs": [
    {
     "data": {
      "text/plain": [
       "[1, 2, 3, 4, 5, 8, 200]"
      ]
     },
     "execution_count": 4,
     "metadata": {},
     "output_type": "execute_result"
    }
   ],
   "source": [
    "num #Unpacks the list and adds the element individually"
   ]
  },
  {
   "cell_type": "code",
   "execution_count": 16,
   "metadata": {
    "executionInfo": {
     "elapsed": 3,
     "status": "ok",
     "timestamp": 1740353191053,
     "user": {
      "displayName": "manish pandey",
      "userId": "09782073510778073535"
     },
     "user_tz": 300
    },
    "id": "xX-7NM3-TLkp"
   },
   "outputs": [],
   "source": [
    "num1=num +[100] #Adding to the list (doesn't mutate original list)  ( return value to num1)"
   ]
  },
  {
   "cell_type": "code",
   "execution_count": 17,
   "metadata": {
    "colab": {
     "base_uri": "https://localhost:8080/"
    },
    "executionInfo": {
     "elapsed": 12,
     "status": "ok",
     "timestamp": 1740353191716,
     "user": {
      "displayName": "manish pandey",
      "userId": "09782073510778073535"
     },
     "user_tz": 300
    },
    "id": "Z6VEuR3LIVTF",
    "outputId": "4445afc1-e92e-46e0-d3c0-c5ae913dc5db"
   },
   "outputs": [
    {
     "name": "stdout",
     "output_type": "stream",
     "text": [
      "[1, 2, 3, 4, 5, 8, 200, 8, 200, 100]\n"
     ]
    }
   ],
   "source": [
    "print(num1)"
   ]
  },
  {
   "cell_type": "code",
   "execution_count": null,
   "metadata": {
    "colab": {
     "base_uri": "https://localhost:8080/",
     "height": 35
    },
    "executionInfo": {
     "elapsed": 317,
     "status": "ok",
     "timestamp": 1693195487644,
     "user": {
      "displayName": "manish pandey",
      "userId": "09782073510778073535"
     },
     "user_tz": 240
    },
    "id": "MwLBVQoxT9aX",
    "outputId": "218c1242-9c60-470e-9b36-9caa542a0c8f"
   },
   "outputs": [
    {
     "data": {
      "application/vnd.google.colaboratory.intrinsic+json": {
       "type": "string"
      },
      "text/plain": [
       "'Hello\"there'"
      ]
     },
     "execution_count": 12,
     "metadata": {},
     "output_type": "execute_result"
    }
   ],
   "source": [
    "'\"'.join([\"Hello\",\"there\"]) ##Join strings using the separator"
   ]
  },
  {
   "cell_type": "code",
   "execution_count": 27,
   "metadata": {
    "executionInfo": {
     "elapsed": 17,
     "status": "ok",
     "timestamp": 1740353317460,
     "user": {
      "displayName": "manish pandey",
      "userId": "09782073510778073535"
     },
     "user_tz": 300
    },
    "id": "63OzV7cYUiFM"
   },
   "outputs": [],
   "source": [
    "num.remove(200)"
   ]
  },
  {
   "cell_type": "code",
   "execution_count": 28,
   "metadata": {
    "colab": {
     "base_uri": "https://localhost:8080/"
    },
    "executionInfo": {
     "elapsed": 21,
     "status": "ok",
     "timestamp": 1740353319102,
     "user": {
      "displayName": "manish pandey",
      "userId": "09782073510778073535"
     },
     "user_tz": 300
    },
    "id": "Q0OY12KaUiSf",
    "outputId": "771d7692-54d5-4f59-bbfc-ede24373f177"
   },
   "outputs": [
    {
     "data": {
      "text/plain": [
       "[1, 2, 3, 4, 5, 8, 8, 8, 8, 200]"
      ]
     },
     "execution_count": 28,
     "metadata": {},
     "output_type": "execute_result"
    }
   ],
   "source": [
    "num"
   ]
  },
  {
   "cell_type": "code",
   "execution_count": 9,
   "metadata": {
    "colab": {
     "base_uri": "https://localhost:8080/"
    },
    "executionInfo": {
     "elapsed": 295,
     "status": "ok",
     "timestamp": 1693195955914,
     "user": {
      "displayName": "manish pandey",
      "userId": "09782073510778073535"
     },
     "user_tz": 240
    },
    "id": "5pKXPlIqVRp8",
    "outputId": "009f6a12-3dfa-499f-e63b-e4f2081c5547"
   },
   "outputs": [
    {
     "data": {
      "text/plain": [
       "[200, 8, 5, 4, 3, 2, 1]"
      ]
     },
     "execution_count": 9,
     "metadata": {},
     "output_type": "execute_result"
    }
   ],
   "source": [
    "sorted(num,reverse=True) ##in descending order . Creates a new list and doesn't affect the original list"
   ]
  },
  {
   "cell_type": "code",
   "execution_count": null,
   "metadata": {
    "id": "C0mzvBWqV5ey"
   },
   "outputs": [],
   "source": [
    "num.sort()  # mutates the original list"
   ]
  },
  {
   "cell_type": "code",
   "execution_count": null,
   "metadata": {},
   "outputs": [
    {
     "data": {
      "text/plain": [
       "[1, 2, 3, 4, 5, 8, 200]"
      ]
     },
     "execution_count": 10,
     "metadata": {},
     "output_type": "execute_result"
    },
    {
     "ename": "",
     "evalue": "",
     "output_type": "error",
     "traceback": [
      "\u001b[1;31mThe Kernel crashed while executing code in the current cell or a previous cell. \n",
      "\u001b[1;31mPlease review the code in the cell(s) to identify a possible cause of the failure. \n",
      "\u001b[1;31mClick <a href='https://aka.ms/vscodeJupyterKernelCrash'>here</a> for more info. \n",
      "\u001b[1;31mView Jupyter <a href='command:jupyter.viewOutput'>log</a> for further details."
     ]
    }
   ],
   "source": [
    "num"
   ]
  },
  {
   "cell_type": "code",
   "execution_count": null,
   "metadata": {
    "colab": {
     "base_uri": "https://localhost:8080/"
    },
    "executionInfo": {
     "elapsed": 319,
     "status": "ok",
     "timestamp": 1693196042962,
     "user": {
      "displayName": "manish pandey",
      "userId": "09782073510778073535"
     },
     "user_tz": 240
    },
    "id": "vOx-Zqp5WSiI",
    "outputId": "168af369-435e-4e53-d4cd-55d1c1f3d358"
   },
   "outputs": [
    {
     "data": {
      "text/plain": [
       "True"
      ]
     },
     "execution_count": 27,
     "metadata": {},
     "output_type": "execute_result"
    }
   ],
   "source": [
    "1 in num ##checking element is in the list"
   ]
  },
  {
   "cell_type": "code",
   "execution_count": 29,
   "metadata": {
    "executionInfo": {
     "elapsed": 8,
     "status": "ok",
     "timestamp": 1740353373249,
     "user": {
      "displayName": "manish pandey",
      "userId": "09782073510778073535"
     },
     "user_tz": 300
    },
    "id": "6TSK_WEt26SL"
   },
   "outputs": [],
   "source": [
    "lst=[1,2,3,4,5]\n"
   ]
  },
  {
   "cell_type": "code",
   "execution_count": 30,
   "metadata": {
    "executionInfo": {
     "elapsed": 12,
     "status": "ok",
     "timestamp": 1740353373938,
     "user": {
      "displayName": "manish pandey",
      "userId": "09782073510778073535"
     },
     "user_tz": 300
    },
    "id": "7nahYi3c3Alr"
   },
   "outputs": [],
   "source": [
    "#Unpacking function of list\n",
    "first,second,*x,last=lst"
   ]
  },
  {
   "cell_type": "code",
   "execution_count": 31,
   "metadata": {
    "colab": {
     "base_uri": "https://localhost:8080/"
    },
    "executionInfo": {
     "elapsed": 9,
     "status": "ok",
     "timestamp": 1740353383490,
     "user": {
      "displayName": "manish pandey",
      "userId": "09782073510778073535"
     },
     "user_tz": 300
    },
    "id": "qPyfTXyZ3z52",
    "outputId": "c5410982-8111-440a-9109-2aeaf217bb5f"
   },
   "outputs": [
    {
     "name": "stdout",
     "output_type": "stream",
     "text": [
      "First Element in the list: 1\n",
      "Second Element in the list: 2\n",
      "Middle Element in the list: [3, 4]\n",
      "Last Element in the list: 5\n"
     ]
    }
   ],
   "source": [
    "print(\"First Element in the list: {}\".format(first))\n",
    "print(\"Second Element in the list: {}\".format(second))\n",
    "print(\"Middle Element in the list: {}\".format(x))\n",
    "print(\"Last Element in the list: {}\".format(last))"
   ]
  },
  {
   "cell_type": "markdown",
   "metadata": {
    "id": "JxQ0mN3u9jiB"
   },
   "source": [
    "**2D Array or Matrix**"
   ]
  },
  {
   "cell_type": "code",
   "execution_count": 44,
   "metadata": {
    "executionInfo": {
     "elapsed": 38,
     "status": "ok",
     "timestamp": 1740354269165,
     "user": {
      "displayName": "manish pandey",
      "userId": "09782073510778073535"
     },
     "user_tz": 300
    },
    "id": "JtilxuL04O_x"
   },
   "outputs": [],
   "source": [
    "arr1=[[1,2,3],[4,5,6,7]]"
   ]
  },
  {
   "cell_type": "code",
   "execution_count": 45,
   "metadata": {
    "colab": {
     "base_uri": "https://localhost:8080/"
    },
    "executionInfo": {
     "elapsed": 6,
     "status": "ok",
     "timestamp": 1740354383971,
     "user": {
      "displayName": "manish pandey",
      "userId": "09782073510778073535"
     },
     "user_tz": 300
    },
    "id": "1tGjofIpMr5d",
    "outputId": "43db22de-f4ab-4101-e20f-3b05b1ee7ca9"
   },
   "outputs": [
    {
     "data": {
      "text/plain": [
       "[1, 2, 3, 4, 5, 6, 7]"
      ]
     },
     "execution_count": 45,
     "metadata": {},
     "output_type": "execute_result"
    }
   ],
   "source": [
    "[num2 for row in arr1 for num2 in row]"
   ]
  },
  {
   "cell_type": "code",
   "execution_count": 43,
   "metadata": {
    "colab": {
     "base_uri": "https://localhost:8080/"
    },
    "executionInfo": {
     "elapsed": 49,
     "status": "ok",
     "timestamp": 1740354011177,
     "user": {
      "displayName": "manish pandey",
      "userId": "09782073510778073535"
     },
     "user_tz": 300
    },
    "id": "OkbCnOayKziN",
    "outputId": "3067fd74-3ff7-41f7-fdd6-9b460dbc381d"
   },
   "outputs": [
    {
     "data": {
      "text/plain": [
       "[1, 2, 3]"
      ]
     },
     "execution_count": 43,
     "metadata": {},
     "output_type": "execute_result"
    }
   ],
   "source": [
    "arr1[0]"
   ]
  },
  {
   "cell_type": "code",
   "execution_count": 34,
   "metadata": {
    "colab": {
     "base_uri": "https://localhost:8080/"
    },
    "executionInfo": {
     "elapsed": 16,
     "status": "ok",
     "timestamp": 1740353443369,
     "user": {
      "displayName": "manish pandey",
      "userId": "09782073510778073535"
     },
     "user_tz": 300
    },
    "id": "UcOQTEJ_9uq8",
    "outputId": "b312070a-2406-4395-dddf-4d855af0854c"
   },
   "outputs": [
    {
     "name": "stdout",
     "output_type": "stream",
     "text": [
      "1\n",
      "2\n",
      "3\n",
      "4\n",
      "5\n",
      "6\n",
      "7\n"
     ]
    }
   ],
   "source": [
    "for i in range(len(arr1)):##Len will give the the no of rows of the array(2D) ie 2 for this case\n",
    "  for j in range(len(arr1[i])): ##will traverse inside each erray\n",
    "    print (arr1[i][j])"
   ]
  },
  {
   "cell_type": "code",
   "execution_count": null,
   "metadata": {
    "colab": {
     "base_uri": "https://localhost:8080/"
    },
    "executionInfo": {
     "elapsed": 187,
     "status": "ok",
     "timestamp": 1693408178272,
     "user": {
      "displayName": "manish pandey",
      "userId": "09782073510778073535"
     },
     "user_tz": -330
    },
    "id": "50iPQLUR_Ctl",
    "outputId": "8815bfaf-0b8e-496c-c5fc-9887e5109c41"
   },
   "outputs": [
    {
     "data": {
      "text/plain": [
       "[1, 2, 3, 4, 5, 6, 7]"
      ]
     },
     "execution_count": 15,
     "metadata": {},
     "output_type": "execute_result"
    }
   ],
   "source": [
    "##Transform into list using list comprehension\n",
    "\n",
    "[arr1[row][col] for row in range(len(arr1)) for col in range(len(arr1[row]))]"
   ]
  },
  {
   "cell_type": "code",
   "execution_count": null,
   "metadata": {
    "colab": {
     "base_uri": "https://localhost:8080/"
    },
    "executionInfo": {
     "elapsed": 153,
     "status": "ok",
     "timestamp": 1693408256566,
     "user": {
      "displayName": "manish pandey",
      "userId": "09782073510778073535"
     },
     "user_tz": -330
    },
    "id": "ROHVbGkA_ybz",
    "outputId": "15973fce-89cc-4efb-e842-b1cc237e2094"
   },
   "outputs": [
    {
     "data": {
      "text/plain": [
       "15"
      ]
     },
     "execution_count": 16,
     "metadata": {},
     "output_type": "execute_result"
    }
   ],
   "source": [
    "##Sum of elements\n",
    "\n",
    "sum(lst)"
   ]
  },
  {
   "cell_type": "code",
   "execution_count": null,
   "metadata": {
    "colab": {
     "base_uri": "https://localhost:8080/"
    },
    "executionInfo": {
     "elapsed": 160,
     "status": "ok",
     "timestamp": 1693408327914,
     "user": {
      "displayName": "manish pandey",
      "userId": "09782073510778073535"
     },
     "user_tz": -330
    },
    "id": "7nqQxpP9_21j",
    "outputId": "ad167b3f-3e4e-47b1-8e69-c6bac26da0e0"
   },
   "outputs": [
    {
     "data": {
      "text/plain": [
       "[5, 7, 9]"
      ]
     },
     "execution_count": 17,
     "metadata": {},
     "output_type": "execute_result"
    }
   ],
   "source": [
    "##Element sum\n",
    "[sum(i) for i in zip([1,2,3],[4,5,6])]"
   ]
  },
  {
   "cell_type": "code",
   "execution_count": null,
   "metadata": {
    "colab": {
     "base_uri": "https://localhost:8080/"
    },
    "executionInfo": {
     "elapsed": 151,
     "status": "ok",
     "timestamp": 1693408462119,
     "user": {
      "displayName": "manish pandey",
      "userId": "09782073510778073535"
     },
     "user_tz": -330
    },
    "id": "IgEs8ccdAYE7",
    "outputId": "55636378-a807-4109-fe90-1ffa3a91f8c9"
   },
   "outputs": [
    {
     "data": {
      "text/plain": [
       "['man', 'Raj', 'Angel']"
      ]
     },
     "execution_count": 18,
     "metadata": {},
     "output_type": "execute_result"
    }
   ],
   "source": [
    "#Sorted by second letter\n",
    "lst1=[\"man\",\"Raj\",\"Angel\"]\n",
    "\n",
    "sorted(lst1, key=lambda x:x[1])"
   ]
  },
  {
   "cell_type": "code",
   "execution_count": null,
   "metadata": {
    "colab": {
     "base_uri": "https://localhost:8080/"
    },
    "executionInfo": {
     "elapsed": 8,
     "status": "ok",
     "timestamp": 1693411314374,
     "user": {
      "displayName": "manish pandey",
      "userId": "09782073510778073535"
     },
     "user_tz": -330
    },
    "id": "9CzyQ7bqAzkL",
    "outputId": "5ac3a785-71a5-4b60-d583-7db41291e434"
   },
   "outputs": [
    {
     "data": {
      "text/plain": [
       "600"
      ]
     },
     "execution_count": 31,
     "metadata": {},
     "output_type": "execute_result"
    }
   ],
   "source": [
    "#largest no in a list\n",
    "lst=[1,5,8,7,600,500,100]\n",
    "\n",
    "max(lst)\n",
    "\n"
   ]
  },
  {
   "cell_type": "code",
   "execution_count": null,
   "metadata": {
    "colab": {
     "base_uri": "https://localhost:8080/"
    },
    "executionInfo": {
     "elapsed": 199,
     "status": "ok",
     "timestamp": 1693412733244,
     "user": {
      "displayName": "manish pandey",
      "userId": "09782073510778073535"
     },
     "user_tz": -330
    },
    "id": "m3f196KUQiIU",
    "outputId": "6a01cfad-9906-4887-90bb-5683f3ff4837"
   },
   "outputs": [
    {
     "name": "stdout",
     "output_type": "stream",
     "text": [
      "0 1\n",
      "1 5\n",
      "2 8\n",
      "3 7\n",
      "4 600\n",
      "5 500\n",
      "6 100\n"
     ]
    }
   ],
   "source": [
    "##Enumerate function prints the elment and it's index in a list\n",
    "for i,el in enumerate(lst):\n",
    "  print(i,el)"
   ]
  },
  {
   "cell_type": "markdown",
   "metadata": {
    "id": "nHscDrACgY7t"
   },
   "source": [
    "**Sets , Tuples , Dictionary**"
   ]
  },
  {
   "cell_type": "code",
   "execution_count": null,
   "metadata": {
    "id": "XxjGqhQngfoM"
   },
   "outputs": [],
   "source": [
    "##Sets are iterable,mutable and can only have unique records\n",
    "##Sets are ordered so no need to sort\n",
    "##Elements cannot be picked up from set using indexing but can be iterated using for loop"
   ]
  },
  {
   "cell_type": "code",
   "execution_count": 72,
   "metadata": {
    "colab": {
     "base_uri": "https://localhost:8080/"
    },
    "executionInfo": {
     "elapsed": 7,
     "status": "ok",
     "timestamp": 1740355010566,
     "user": {
      "displayName": "manish pandey",
      "userId": "09782073510778073535"
     },
     "user_tz": 300
    },
    "id": "VlKcfed9iLnr",
    "outputId": "f1018d0c-f274-4dda-f699-3e01c3aed7f1"
   },
   "outputs": [
    {
     "name": "stdout",
     "output_type": "stream",
     "text": [
      "{1, 2, 3, 4}\n"
     ]
    }
   ],
   "source": [
    "set_1 = set([1, 2, 3, 3, 4])  # Converts list to set\n",
    "print(set_1)"
   ]
  },
  {
   "cell_type": "code",
   "execution_count": 73,
   "metadata": {
    "colab": {
     "base_uri": "https://localhost:8080/",
     "height": 141
    },
    "executionInfo": {
     "elapsed": 42,
     "status": "error",
     "timestamp": 1740355011900,
     "user": {
      "displayName": "manish pandey",
      "userId": "09782073510778073535"
     },
     "user_tz": 300
    },
    "id": "ef6orX4HTBmu",
    "outputId": "b5e4ac45-fb80-405b-9d50-b7833d00242d"
   },
   "outputs": [
    {
     "ename": "TypeError",
     "evalue": "'set' object is not subscriptable",
     "output_type": "error",
     "traceback": [
      "\u001b[0;31m---------------------------------------------------------------------------\u001b[0m",
      "\u001b[0;31mTypeError\u001b[0m                                 Traceback (most recent call last)",
      "\u001b[0;32m<ipython-input-73-d0cc9427134a>\u001b[0m in \u001b[0;36m<cell line: 0>\u001b[0;34m()\u001b[0m\n\u001b[0;32m----> 1\u001b[0;31m \u001b[0mset_1\u001b[0m\u001b[0;34m[\u001b[0m\u001b[0;36m0\u001b[0m\u001b[0;34m]\u001b[0m \u001b[0;31m## Cannot be indexed\u001b[0m\u001b[0;34m\u001b[0m\u001b[0;34m\u001b[0m\u001b[0m\n\u001b[0m",
      "\u001b[0;31mTypeError\u001b[0m: 'set' object is not subscriptable"
     ]
    }
   ],
   "source": [
    "set_1[0] ## Cannot be indexed"
   ]
  },
  {
   "cell_type": "code",
   "execution_count": 74,
   "metadata": {
    "colab": {
     "base_uri": "https://localhost:8080/"
    },
    "executionInfo": {
     "elapsed": 24,
     "status": "ok",
     "timestamp": 1740355013228,
     "user": {
      "displayName": "manish pandey",
      "userId": "09782073510778073535"
     },
     "user_tz": 300
    },
    "id": "Evi1oXWCTGpp",
    "outputId": "771946ff-5096-45c9-8807-52b6ef591c3d"
   },
   "outputs": [
    {
     "name": "stdout",
     "output_type": "stream",
     "text": [
      "1\n",
      "2\n",
      "3\n",
      "4\n"
     ]
    }
   ],
   "source": [
    "for i in set_1:\n",
    "  print(i)"
   ]
  },
  {
   "cell_type": "code",
   "execution_count": null,
   "metadata": {
    "colab": {
     "base_uri": "https://localhost:8080/"
    },
    "executionInfo": {
     "elapsed": 10,
     "status": "ok",
     "timestamp": 1694537216003,
     "user": {
      "displayName": "manish pandey",
      "userId": "09782073510778073535"
     },
     "user_tz": 240
    },
    "id": "GGJkh-GTindn",
    "outputId": "522e0ef8-1fcd-44b2-f297-28ad56368273"
   },
   "outputs": [
    {
     "data": {
      "text/plain": [
       "{1, 6, 7, 8, 9}"
      ]
     },
     "execution_count": 2,
     "metadata": {},
     "output_type": "execute_result"
    }
   ],
   "source": [
    "set_1 ##Automatically ordered the list"
   ]
  },
  {
   "cell_type": "code",
   "execution_count": null,
   "metadata": {
    "id": "6JKRjIQVivJu"
   },
   "outputs": [],
   "source": [
    "##Add element to the end of set as per the ordering\n",
    "\n",
    "set_1.add(5)"
   ]
  },
  {
   "cell_type": "code",
   "execution_count": null,
   "metadata": {
    "colab": {
     "base_uri": "https://localhost:8080/"
    },
    "executionInfo": {
     "elapsed": 225,
     "status": "ok",
     "timestamp": 1694537227040,
     "user": {
      "displayName": "manish pandey",
      "userId": "09782073510778073535"
     },
     "user_tz": 240
    },
    "id": "lqrf97SAiyux",
    "outputId": "428e5105-a68e-40f7-c30f-c2eb8e9b0a6a"
   },
   "outputs": [
    {
     "data": {
      "text/plain": [
       "{1, 5, 6, 7, 8, 9}"
      ]
     },
     "execution_count": 4,
     "metadata": {},
     "output_type": "execute_result"
    }
   ],
   "source": [
    "set_1"
   ]
  },
  {
   "cell_type": "code",
   "execution_count": 63,
   "metadata": {
    "executionInfo": {
     "elapsed": 7,
     "status": "ok",
     "timestamp": 1740354871409,
     "user": {
      "displayName": "manish pandey",
      "userId": "09782073510778073535"
     },
     "user_tz": 300
    },
    "id": "LX3kazQPjZvC"
   },
   "outputs": [],
   "source": [
    "set1={'Avengers','Hulk','Spiderman','Ironman'}\n",
    "set2={'Avengers','Hulk','Spiderman'}"
   ]
  },
  {
   "cell_type": "code",
   "execution_count": 50,
   "metadata": {
    "colab": {
     "base_uri": "https://localhost:8080/"
    },
    "executionInfo": {
     "elapsed": 45,
     "status": "ok",
     "timestamp": 1740354699501,
     "user": {
      "displayName": "manish pandey",
      "userId": "09782073510778073535"
     },
     "user_tz": 300
    },
    "id": "SO4Z-Ph0jlvv",
    "outputId": "58c9050a-4e0b-4fcb-885f-ee5c1e8c5602"
   },
   "outputs": [
    {
     "data": {
      "text/plain": [
       "{'Avengers', 'Hulk', 'Spiderman'}"
      ]
     },
     "execution_count": 50,
     "metadata": {},
     "output_type": "execute_result"
    }
   ],
   "source": [
    "##Intersection (Intersect of both sets) but will not update set2\n",
    "set2.intersection(set1)"
   ]
  },
  {
   "cell_type": "code",
   "execution_count": 57,
   "metadata": {
    "executionInfo": {
     "elapsed": 6,
     "status": "ok",
     "timestamp": 1740354834900,
     "user": {
      "displayName": "manish pandey",
      "userId": "09782073510778073535"
     },
     "user_tz": 300
    },
    "id": "-0Yxy2Amj2MU"
   },
   "outputs": [],
   "source": [
    "set1.intersection_update(set2) ##Updates set1"
   ]
  },
  {
   "cell_type": "code",
   "execution_count": 62,
   "metadata": {
    "colab": {
     "base_uri": "https://localhost:8080/"
    },
    "executionInfo": {
     "elapsed": 13,
     "status": "ok",
     "timestamp": 1740354864234,
     "user": {
      "displayName": "manish pandey",
      "userId": "09782073510778073535"
     },
     "user_tz": 300
    },
    "id": "OTSRq8Pwj8GX",
    "outputId": "30e7cf1d-d41e-4b03-b6de-46c784c52802"
   },
   "outputs": [
    {
     "data": {
      "text/plain": [
       "{'Ironman'}"
      ]
     },
     "execution_count": 62,
     "metadata": {},
     "output_type": "execute_result"
    }
   ],
   "source": [
    "set1"
   ]
  },
  {
   "cell_type": "code",
   "execution_count": 60,
   "metadata": {
    "colab": {
     "base_uri": "https://localhost:8080/"
    },
    "executionInfo": {
     "elapsed": 10,
     "status": "ok",
     "timestamp": 1740354855697,
     "user": {
      "displayName": "manish pandey",
      "userId": "09782073510778073535"
     },
     "user_tz": 300
    },
    "id": "fI1D0mymkRh3",
    "outputId": "42936a9b-246d-4349-f459-cf1b3ff05589"
   },
   "outputs": [
    {
     "data": {
      "text/plain": [
       "{'Ironman'}"
      ]
     },
     "execution_count": 60,
     "metadata": {},
     "output_type": "execute_result"
    }
   ],
   "source": [
    "set1.difference(set2)"
   ]
  },
  {
   "cell_type": "code",
   "execution_count": 61,
   "metadata": {
    "executionInfo": {
     "elapsed": 6,
     "status": "ok",
     "timestamp": 1740354863025,
     "user": {
      "displayName": "manish pandey",
      "userId": "09782073510778073535"
     },
     "user_tz": 300
    },
    "id": "R2QAyvDGStkW"
   },
   "outputs": [],
   "source": [
    "set1.difference_update(set2)"
   ]
  },
  {
   "cell_type": "code",
   "execution_count": null,
   "metadata": {
    "colab": {
     "base_uri": "https://localhost:8080/"
    },
    "executionInfo": {
     "elapsed": 211,
     "status": "ok",
     "timestamp": 1694537334184,
     "user": {
      "displayName": "manish pandey",
      "userId": "09782073510778073535"
     },
     "user_tz": 240
    },
    "id": "q2dyFYzOSxhx",
    "outputId": "66e333ff-736a-42cd-c2dc-e980c865d575"
   },
   "outputs": [
    {
     "data": {
      "text/plain": [
       "{'Avengers', 'Hulk', 'Spiderman'}"
      ]
     },
     "execution_count": 14,
     "metadata": {},
     "output_type": "execute_result"
    }
   ],
   "source": [
    "set2"
   ]
  },
  {
   "cell_type": "markdown",
   "metadata": {
    "id": "1dj2P7HckrIX"
   },
   "source": [
    "**Dictionary**\n",
    "\n",
    "*Unordered , mutable and indexed*\n",
    "\n",
    "*Curly braces and use key value pair*"
   ]
  },
  {
   "cell_type": "code",
   "execution_count": 75,
   "metadata": {
    "executionInfo": {
     "elapsed": 8,
     "status": "ok",
     "timestamp": 1740356269208,
     "user": {
      "displayName": "manish pandey",
      "userId": "09782073510778073535"
     },
     "user_tz": 300
    },
    "id": "JsrH0nh5lhPM"
   },
   "outputs": [],
   "source": [
    "\n",
    "dict1=dict(name=\"Manish\",age=32)"
   ]
  },
  {
   "cell_type": "code",
   "execution_count": 76,
   "metadata": {
    "colab": {
     "base_uri": "https://localhost:8080/"
    },
    "executionInfo": {
     "elapsed": 15,
     "status": "ok",
     "timestamp": 1740356271380,
     "user": {
      "displayName": "manish pandey",
      "userId": "09782073510778073535"
     },
     "user_tz": 300
    },
    "id": "FflDE-HKTWII",
    "outputId": "18ced7af-11c6-4a46-87b9-5d6d9957186a"
   },
   "outputs": [
    {
     "data": {
      "text/plain": [
       "{'name': 'Manish', 'age': 32}"
      ]
     },
     "execution_count": 76,
     "metadata": {},
     "output_type": "execute_result"
    }
   ],
   "source": [
    "dict1"
   ]
  },
  {
   "cell_type": "code",
   "execution_count": 77,
   "metadata": {
    "colab": {
     "base_uri": "https://localhost:8080/"
    },
    "executionInfo": {
     "elapsed": 10,
     "status": "ok",
     "timestamp": 1740356273172,
     "user": {
      "displayName": "manish pandey",
      "userId": "09782073510778073535"
     },
     "user_tz": 300
    },
    "id": "vLylKu9kx1OD",
    "outputId": "3b46a1b2-0913-4ec5-c35d-329ed5a4a7a3"
   },
   "outputs": [
    {
     "data": {
      "text/plain": [
       "dict"
      ]
     },
     "execution_count": 77,
     "metadata": {},
     "output_type": "execute_result"
    }
   ],
   "source": [
    "type(dict1)"
   ]
  },
  {
   "cell_type": "code",
   "execution_count": 79,
   "metadata": {
    "executionInfo": {
     "elapsed": 17,
     "status": "ok",
     "timestamp": 1740356578753,
     "user": {
      "displayName": "manish pandey",
      "userId": "09782073510778073535"
     },
     "user_tz": 300
    },
    "id": "gDx8uDYMx6Jj"
   },
   "outputs": [],
   "source": [
    "my_dict1={\"Car1\":\"Audi\",\"Car2\":\"BMW\",\"Car3\":\"Merc\"}"
   ]
  },
  {
   "cell_type": "code",
   "execution_count": null,
   "metadata": {
    "colab": {
     "base_uri": "https://localhost:8080/",
     "height": 35
    },
    "executionInfo": {
     "elapsed": 165,
     "status": "ok",
     "timestamp": 1693169955177,
     "user": {
      "displayName": "manish pandey",
      "userId": "09782073510778073535"
     },
     "user_tz": 240
    },
    "id": "a-Z1X7Qcyc1s",
    "outputId": "6f67357b-6be9-4b47-ddb1-0bfb3662328c"
   },
   "outputs": [
    {
     "data": {
      "application/vnd.google.colaboratory.intrinsic+json": {
       "type": "string"
      },
      "text/plain": [
       "'Audi'"
      ]
     },
     "execution_count": 12,
     "metadata": {},
     "output_type": "execute_result"
    }
   ],
   "source": [
    "my_dict1[\"Car1\"] #indexing can be done based on keys"
   ]
  },
  {
   "cell_type": "code",
   "execution_count": 80,
   "metadata": {
    "colab": {
     "base_uri": "https://localhost:8080/"
    },
    "executionInfo": {
     "elapsed": 26,
     "status": "ok",
     "timestamp": 1740356579847,
     "user": {
      "displayName": "manish pandey",
      "userId": "09782073510778073535"
     },
     "user_tz": 300
    },
    "id": "X9ULWDPky3dK",
    "outputId": "a37ba8f5-2e04-4239-d8d3-763b93bbe515"
   },
   "outputs": [
    {
     "data": {
      "text/plain": [
       "dict_items([('Car1', 'Audi'), ('Car2', 'BMW'), ('Car3', 'Merc')])"
      ]
     },
     "execution_count": 80,
     "metadata": {},
     "output_type": "execute_result"
    }
   ],
   "source": [
    "my_dict1.items()"
   ]
  },
  {
   "cell_type": "code",
   "execution_count": null,
   "metadata": {
    "colab": {
     "base_uri": "https://localhost:8080/"
    },
    "executionInfo": {
     "elapsed": 139,
     "status": "ok",
     "timestamp": 1693170031149,
     "user": {
      "displayName": "manish pandey",
      "userId": "09782073510778073535"
     },
     "user_tz": 240
    },
    "id": "bQa40CLvzBqL",
    "outputId": "86554316-e513-40ee-cdaa-5ceed32e57e9"
   },
   "outputs": [
    {
     "data": {
      "text/plain": [
       "dict_values(['Audi', 'BMW', 'Merc'])"
      ]
     },
     "execution_count": 15,
     "metadata": {},
     "output_type": "execute_result"
    }
   ],
   "source": [
    "my_dict1.values()"
   ]
  },
  {
   "cell_type": "code",
   "execution_count": 82,
   "metadata": {
    "colab": {
     "base_uri": "https://localhost:8080/"
    },
    "executionInfo": {
     "elapsed": 11,
     "status": "ok",
     "timestamp": 1740356622529,
     "user": {
      "displayName": "manish pandey",
      "userId": "09782073510778073535"
     },
     "user_tz": 300
    },
    "id": "-3h3lm4BzGXf",
    "outputId": "443ea505-e9ed-4175-fe43-c8ff7f839c8f"
   },
   "outputs": [
    {
     "data": {
      "text/plain": [
       "dict_keys(['Car1', 'Car2', 'Car3'])"
      ]
     },
     "execution_count": 82,
     "metadata": {},
     "output_type": "execute_result"
    }
   ],
   "source": [
    "my_dict1.keys()"
   ]
  },
  {
   "cell_type": "code",
   "execution_count": null,
   "metadata": {
    "colab": {
     "base_uri": "https://localhost:8080/"
    },
    "executionInfo": {
     "elapsed": 233,
     "status": "ok",
     "timestamp": 1693170171556,
     "user": {
      "displayName": "manish pandey",
      "userId": "09782073510778073535"
     },
     "user_tz": 240
    },
    "id": "ntwJsq72zjPn",
    "outputId": "b8964d5f-a052-493c-84e8-af45b0bd6b21"
   },
   "outputs": [
    {
     "name": "stdout",
     "output_type": "stream",
     "text": [
      "Car1\n",
      "Car2\n",
      "Car3\n"
     ]
    }
   ],
   "source": [
    "for i in my_dict1: #By default traversing the dictionary prints only keys\n",
    "  print(i)"
   ]
  },
  {
   "cell_type": "code",
   "execution_count": null,
   "metadata": {
    "colab": {
     "base_uri": "https://localhost:8080/"
    },
    "executionInfo": {
     "elapsed": 139,
     "status": "ok",
     "timestamp": 1693170124753,
     "user": {
      "displayName": "manish pandey",
      "userId": "09782073510778073535"
     },
     "user_tz": 240
    },
    "id": "7-4jXlqYzRJW",
    "outputId": "df5d1258-c6ae-42fb-a3cc-9162b8bacd1b"
   },
   "outputs": [
    {
     "name": "stdout",
     "output_type": "stream",
     "text": [
      "Car1\n",
      "Car2\n",
      "Car3\n"
     ]
    }
   ],
   "source": [
    "for i in my_dict1.keys():\n",
    "  print(i)"
   ]
  },
  {
   "cell_type": "code",
   "execution_count": null,
   "metadata": {
    "colab": {
     "base_uri": "https://localhost:8080/"
    },
    "executionInfo": {
     "elapsed": 139,
     "status": "ok",
     "timestamp": 1693170142379,
     "user": {
      "displayName": "manish pandey",
      "userId": "09782073510778073535"
     },
     "user_tz": 240
    },
    "id": "COhyw_Hvzdlg",
    "outputId": "6888feff-4dba-4a19-e809-b5321c0e88f3"
   },
   "outputs": [
    {
     "name": "stdout",
     "output_type": "stream",
     "text": [
      "('Car1', 'Audi')\n",
      "('Car2', 'BMW')\n",
      "('Car3', 'Merc')\n"
     ]
    }
   ],
   "source": [
    "for i in my_dict1.items():\n",
    "  print(i)"
   ]
  },
  {
   "cell_type": "code",
   "execution_count": 84,
   "metadata": {
    "executionInfo": {
     "elapsed": 8,
     "status": "ok",
     "timestamp": 1740356658005,
     "user": {
      "displayName": "manish pandey",
      "userId": "09782073510778073535"
     },
     "user_tz": 300
    },
    "id": "R5hJ_xoMzx0t"
   },
   "outputs": [],
   "source": [
    "##updating values using keys\n",
    "my_dict1[\"Car1\"]=\"Ambassador\""
   ]
  },
  {
   "cell_type": "code",
   "execution_count": 85,
   "metadata": {
    "colab": {
     "base_uri": "https://localhost:8080/"
    },
    "executionInfo": {
     "elapsed": 43,
     "status": "ok",
     "timestamp": 1740356659208,
     "user": {
      "displayName": "manish pandey",
      "userId": "09782073510778073535"
     },
     "user_tz": 300
    },
    "id": "dleekbTn0BWc",
    "outputId": "d9c9a0bf-e9d5-43c6-fb33-48ff32e9664c"
   },
   "outputs": [
    {
     "data": {
      "text/plain": [
       "{'Car1': 'Ambassador', 'Car2': 'BMW', 'Car3': 'Merc'}"
      ]
     },
     "execution_count": 85,
     "metadata": {},
     "output_type": "execute_result"
    }
   ],
   "source": [
    "my_dict1"
   ]
  },
  {
   "cell_type": "code",
   "execution_count": 86,
   "metadata": {
    "colab": {
     "base_uri": "https://localhost:8080/",
     "height": 35
    },
    "executionInfo": {
     "elapsed": 10,
     "status": "ok",
     "timestamp": 1740356660722,
     "user": {
      "displayName": "manish pandey",
      "userId": "09782073510778073535"
     },
     "user_tz": 300
    },
    "id": "uOReOOEV0E9V",
    "outputId": "4a28cbfc-b070-4cc6-d60e-114c88f7092d"
   },
   "outputs": [
    {
     "data": {
      "application/vnd.google.colaboratory.intrinsic+json": {
       "type": "string"
      },
      "text/plain": [
       "'Ambassador'"
      ]
     },
     "execution_count": 86,
     "metadata": {},
     "output_type": "execute_result"
    }
   ],
   "source": [
    "my_dict1.get(\"Car1\")"
   ]
  },
  {
   "cell_type": "code",
   "execution_count": 88,
   "metadata": {
    "colab": {
     "base_uri": "https://localhost:8080/"
    },
    "executionInfo": {
     "elapsed": 36,
     "status": "ok",
     "timestamp": 1740356726883,
     "user": {
      "displayName": "manish pandey",
      "userId": "09782073510778073535"
     },
     "user_tz": 300
    },
    "id": "vJap7Zgg0S9-",
    "outputId": "ab7ff542-3438-46a3-9aa8-d1e8a950d92c"
   },
   "outputs": [
    {
     "data": {
      "text/plain": [
       "{'C': None, 'a': None, 'r': None, '1': None, ':': None, 'A': None}"
      ]
     },
     "execution_count": 88,
     "metadata": {},
     "output_type": "execute_result"
    }
   ],
   "source": [
    "my_dict1.fromkeys(\"Car1:A\")"
   ]
  },
  {
   "cell_type": "code",
   "execution_count": null,
   "metadata": {
    "colab": {
     "base_uri": "https://localhost:8080/"
    },
    "executionInfo": {
     "elapsed": 134,
     "status": "ok",
     "timestamp": 1693170430002,
     "user": {
      "displayName": "manish pandey",
      "userId": "09782073510778073535"
     },
     "user_tz": 240
    },
    "id": "Jm1sNhlb0lzN",
    "outputId": "08469521-8968-4357-92d8-dc5de8217654"
   },
   "outputs": [
    {
     "data": {
      "text/plain": [
       "{'Car1': 'Ambassador', 'Car2': 'BMW', 'Car3': 'Merc'}"
      ]
     },
     "execution_count": 31,
     "metadata": {},
     "output_type": "execute_result"
    }
   ],
   "source": [
    "my_dict1"
   ]
  },
  {
   "cell_type": "code",
   "execution_count": null,
   "metadata": {
    "id": "c333yIHECJik"
   },
   "outputs": [],
   "source": [
    "#Creating dictionary from collection of list:\n",
    "\n",
    "list1=[\"name\",\"Manish\"]\n",
    "list2=[\"age\",32]\n",
    "list3=[\"place\",\"Windsor\"]\n",
    "\n",
    "my_dict= dict([list1,list2,list3])"
   ]
  },
  {
   "cell_type": "code",
   "execution_count": null,
   "metadata": {
    "colab": {
     "base_uri": "https://localhost:8080/"
    },
    "executionInfo": {
     "elapsed": 159,
     "status": "ok",
     "timestamp": 1693409158942,
     "user": {
      "displayName": "manish pandey",
      "userId": "09782073510778073535"
     },
     "user_tz": -330
    },
    "id": "WnH3w_WbDRCa",
    "outputId": "4be03c3f-96ad-4c25-f3d9-a2f55ab88b12"
   },
   "outputs": [
    {
     "data": {
      "text/plain": [
       "{'name': 'Manish', 'age': 32, 'place': 'Windsor'}"
      ]
     },
     "execution_count": 23,
     "metadata": {},
     "output_type": "execute_result"
    }
   ],
   "source": [
    "my_dict"
   ]
  },
  {
   "cell_type": "code",
   "execution_count": null,
   "metadata": {
    "colab": {
     "base_uri": "https://localhost:8080/"
    },
    "executionInfo": {
     "elapsed": 186,
     "status": "ok",
     "timestamp": 1693409322139,
     "user": {
      "displayName": "manish pandey",
      "userId": "09782073510778073535"
     },
     "user_tz": -330
    },
    "id": "bW4KB8RDD4XB",
    "outputId": "62317c28-e1d0-4943-ac08-d53bdd6ab4fe"
   },
   "outputs": [
    {
     "data": {
      "text/plain": [
       "dict_items([('name', 'Manish'), ('age', 32), ('place', 'Windsor')])"
      ]
     },
     "execution_count": 28,
     "metadata": {},
     "output_type": "execute_result"
    }
   ],
   "source": [
    "my_dict.items()"
   ]
  },
  {
   "cell_type": "code",
   "execution_count": null,
   "metadata": {
    "colab": {
     "base_uri": "https://localhost:8080/"
    },
    "executionInfo": {
     "elapsed": 209,
     "status": "ok",
     "timestamp": 1693409356235,
     "user": {
      "displayName": "manish pandey",
      "userId": "09782073510778073535"
     },
     "user_tz": -330
    },
    "id": "dNmIzRqSD_Di",
    "outputId": "f16dee20-8a4e-4751-b9d4-fd7919bedaaf"
   },
   "outputs": [
    {
     "data": {
      "text/plain": [
       "dict_keys(['name', 'age', 'place'])"
      ]
     },
     "execution_count": 30,
     "metadata": {},
     "output_type": "execute_result"
    }
   ],
   "source": [
    "my_dict.keys()"
   ]
  },
  {
   "cell_type": "code",
   "execution_count": null,
   "metadata": {
    "colab": {
     "base_uri": "https://localhost:8080/"
    },
    "executionInfo": {
     "elapsed": 299,
     "status": "ok",
     "timestamp": 1693409311503,
     "user": {
      "displayName": "manish pandey",
      "userId": "09782073510778073535"
     },
     "user_tz": -330
    },
    "id": "ipfrfZvADTtV",
    "outputId": "640c985c-459c-4fe9-a757-aa75b60173e8"
   },
   "outputs": [
    {
     "data": {
      "text/plain": [
       "{'name': 'Manish', 'age': 32}"
      ]
     },
     "execution_count": 27,
     "metadata": {},
     "output_type": "execute_result"
    }
   ],
   "source": [
    "#Dictionary Comprehension\n",
    "{key:value for key,value in my_dict.items() if key==\"age\" or key==\"name\"}"
   ]
  },
  {
   "cell_type": "markdown",
   "metadata": {
    "id": "SHMC0wMO07I7"
   },
   "source": [
    "**NEsted Dictionary**"
   ]
  },
  {
   "cell_type": "code",
   "execution_count": 89,
   "metadata": {
    "executionInfo": {
     "elapsed": 2,
     "status": "ok",
     "timestamp": 1740356784603,
     "user": {
      "displayName": "manish pandey",
      "userId": "09782073510778073535"
     },
     "user_tz": 300
    },
    "id": "17qbBhQt0-oJ"
   },
   "outputs": [],
   "source": [
    "carmodel1={\"MErcedes\":1960}\n",
    "carmodel2={\"Ambassador\":1998}"
   ]
  },
  {
   "cell_type": "code",
   "execution_count": 90,
   "metadata": {
    "executionInfo": {
     "elapsed": 10,
     "status": "ok",
     "timestamp": 1740356789725,
     "user": {
      "displayName": "manish pandey",
      "userId": "09782073510778073535"
     },
     "user_tz": 300
    },
    "id": "adltI55d1PuA"
   },
   "outputs": [],
   "source": [
    "new_dict={\"Car1\":carmodel1,\"Car2\":carmodel2}"
   ]
  },
  {
   "cell_type": "code",
   "execution_count": 91,
   "metadata": {
    "colab": {
     "base_uri": "https://localhost:8080/"
    },
    "executionInfo": {
     "elapsed": 41,
     "status": "ok",
     "timestamp": 1740356794120,
     "user": {
      "displayName": "manish pandey",
      "userId": "09782073510778073535"
     },
     "user_tz": 300
    },
    "id": "3LGjvQlW1ZGb",
    "outputId": "87b618b4-ee7a-438e-9265-3760c2c8765a"
   },
   "outputs": [
    {
     "data": {
      "text/plain": [
       "{'Car1': {'MErcedes': 1960}, 'Car2': {'Ambassador': 1998}}"
      ]
     },
     "execution_count": 91,
     "metadata": {},
     "output_type": "execute_result"
    }
   ],
   "source": [
    "new_dict"
   ]
  },
  {
   "cell_type": "code",
   "execution_count": null,
   "metadata": {
    "colab": {
     "base_uri": "https://localhost:8080/"
    },
    "executionInfo": {
     "elapsed": 322,
     "status": "ok",
     "timestamp": 1693170683967,
     "user": {
      "displayName": "manish pandey",
      "userId": "09782073510778073535"
     },
     "user_tz": 240
    },
    "id": "xCupNCHr1bCS",
    "outputId": "daa8c152-7a8c-4a1a-e502-f70918f822cc"
   },
   "outputs": [
    {
     "data": {
      "text/plain": [
       "1960"
      ]
     },
     "execution_count": 37,
     "metadata": {},
     "output_type": "execute_result"
    }
   ],
   "source": [
    "new_dict['Car1']['MErcedes']"
   ]
  },
  {
   "cell_type": "markdown",
   "metadata": {
    "id": "gx1oT9Ec1mjb"
   },
   "source": [
    "**Tuples**\n",
    "\n",
    "*Can't be assigned** *immutable*"
   ]
  },
  {
   "cell_type": "code",
   "execution_count": null,
   "metadata": {
    "id": "cBweyM0b2wJA"
   },
   "outputs": [],
   "source": [
    "tup=(\"Hello\",\"World\",\"Manish\",\"Manish\")"
   ]
  },
  {
   "cell_type": "code",
   "execution_count": null,
   "metadata": {
    "colab": {
     "base_uri": "https://localhost:8080/",
     "height": 35
    },
    "executionInfo": {
     "elapsed": 242,
     "status": "ok",
     "timestamp": 1694537625744,
     "user": {
      "displayName": "manish pandey",
      "userId": "09782073510778073535"
     },
     "user_tz": 240
    },
    "id": "dz3YAh4i22Jn",
    "outputId": "372f04c0-a684-43aa-ac63-ca64490dec02"
   },
   "outputs": [
    {
     "data": {
      "application/vnd.google.colaboratory.intrinsic+json": {
       "type": "string"
      },
      "text/plain": [
       "'Hello'"
      ]
     },
     "execution_count": 24,
     "metadata": {},
     "output_type": "execute_result"
    }
   ],
   "source": [
    "tup[0] ##can be indexed"
   ]
  },
  {
   "cell_type": "code",
   "execution_count": null,
   "metadata": {
    "colab": {
     "base_uri": "https://localhost:8080/",
     "height": 176
    },
    "executionInfo": {
     "elapsed": 233,
     "status": "error",
     "timestamp": 1694537647069,
     "user": {
      "displayName": "manish pandey",
      "userId": "09782073510778073535"
     },
     "user_tz": 240
    },
    "id": "2pCUeRS1UFe2",
    "outputId": "f77c0c8b-bd67-4fb2-bade-6f371cb8288c"
   },
   "outputs": [
    {
     "ename": "TypeError",
     "evalue": "ignored",
     "output_type": "error",
     "traceback": [
      "\u001b[0;31m---------------------------------------------------------------------------\u001b[0m",
      "\u001b[0;31mTypeError\u001b[0m                                 Traceback (most recent call last)",
      "\u001b[0;32m<ipython-input-25-38c4ac8d10ec>\u001b[0m in \u001b[0;36m<cell line: 1>\u001b[0;34m()\u001b[0m\n\u001b[0;32m----> 1\u001b[0;31m \u001b[0mtup\u001b[0m\u001b[0;34m[\u001b[0m\u001b[0;36m0\u001b[0m\u001b[0;34m]\u001b[0m\u001b[0;34m=\u001b[0m\u001b[0;34m'JH'\u001b[0m\u001b[0;34m\u001b[0m\u001b[0;34m\u001b[0m\u001b[0m\n\u001b[0m",
      "\u001b[0;31mTypeError\u001b[0m: 'tuple' object does not support item assignment"
     ]
    }
   ],
   "source": [
    "tup[0]='JH' ##Immutable"
   ]
  },
  {
   "cell_type": "code",
   "execution_count": null,
   "metadata": {
    "colab": {
     "base_uri": "https://localhost:8080/"
    },
    "executionInfo": {
     "elapsed": 204,
     "status": "ok",
     "timestamp": 1694537655540,
     "user": {
      "displayName": "manish pandey",
      "userId": "09782073510778073535"
     },
     "user_tz": 240
    },
    "id": "M79Tb-aD3J0y",
    "outputId": "0fb3c455-f88f-447e-ba96-2e95f4fb81ad"
   },
   "outputs": [
    {
     "data": {
      "text/plain": [
       "2"
      ]
     },
     "execution_count": 26,
     "metadata": {},
     "output_type": "execute_result"
    }
   ],
   "source": [
    "tup.count(\"Manish\") ##No of times the element comes in the tuple"
   ]
  },
  {
   "cell_type": "code",
   "execution_count": null,
   "metadata": {
    "colab": {
     "base_uri": "https://localhost:8080/"
    },
    "executionInfo": {
     "elapsed": 141,
     "status": "ok",
     "timestamp": 1693171320465,
     "user": {
      "displayName": "manish pandey",
      "userId": "09782073510778073535"
     },
     "user_tz": 240
    },
    "id": "gQgnrpcc3r90",
    "outputId": "685f23d8-e4de-48c9-e6b0-2ca81c311eff"
   },
   "outputs": [
    {
     "data": {
      "text/plain": [
       "2"
      ]
     },
     "execution_count": 56,
     "metadata": {},
     "output_type": "execute_result"
    }
   ],
   "source": [
    "tup.index(\"Manish\") #Tells the first index of the element"
   ]
  },
  {
   "cell_type": "markdown",
   "metadata": {
    "id": "cfTrkaKZ7yJU"
   },
   "source": [
    "**ZIP Function**\n",
    "\n",
    "*It's a iterator*\n",
    "\n",
    "*It is used to iterate multiple iterables in parallel*\n"
   ]
  },
  {
   "cell_type": "code",
   "execution_count": null,
   "metadata": {
    "id": "gjBCHiIM79iE"
   },
   "outputs": [],
   "source": [
    "list1=[\"Manish\",\"Savita\",\"Avi\"]    ## The iterables to zip should be of same length otherwise it will drop the extra value\n",
    "list2=[\"Rocket\",\"Studio\",\"Gupta\"]"
   ]
  },
  {
   "cell_type": "code",
   "execution_count": null,
   "metadata": {
    "id": "ZtysAhka87kC"
   },
   "outputs": [],
   "source": [
    "output =zip(list1,list2)"
   ]
  },
  {
   "cell_type": "code",
   "execution_count": null,
   "metadata": {
    "colab": {
     "base_uri": "https://localhost:8080/"
    },
    "executionInfo": {
     "elapsed": 199,
     "status": "ok",
     "timestamp": 1693172648418,
     "user": {
      "displayName": "manish pandey",
      "userId": "09782073510778073535"
     },
     "user_tz": 240
    },
    "id": "4PP1TLmL8_cJ",
    "outputId": "00019218-a1e8-45f0-f7b1-b71dae5733cb"
   },
   "outputs": [
    {
     "name": "stdout",
     "output_type": "stream",
     "text": [
      "Manish Rocket\n",
      "Savita Studio\n",
      "Avi Gupta\n"
     ]
    }
   ],
   "source": [
    "for i,j in output:\n",
    "  print(i,j)"
   ]
  },
  {
   "cell_type": "code",
   "execution_count": null,
   "metadata": {
    "colab": {
     "base_uri": "https://localhost:8080/"
    },
    "executionInfo": {
     "elapsed": 24,
     "status": "ok",
     "timestamp": 1740357790557,
     "user": {
      "displayName": "manish pandey",
      "userId": "09782073510778073535"
     },
     "user_tz": 300
    },
    "id": "XtcG97JwqvYY",
    "outputId": "b6fd80fb-a760-46aa-9fd8-7facd5d23ec7"
   },
   "outputs": [
    {
     "name": "stdout",
     "output_type": "stream",
     "text": [
      "0\n",
      "1\n",
      "1\n",
      "2\n",
      "3\n",
      "5\n",
      "8\n",
      "13\n",
      "21\n",
      "34\n",
      "55\n",
      "89\n",
      "144\n",
      "233\n",
      "377\n",
      "610\n",
      "987\n",
      "1597\n",
      "2584\n",
      "4181\n"
     ]
    }
   ],
   "source": [
    "##Fibonacci series\n",
    "\n",
    "def fibon(num):\n",
    "  a=0\n",
    "  b=1\n",
    "  for i  in range(num):\n",
    "    yield a\n",
    "    temp=a\n",
    "    a=b\n",
    "    b=temp + b\n",
    "\n",
    "for i in fibon(20):\n",
    "  print(i)\n",
    "\n",
    "\n"
   ]
  },
  {
   "cell_type": "code",
   "execution_count": null,
   "metadata": {
    "colab": {
     "base_uri": "https://localhost:8080/"
    },
    "executionInfo": {
     "elapsed": 5,
     "status": "ok",
     "timestamp": 1693795797537,
     "user": {
      "displayName": "manish pandey",
      "userId": "09782073510778073535"
     },
     "user_tz": 240
    },
    "id": "3lDpW3MTGJyF",
    "outputId": "4d124bea-478c-46b2-b35a-9cf9e77072e6"
   },
   "outputs": [
    {
     "name": "stdout",
     "output_type": "stream",
     "text": [
      "0\n"
     ]
    }
   ],
   "source": [
    "print(next(fibon(10)))"
   ]
  },
  {
   "cell_type": "code",
   "execution_count": 97,
   "metadata": {
    "executionInfo": {
     "elapsed": 9,
     "status": "ok",
     "timestamp": 1740357042228,
     "user": {
      "displayName": "manish pandey",
      "userId": "09782073510778073535"
     },
     "user_tz": 300
    },
    "id": "Cg-IJ32wThio"
   },
   "outputs": [],
   "source": [
    "##Gloal and Local variable\n",
    "\n",
    "x=15\n",
    "def parent():\n",
    "  x=5\n",
    "  def child():\n",
    "    #nonlocal x #override the value x=5 in the parent scope and will print 10 from the local scope\n",
    "    #x=10\n",
    "    print(x)\n",
    "  child()\n",
    "  print(x)"
   ]
  },
  {
   "cell_type": "code",
   "execution_count": 98,
   "metadata": {
    "colab": {
     "base_uri": "https://localhost:8080/"
    },
    "executionInfo": {
     "elapsed": 16,
     "status": "ok",
     "timestamp": 1740357044278,
     "user": {
      "displayName": "manish pandey",
      "userId": "09782073510778073535"
     },
     "user_tz": 300
    },
    "id": "X-_ZFqyPTu-3",
    "outputId": "145ee8ab-e25a-40f4-ba64-e5879dde1cc0"
   },
   "outputs": [
    {
     "name": "stdout",
     "output_type": "stream",
     "text": [
      "5\n",
      "5\n",
      "15\n"
     ]
    }
   ],
   "source": [
    "parent()\n",
    "print(x)\n"
   ]
  }
 ],
 "metadata": {
  "colab": {
   "authorship_tag": "ABX9TyNpnDZ5hk/kahZfw5Tluni5",
   "provenance": []
  },
  "kernelspec": {
   "display_name": ".venv",
   "language": "python",
   "name": "python3"
  },
  "language_info": {
   "codemirror_mode": {
    "name": "ipython",
    "version": 3
   },
   "file_extension": ".py",
   "mimetype": "text/x-python",
   "name": "python",
   "nbconvert_exporter": "python",
   "pygments_lexer": "ipython3",
   "version": "3.12.3"
  }
 },
 "nbformat": 4,
 "nbformat_minor": 0
}
